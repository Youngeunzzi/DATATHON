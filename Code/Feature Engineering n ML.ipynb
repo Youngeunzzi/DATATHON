{
 "cells": [
  {
   "cell_type": "code",
   "execution_count": 1,
   "metadata": {},
   "outputs": [
    {
     "name": "stderr",
     "output_type": "stream",
     "text": [
      "c:\\Users\\lynn9\\AppData\\Local\\Programs\\Python\\Python39\\lib\\site-packages\\dask\\dataframe\\__init__.py:42: FutureWarning: \n",
      "Dask dataframe query planning is disabled because dask-expr is not installed.\n",
      "\n",
      "You can install it with `pip install dask[dataframe]` or `conda install dask`.\n",
      "This will raise in a future version.\n",
      "\n",
      "  warnings.warn(msg, FutureWarning)\n"
     ]
    }
   ],
   "source": [
    "# 데이터 처리, 모델 구축, 시각화를 위한 주요 라이브러리 및 모듈을 불러옵니다.\n",
    "import gc  # Python의 가비지 컬렉터 관련 모듈로, 메모리 관리를 위해 객체 삭제를 명시적으로 제어할 수 있습니다.\n",
    "import itertools  # 반복 가능한 객체로부터 조합, 순열 등 다양한 반복자를 생성하는 유틸리티 모듈입니다.\n",
    "import matplotlib.pyplot as plt  # 정적/애니메이션/인터랙티브 시각화를 지원하는 matplotlib의 핵심 시각화 도구입니다.\n",
    "import numpy as np  # 다차원 배열과 행렬 연산, 다양한 수학 함수 제공을 위한 수치 계산 라이브러리입니다.\n",
    "import pandas as pd  # 데이터 프레임과 시리즈 객체를 기반으로 한 데이터 분석용 라이브러리입니다.\n",
    "import seaborn as sns  # matplotlib을 기반으로 한 고급 통계 시각화 라이브러리입니다.\n",
    "import os  # 운영체제와 상호작용하기 위한 모듈로, 파일 경로 탐색 등 OS 의존 기능을 지원합니다.\n",
    "import xgboost  # 머신러닝용 XGBoost 라이브러리 (주로 회귀, 분류, 랭킹에 사용).\n",
    "import warnings  # 경고 메시지 필터링 및 제어를 위한 모듈입니다.\n",
    "import lightgbm as lgbm  # LightGBM: 그래디언트 부스팅 기반 머신러닝 프레임워크입니다.\n",
    "import lightgbm as lgb  # LightGBM을 다른 별칭으로 중복 임포트 (보통은 하나만 임포트해도 충분합니다).\n",
    "import ctypes  # C 언어 호환 데이터 타입을 사용하거나 외부 DLL/공유 라이브러리 호출 시 사용되는 모듈입니다.\n",
    "from sklearn.linear_model import LinearRegression  # 선형 회귀 모델을 구현하는 클래스입니다.\n",
    "\n",
    "warnings.filterwarnings(\"ignore\")  # 경고 메시지를 무시하여 출력 결과가 지저분하지 않도록 설정합니다."
   ]
  },
  {
   "cell_type": "code",
   "execution_count": 2,
   "metadata": {},
   "outputs": [],
   "source": [
    "# 쥬피터 노트북용 데이터 불러오기\n",
    "df_train = pd.read_csv('C:/Users/lynn9/Desktop/data/sales_train.csv')\n",
    "df_categories = pd.read_csv(\"C:/Users/lynn9/Desktop/data/item_categories.csv\")\n",
    "df_items = pd.read_csv(\"C:/Users/lynn9/Desktop/data/items-translated.csv\", encoding='cp1252') # 번역 후 파일을 input 폴더에 올려두었습니다. 파일명: items_translated\n",
    "df_shops = pd.read_csv(\"C:/Users/lynn9/Desktop/data/shops_graded.csv\", encoding='cp1252') # ML코드에서는 shop_grade 컬럼을 사용하지 않아 버전2 업데이트 하지 않았습니다.\n",
    "df_test = pd.read_csv(\"C:/Users/lynn9/Desktop/data/test.csv\")\n",
    "calendar = pd.read_csv(\"C:/Users/lynn9/Desktop/data/calendar.csv\")"
   ]
  },
  {
   "cell_type": "code",
   "execution_count": 3,
   "metadata": {},
   "outputs": [],
   "source": [
    "# 데이터 병합\n",
    "df_train['date'] = pd.to_datetime(df_train['date'], format='%d.%m.%Y')\n",
    "calendar['date'] = pd.to_datetime(calendar['date'])\n",
    "\n",
    "df_train = pd.merge(df_train, df_items, on='item_id', how='inner')\n",
    "df_train = pd.merge(df_train, df_categories, on='item_category_id', how='inner')\n",
    "df_train = pd.merge(df_train, df_shops, on='shop_id', how='inner')\n",
    "df_test = pd.merge(df_test, df_items, on='item_id', how='inner')\n",
    "df_test = pd.merge(df_test, df_categories, on='item_category_id', how='inner')\n",
    "df_test = pd.merge(df_test, df_shops, on='shop_id', how='inner')\n",
    "df_train = pd.merge(df_train, calendar, on='date', how='left')"
   ]
  },
  {
   "cell_type": "code",
   "execution_count": 4,
   "metadata": {},
   "outputs": [],
   "source": [
    "# category, shop 중분류 추가 (12초 소요)\n",
    "df_train['city'] = df_train['shop_name'].str.split(' ').str[0]\n",
    "df_train['sub_category'] = df_train['item_category_name'].str.split(' ').str[0]\n",
    "\n",
    "# 중분류명 정리 → 13개\n",
    "df_train['sub_category'] = df_train['sub_category'].replace({'Pure' : 'Carrier', 'Clean' : 'Carrier', 'Elements': 'Batteries', 'Payment' : 'Gift Card', 'Service' : 'Tickets', 'Android' : 'Games', 'Mac' : 'Games', 'Game' : 'Games'})\n",
    "\n",
    "# city명 정리\n",
    "df_train['city'] = df_train['city'].replace({'!' : 'Yakutsk', 'Exit' : 'Other', 'N.' : 'NizhnyNovgorod', 'SPb' : 'SanktPetersburg', 'Digital' : 'Online'})\n",
    "\n",
    "# 원화 추가\n",
    "df_train['total_amount'] = df_train['item_price'] * df_train['item_cnt_day'] # 판매 금액\n",
    "df_train['krw_amount'] = df_train['total_amount'] * 18 # 국내 보고용 원화 표시, krw_amount로 표시\n",
    "df_train = df_train.rename({'total_amount':'rub_amount'}, axis = 1)  # 기존 판매금액은 rub_amount로 표시"
   ]
  },
  {
   "cell_type": "code",
   "execution_count": 5,
   "metadata": {},
   "outputs": [],
   "source": [
    "# date 관련 컬럼 추가 # 보고용이므로 예측에는 불필요 시 사용하지 않아도 됩니다. (7초 소요)\n",
    "# df_train['date'] = pd.to_datetime(df_train['date'], format='%d.%m.%Y') (merge 직전에 완료)\n",
    "df_train['year'] =  pd.to_datetime(df_train['date']).apply(lambda x : x.year)\n",
    "df_train['month'] = pd.to_datetime(df_train['date']).apply(lambda x : x.month)\n",
    "df_train['day'] = pd.to_datetime(df_train['date']).apply(lambda x : x.day)\n",
    "df_train['year_month'] = df_train['date'].dt.to_period('M')"
   ]
  },
  {
   "cell_type": "code",
   "execution_count": 6,
   "metadata": {},
   "outputs": [
    {
     "data": {
      "text/html": [
       "<div>\n",
       "<style scoped>\n",
       "    .dataframe tbody tr th:only-of-type {\n",
       "        vertical-align: middle;\n",
       "    }\n",
       "\n",
       "    .dataframe tbody tr th {\n",
       "        vertical-align: top;\n",
       "    }\n",
       "\n",
       "    .dataframe thead th {\n",
       "        text-align: right;\n",
       "    }\n",
       "</style>\n",
       "<table border=\"1\" class=\"dataframe\">\n",
       "  <thead>\n",
       "    <tr style=\"text-align: right;\">\n",
       "      <th></th>\n",
       "      <th>date</th>\n",
       "      <th>date_block_num</th>\n",
       "      <th>shop_id</th>\n",
       "      <th>item_id</th>\n",
       "      <th>item_price</th>\n",
       "      <th>item_cnt_day</th>\n",
       "      <th>item_name_translated</th>\n",
       "      <th>item_category_id</th>\n",
       "      <th>item_category_name</th>\n",
       "      <th>shop_name</th>\n",
       "      <th>...</th>\n",
       "      <th>holiday</th>\n",
       "      <th>weekend</th>\n",
       "      <th>city</th>\n",
       "      <th>sub_category</th>\n",
       "      <th>rub_amount</th>\n",
       "      <th>krw_amount</th>\n",
       "      <th>year</th>\n",
       "      <th>month</th>\n",
       "      <th>day</th>\n",
       "      <th>year_month</th>\n",
       "    </tr>\n",
       "  </thead>\n",
       "  <tbody>\n",
       "    <tr>\n",
       "      <th>76962</th>\n",
       "      <td>2013-01-05</td>\n",
       "      <td>0</td>\n",
       "      <td>54</td>\n",
       "      <td>20130</td>\n",
       "      <td>149.0</td>\n",
       "      <td>1.0</td>\n",
       "      <td>SCIENTIFIC CHARODEA (region)</td>\n",
       "      <td>40</td>\n",
       "      <td>Cinema - DVD</td>\n",
       "      <td>Khimki shopping center \"mega\"</td>\n",
       "      <td>...</td>\n",
       "      <td>0</td>\n",
       "      <td>1</td>\n",
       "      <td>Khimki</td>\n",
       "      <td>Cinema</td>\n",
       "      <td>149.0</td>\n",
       "      <td>2682.0</td>\n",
       "      <td>2013</td>\n",
       "      <td>1</td>\n",
       "      <td>5</td>\n",
       "      <td>2013-01</td>\n",
       "    </tr>\n",
       "    <tr>\n",
       "      <th>1435367</th>\n",
       "      <td>2014-02-23</td>\n",
       "      <td>13</td>\n",
       "      <td>50</td>\n",
       "      <td>3423</td>\n",
       "      <td>999.0</td>\n",
       "      <td>1.0</td>\n",
       "      <td>Far Cry 3 (Classics) [Xbox 360, Russian version]</td>\n",
       "      <td>23</td>\n",
       "      <td>Games - Xbox 360</td>\n",
       "      <td>Tyumen TEC \"Goodwin\"</td>\n",
       "      <td>...</td>\n",
       "      <td>1</td>\n",
       "      <td>1</td>\n",
       "      <td>Tyumen</td>\n",
       "      <td>Games</td>\n",
       "      <td>999.0</td>\n",
       "      <td>17982.0</td>\n",
       "      <td>2014</td>\n",
       "      <td>2</td>\n",
       "      <td>23</td>\n",
       "      <td>2014-02</td>\n",
       "    </tr>\n",
       "    <tr>\n",
       "      <th>1496766</th>\n",
       "      <td>2014-03-23</td>\n",
       "      <td>14</td>\n",
       "      <td>21</td>\n",
       "      <td>3423</td>\n",
       "      <td>999.0</td>\n",
       "      <td>1.0</td>\n",
       "      <td>Far Cry 3 (Classics) [Xbox 360, Russian version]</td>\n",
       "      <td>23</td>\n",
       "      <td>Games - Xbox 360</td>\n",
       "      <td>Moscow MTRC \"Afers Mall\"</td>\n",
       "      <td>...</td>\n",
       "      <td>0</td>\n",
       "      <td>1</td>\n",
       "      <td>Moscow</td>\n",
       "      <td>Games</td>\n",
       "      <td>999.0</td>\n",
       "      <td>17982.0</td>\n",
       "      <td>2014</td>\n",
       "      <td>3</td>\n",
       "      <td>23</td>\n",
       "      <td>2014-03</td>\n",
       "    </tr>\n",
       "    <tr>\n",
       "      <th>1671873</th>\n",
       "      <td>2014-05-01</td>\n",
       "      <td>16</td>\n",
       "      <td>50</td>\n",
       "      <td>3423</td>\n",
       "      <td>999.0</td>\n",
       "      <td>1.0</td>\n",
       "      <td>Far Cry 3 (Classics) [Xbox 360, Russian version]</td>\n",
       "      <td>23</td>\n",
       "      <td>Games - Xbox 360</td>\n",
       "      <td>Tyumen TEC \"Goodwin\"</td>\n",
       "      <td>...</td>\n",
       "      <td>1</td>\n",
       "      <td>0</td>\n",
       "      <td>Tyumen</td>\n",
       "      <td>Games</td>\n",
       "      <td>999.0</td>\n",
       "      <td>17982.0</td>\n",
       "      <td>2014</td>\n",
       "      <td>5</td>\n",
       "      <td>1</td>\n",
       "      <td>2014-05</td>\n",
       "    </tr>\n",
       "    <tr>\n",
       "      <th>1866340</th>\n",
       "      <td>2014-07-12</td>\n",
       "      <td>18</td>\n",
       "      <td>25</td>\n",
       "      <td>3423</td>\n",
       "      <td>999.0</td>\n",
       "      <td>1.0</td>\n",
       "      <td>Far Cry 3 (Classics) [Xbox 360, Russian version]</td>\n",
       "      <td>23</td>\n",
       "      <td>Games - Xbox 360</td>\n",
       "      <td>Moscow TRK \"Atrium\"</td>\n",
       "      <td>...</td>\n",
       "      <td>0</td>\n",
       "      <td>1</td>\n",
       "      <td>Moscow</td>\n",
       "      <td>Games</td>\n",
       "      <td>999.0</td>\n",
       "      <td>17982.0</td>\n",
       "      <td>2014</td>\n",
       "      <td>7</td>\n",
       "      <td>12</td>\n",
       "      <td>2014-07</td>\n",
       "    </tr>\n",
       "    <tr>\n",
       "      <th>2198566</th>\n",
       "      <td>2014-12-31</td>\n",
       "      <td>23</td>\n",
       "      <td>42</td>\n",
       "      <td>21619</td>\n",
       "      <td>499.0</td>\n",
       "      <td>1.0</td>\n",
       "      <td>THE MAN OF RAIN (BD)</td>\n",
       "      <td>37</td>\n",
       "      <td>Cinema - Blu -Ray</td>\n",
       "      <td>SPb TK \"Nevsky Center\"</td>\n",
       "      <td>...</td>\n",
       "      <td>0</td>\n",
       "      <td>0</td>\n",
       "      <td>SanktPetersburg</td>\n",
       "      <td>Cinema</td>\n",
       "      <td>499.0</td>\n",
       "      <td>8982.0</td>\n",
       "      <td>2014</td>\n",
       "      <td>12</td>\n",
       "      <td>31</td>\n",
       "      <td>2014-12</td>\n",
       "    </tr>\n",
       "  </tbody>\n",
       "</table>\n",
       "<p>6 rows × 21 columns</p>\n",
       "</div>"
      ],
      "text/plain": [
       "              date  date_block_num  shop_id  item_id  item_price  \\\n",
       "76962   2013-01-05               0       54    20130       149.0   \n",
       "1435367 2014-02-23              13       50     3423       999.0   \n",
       "1496766 2014-03-23              14       21     3423       999.0   \n",
       "1671873 2014-05-01              16       50     3423       999.0   \n",
       "1866340 2014-07-12              18       25     3423       999.0   \n",
       "2198566 2014-12-31              23       42    21619       499.0   \n",
       "\n",
       "         item_cnt_day                              item_name_translated  \\\n",
       "76962             1.0                      SCIENTIFIC CHARODEA (region)   \n",
       "1435367           1.0  Far Cry 3 (Classics) [Xbox 360, Russian version]   \n",
       "1496766           1.0  Far Cry 3 (Classics) [Xbox 360, Russian version]   \n",
       "1671873           1.0  Far Cry 3 (Classics) [Xbox 360, Russian version]   \n",
       "1866340           1.0  Far Cry 3 (Classics) [Xbox 360, Russian version]   \n",
       "2198566           1.0                              THE MAN OF RAIN (BD)   \n",
       "\n",
       "         item_category_id item_category_name                      shop_name  \\\n",
       "76962                  40       Cinema - DVD  Khimki shopping center \"mega\"   \n",
       "1435367                23   Games - Xbox 360           Tyumen TEC \"Goodwin\"   \n",
       "1496766                23   Games - Xbox 360       Moscow MTRC \"Afers Mall\"   \n",
       "1671873                23   Games - Xbox 360           Tyumen TEC \"Goodwin\"   \n",
       "1866340                23   Games - Xbox 360            Moscow TRK \"Atrium\"   \n",
       "2198566                37  Cinema - Blu -Ray         SPb TK \"Nevsky Center\"   \n",
       "\n",
       "         ... holiday  weekend             city sub_category rub_amount  \\\n",
       "76962    ...       0        1           Khimki       Cinema      149.0   \n",
       "1435367  ...       1        1           Tyumen        Games      999.0   \n",
       "1496766  ...       0        1           Moscow        Games      999.0   \n",
       "1671873  ...       1        0           Tyumen        Games      999.0   \n",
       "1866340  ...       0        1           Moscow        Games      999.0   \n",
       "2198566  ...       0        0  SanktPetersburg       Cinema      499.0   \n",
       "\n",
       "         krw_amount  year  month  day  year_month  \n",
       "76962        2682.0  2013      1    5     2013-01  \n",
       "1435367     17982.0  2014      2   23     2014-02  \n",
       "1496766     17982.0  2014      3   23     2014-03  \n",
       "1671873     17982.0  2014      5    1     2014-05  \n",
       "1866340     17982.0  2014      7   12     2014-07  \n",
       "2198566      8982.0  2014     12   31     2014-12  \n",
       "\n",
       "[6 rows x 21 columns]"
      ]
     },
     "execution_count": 6,
     "metadata": {},
     "output_type": "execute_result"
    }
   ],
   "source": [
    "df_train[df_train.duplicated() == True]"
   ]
  },
  {
   "cell_type": "code",
   "execution_count": 7,
   "metadata": {},
   "outputs": [],
   "source": [
    "# 중복 제거 # 6개 건\n",
    "df_train.drop_duplicates(inplace=True)"
   ]
  },
  {
   "cell_type": "code",
   "execution_count": null,
   "metadata": {},
   "outputs": [],
   "source": [
    "# df_train"
   ]
  },
  {
   "cell_type": "code",
   "execution_count": 8,
   "metadata": {},
   "outputs": [
    {
     "data": {
      "text/html": [
       "<div>\n",
       "<style scoped>\n",
       "    .dataframe tbody tr th:only-of-type {\n",
       "        vertical-align: middle;\n",
       "    }\n",
       "\n",
       "    .dataframe tbody tr th {\n",
       "        vertical-align: top;\n",
       "    }\n",
       "\n",
       "    .dataframe thead th {\n",
       "        text-align: right;\n",
       "    }\n",
       "</style>\n",
       "<table border=\"1\" class=\"dataframe\">\n",
       "  <thead>\n",
       "    <tr style=\"text-align: right;\">\n",
       "      <th></th>\n",
       "      <th>ID</th>\n",
       "      <th>shop_id</th>\n",
       "      <th>item_id</th>\n",
       "    </tr>\n",
       "  </thead>\n",
       "  <tbody>\n",
       "    <tr>\n",
       "      <th>0</th>\n",
       "      <td>0</td>\n",
       "      <td>5</td>\n",
       "      <td>5037</td>\n",
       "    </tr>\n",
       "    <tr>\n",
       "      <th>1</th>\n",
       "      <td>1</td>\n",
       "      <td>5</td>\n",
       "      <td>5320</td>\n",
       "    </tr>\n",
       "    <tr>\n",
       "      <th>2</th>\n",
       "      <td>2</td>\n",
       "      <td>5</td>\n",
       "      <td>5233</td>\n",
       "    </tr>\n",
       "    <tr>\n",
       "      <th>3</th>\n",
       "      <td>3</td>\n",
       "      <td>5</td>\n",
       "      <td>5232</td>\n",
       "    </tr>\n",
       "    <tr>\n",
       "      <th>4</th>\n",
       "      <td>4</td>\n",
       "      <td>5</td>\n",
       "      <td>5268</td>\n",
       "    </tr>\n",
       "  </tbody>\n",
       "</table>\n",
       "</div>"
      ],
      "text/plain": [
       "   ID  shop_id  item_id\n",
       "0   0        5     5037\n",
       "1   1        5     5320\n",
       "2   2        5     5233\n",
       "3   3        5     5232\n",
       "4   4        5     5268"
      ]
     },
     "execution_count": 8,
     "metadata": {},
     "output_type": "execute_result"
    }
   ],
   "source": [
    "test = pd.read_csv('C:/Users/lynn9/Desktop/data/test.csv')\n",
    "test.head()"
   ]
  },
  {
   "cell_type": "code",
   "execution_count": 9,
   "metadata": {},
   "outputs": [],
   "source": [
    "data = df_train.copy()"
   ]
  },
  {
   "cell_type": "code",
   "execution_count": null,
   "metadata": {},
   "outputs": [],
   "source": [
    "# data"
   ]
  },
  {
   "cell_type": "code",
   "execution_count": 10,
   "metadata": {},
   "outputs": [],
   "source": [
    "data = data.drop(['shop_name', 'item_name_translated', 'item_category_name'], axis=1)\n",
    "# 해당 컬럼들은 각 id컬럼과 1대1 매칭이므로 둘 중 하나는 제거"
   ]
  },
  {
   "cell_type": "code",
   "execution_count": 11,
   "metadata": {},
   "outputs": [
    {
     "data": {
      "image/png": "[encoded data removed]",
      "text/plain": [
       "<Figure size 640x480 with 1 Axes>"
      ]
     },
     "metadata": {},
     "output_type": "display_data"
    }
   ],
   "source": [
    "import seaborn as sns\n",
    "import matplotlib as mpl\n",
    "import matplotlib.pyplot as plt\n",
    "%matplotlib inline\n",
    "\n",
    "sns.boxplot(y='item_cnt_day', data=data);\n",
    "plt.show()"
   ]
  },
  {
   "cell_type": "code",
   "execution_count": 12,
   "metadata": {},
   "outputs": [
    {
     "data": {
      "image/png": "[encoded data removed]",
      "text/plain": [
       "<Figure size 640x480 with 1 Axes>"
      ]
     },
     "metadata": {},
     "output_type": "display_data"
    }
   ],
   "source": [
    "sns.boxplot(y='item_price', data=data);\n",
    "plt.show()"
   ]
  },
  {
   "cell_type": "markdown",
   "metadata": {},
   "source": [
    "## 이상치 제거"
   ]
  },
  {
   "cell_type": "code",
   "execution_count": 13,
   "metadata": {},
   "outputs": [
    {
     "name": "stdout",
     "output_type": "stream",
     "text": [
      "(2935840, 18)\n"
     ]
    }
   ],
   "source": [
    "# 이상치 조건에 해당하는 행들 인덱스 추출\n",
    "outlier_condition = (data['item_cnt_day'] >= 1000) | (data['item_price'] >= 100000)\n",
    "\n",
    "# 이상치가 아닌 데이터만 필터링\n",
    "data_cleaned = data[~outlier_condition].copy()\n",
    "print(data_cleaned.shape)"
   ]
  },
  {
   "cell_type": "markdown",
   "metadata": {},
   "source": [
    "## 결측치 확인"
   ]
  },
  {
   "cell_type": "code",
   "execution_count": 14,
   "metadata": {},
   "outputs": [
    {
     "data": {
      "text/plain": [
       "date                0\n",
       "date_block_num      0\n",
       "shop_id             0\n",
       "item_id             0\n",
       "item_price          0\n",
       "item_cnt_day        0\n",
       "item_category_id    0\n",
       "shop_grade          0\n",
       "holiday             0\n",
       "weekend             0\n",
       "city                0\n",
       "sub_category        0\n",
       "rub_amount          0\n",
       "krw_amount          0\n",
       "year                0\n",
       "month               0\n",
       "day                 0\n",
       "year_month          0\n",
       "dtype: int64"
      ]
     },
     "execution_count": 14,
     "metadata": {},
     "output_type": "execute_result"
    }
   ],
   "source": [
    "data_cleaned.isna().sum() # 결측치 없음"
   ]
  },
  {
   "cell_type": "code",
   "execution_count": 15,
   "metadata": {},
   "outputs": [
    {
     "data": {
      "text/html": [
       "<div>\n",
       "<style scoped>\n",
       "    .dataframe tbody tr th:only-of-type {\n",
       "        vertical-align: middle;\n",
       "    }\n",
       "\n",
       "    .dataframe tbody tr th {\n",
       "        vertical-align: top;\n",
       "    }\n",
       "\n",
       "    .dataframe thead th {\n",
       "        text-align: right;\n",
       "    }\n",
       "</style>\n",
       "<table border=\"1\" class=\"dataframe\">\n",
       "  <thead>\n",
       "    <tr style=\"text-align: right;\">\n",
       "      <th></th>\n",
       "      <th>date_block_num</th>\n",
       "      <th>item_cnt_day</th>\n",
       "    </tr>\n",
       "  </thead>\n",
       "  <tbody>\n",
       "    <tr>\n",
       "      <th>0</th>\n",
       "      <td>0</td>\n",
       "      <td>131478.0</td>\n",
       "    </tr>\n",
       "    <tr>\n",
       "      <th>1</th>\n",
       "      <td>1</td>\n",
       "      <td>128090.0</td>\n",
       "    </tr>\n",
       "    <tr>\n",
       "      <th>2</th>\n",
       "      <td>2</td>\n",
       "      <td>147142.0</td>\n",
       "    </tr>\n",
       "    <tr>\n",
       "      <th>3</th>\n",
       "      <td>3</td>\n",
       "      <td>107190.0</td>\n",
       "    </tr>\n",
       "    <tr>\n",
       "      <th>4</th>\n",
       "      <td>4</td>\n",
       "      <td>106970.0</td>\n",
       "    </tr>\n",
       "    <tr>\n",
       "      <th>5</th>\n",
       "      <td>5</td>\n",
       "      <td>125381.0</td>\n",
       "    </tr>\n",
       "    <tr>\n",
       "      <th>6</th>\n",
       "      <td>6</td>\n",
       "      <td>116966.0</td>\n",
       "    </tr>\n",
       "    <tr>\n",
       "      <th>7</th>\n",
       "      <td>7</td>\n",
       "      <td>125291.0</td>\n",
       "    </tr>\n",
       "    <tr>\n",
       "      <th>8</th>\n",
       "      <td>8</td>\n",
       "      <td>133332.0</td>\n",
       "    </tr>\n",
       "    <tr>\n",
       "      <th>9</th>\n",
       "      <td>9</td>\n",
       "      <td>127541.0</td>\n",
       "    </tr>\n",
       "    <tr>\n",
       "      <th>10</th>\n",
       "      <td>10</td>\n",
       "      <td>130009.0</td>\n",
       "    </tr>\n",
       "    <tr>\n",
       "      <th>11</th>\n",
       "      <td>11</td>\n",
       "      <td>183341.0</td>\n",
       "    </tr>\n",
       "    <tr>\n",
       "      <th>12</th>\n",
       "      <td>12</td>\n",
       "      <td>116899.0</td>\n",
       "    </tr>\n",
       "    <tr>\n",
       "      <th>13</th>\n",
       "      <td>13</td>\n",
       "      <td>109686.0</td>\n",
       "    </tr>\n",
       "    <tr>\n",
       "      <th>14</th>\n",
       "      <td>14</td>\n",
       "      <td>115296.0</td>\n",
       "    </tr>\n",
       "    <tr>\n",
       "      <th>15</th>\n",
       "      <td>15</td>\n",
       "      <td>96556.0</td>\n",
       "    </tr>\n",
       "    <tr>\n",
       "      <th>16</th>\n",
       "      <td>16</td>\n",
       "      <td>97789.0</td>\n",
       "    </tr>\n",
       "    <tr>\n",
       "      <th>17</th>\n",
       "      <td>17</td>\n",
       "      <td>97429.0</td>\n",
       "    </tr>\n",
       "    <tr>\n",
       "      <th>18</th>\n",
       "      <td>18</td>\n",
       "      <td>91279.0</td>\n",
       "    </tr>\n",
       "    <tr>\n",
       "      <th>19</th>\n",
       "      <td>19</td>\n",
       "      <td>102721.0</td>\n",
       "    </tr>\n",
       "    <tr>\n",
       "      <th>20</th>\n",
       "      <td>20</td>\n",
       "      <td>99208.0</td>\n",
       "    </tr>\n",
       "    <tr>\n",
       "      <th>21</th>\n",
       "      <td>21</td>\n",
       "      <td>107422.0</td>\n",
       "    </tr>\n",
       "    <tr>\n",
       "      <th>22</th>\n",
       "      <td>22</td>\n",
       "      <td>117845.0</td>\n",
       "    </tr>\n",
       "    <tr>\n",
       "      <th>23</th>\n",
       "      <td>23</td>\n",
       "      <td>168754.0</td>\n",
       "    </tr>\n",
       "    <tr>\n",
       "      <th>24</th>\n",
       "      <td>24</td>\n",
       "      <td>109971.0</td>\n",
       "    </tr>\n",
       "    <tr>\n",
       "      <th>25</th>\n",
       "      <td>25</td>\n",
       "      <td>84198.0</td>\n",
       "    </tr>\n",
       "    <tr>\n",
       "      <th>26</th>\n",
       "      <td>26</td>\n",
       "      <td>82014.0</td>\n",
       "    </tr>\n",
       "    <tr>\n",
       "      <th>27</th>\n",
       "      <td>27</td>\n",
       "      <td>77827.0</td>\n",
       "    </tr>\n",
       "    <tr>\n",
       "      <th>28</th>\n",
       "      <td>28</td>\n",
       "      <td>72295.0</td>\n",
       "    </tr>\n",
       "    <tr>\n",
       "      <th>29</th>\n",
       "      <td>29</td>\n",
       "      <td>64114.0</td>\n",
       "    </tr>\n",
       "    <tr>\n",
       "      <th>30</th>\n",
       "      <td>30</td>\n",
       "      <td>63187.0</td>\n",
       "    </tr>\n",
       "    <tr>\n",
       "      <th>31</th>\n",
       "      <td>31</td>\n",
       "      <td>66079.0</td>\n",
       "    </tr>\n",
       "    <tr>\n",
       "      <th>32</th>\n",
       "      <td>32</td>\n",
       "      <td>72843.0</td>\n",
       "    </tr>\n",
       "    <tr>\n",
       "      <th>33</th>\n",
       "      <td>33</td>\n",
       "      <td>68887.0</td>\n",
       "    </tr>\n",
       "  </tbody>\n",
       "</table>\n",
       "</div>"
      ],
      "text/plain": [
       "    date_block_num  item_cnt_day\n",
       "0                0      131478.0\n",
       "1                1      128090.0\n",
       "2                2      147142.0\n",
       "3                3      107190.0\n",
       "4                4      106970.0\n",
       "5                5      125381.0\n",
       "6                6      116966.0\n",
       "7                7      125291.0\n",
       "8                8      133332.0\n",
       "9                9      127541.0\n",
       "10              10      130009.0\n",
       "11              11      183341.0\n",
       "12              12      116899.0\n",
       "13              13      109686.0\n",
       "14              14      115296.0\n",
       "15              15       96556.0\n",
       "16              16       97789.0\n",
       "17              17       97429.0\n",
       "18              18       91279.0\n",
       "19              19      102721.0\n",
       "20              20       99208.0\n",
       "21              21      107422.0\n",
       "22              22      117845.0\n",
       "23              23      168754.0\n",
       "24              24      109971.0\n",
       "25              25       84198.0\n",
       "26              26       82014.0\n",
       "27              27       77827.0\n",
       "28              28       72295.0\n",
       "29              29       64114.0\n",
       "30              30       63187.0\n",
       "31              31       66079.0\n",
       "32              32       72843.0\n",
       "33              33       68887.0"
      ]
     },
     "execution_count": 15,
     "metadata": {},
     "output_type": "execute_result"
    }
   ],
   "source": [
    "# 그룹화하여 월별 월간 판매량\n",
    "group = data_cleaned.groupby('date_block_num').agg({'item_cnt_day': 'sum'})\n",
    "group.reset_index() # 인덱스 재설정"
   ]
  },
  {
   "cell_type": "code",
   "execution_count": 16,
   "metadata": {},
   "outputs": [
    {
     "data": {
      "text/html": [
       "<div>\n",
       "<style scoped>\n",
       "    .dataframe tbody tr th:only-of-type {\n",
       "        vertical-align: middle;\n",
       "    }\n",
       "\n",
       "    .dataframe tbody tr th {\n",
       "        vertical-align: top;\n",
       "    }\n",
       "\n",
       "    .dataframe thead th {\n",
       "        text-align: right;\n",
       "    }\n",
       "</style>\n",
       "<table border=\"1\" class=\"dataframe\">\n",
       "  <thead>\n",
       "    <tr style=\"text-align: right;\">\n",
       "      <th></th>\n",
       "      <th>date_block_num</th>\n",
       "      <th>shop_id</th>\n",
       "      <th>item_id</th>\n",
       "    </tr>\n",
       "  </thead>\n",
       "  <tbody>\n",
       "    <tr>\n",
       "      <th>0</th>\n",
       "      <td>0</td>\n",
       "      <td>59</td>\n",
       "      <td>22154</td>\n",
       "    </tr>\n",
       "    <tr>\n",
       "      <th>1</th>\n",
       "      <td>0</td>\n",
       "      <td>59</td>\n",
       "      <td>2552</td>\n",
       "    </tr>\n",
       "    <tr>\n",
       "      <th>2</th>\n",
       "      <td>0</td>\n",
       "      <td>59</td>\n",
       "      <td>2554</td>\n",
       "    </tr>\n",
       "    <tr>\n",
       "      <th>3</th>\n",
       "      <td>0</td>\n",
       "      <td>59</td>\n",
       "      <td>2555</td>\n",
       "    </tr>\n",
       "    <tr>\n",
       "      <th>4</th>\n",
       "      <td>0</td>\n",
       "      <td>59</td>\n",
       "      <td>2564</td>\n",
       "    </tr>\n",
       "    <tr>\n",
       "      <th>...</th>\n",
       "      <td>...</td>\n",
       "      <td>...</td>\n",
       "      <td>...</td>\n",
       "    </tr>\n",
       "    <tr>\n",
       "      <th>10913799</th>\n",
       "      <td>33</td>\n",
       "      <td>21</td>\n",
       "      <td>7635</td>\n",
       "    </tr>\n",
       "    <tr>\n",
       "      <th>10913800</th>\n",
       "      <td>33</td>\n",
       "      <td>21</td>\n",
       "      <td>7638</td>\n",
       "    </tr>\n",
       "    <tr>\n",
       "      <th>10913801</th>\n",
       "      <td>33</td>\n",
       "      <td>21</td>\n",
       "      <td>7640</td>\n",
       "    </tr>\n",
       "    <tr>\n",
       "      <th>10913802</th>\n",
       "      <td>33</td>\n",
       "      <td>21</td>\n",
       "      <td>7632</td>\n",
       "    </tr>\n",
       "    <tr>\n",
       "      <th>10913803</th>\n",
       "      <td>33</td>\n",
       "      <td>21</td>\n",
       "      <td>7440</td>\n",
       "    </tr>\n",
       "  </tbody>\n",
       "</table>\n",
       "<p>10913804 rows × 3 columns</p>\n",
       "</div>"
      ],
      "text/plain": [
       "          date_block_num  shop_id  item_id\n",
       "0                      0       59    22154\n",
       "1                      0       59     2552\n",
       "2                      0       59     2554\n",
       "3                      0       59     2555\n",
       "4                      0       59     2564\n",
       "...                  ...      ...      ...\n",
       "10913799              33       21     7635\n",
       "10913800              33       21     7638\n",
       "10913801              33       21     7640\n",
       "10913802              33       21     7632\n",
       "10913803              33       21     7440\n",
       "\n",
       "[10913804 rows x 3 columns]"
      ]
     },
     "execution_count": 16,
     "metadata": {},
     "output_type": "execute_result"
    }
   ],
   "source": [
    "from itertools import product\n",
    "\n",
    "train = []\n",
    "# 월ID, 상점ID, 상품ID 조합 생성 \n",
    "for i in data_cleaned['date_block_num'].unique():\n",
    "    all_shop = data_cleaned.loc[data_cleaned['date_block_num']==i, 'shop_id'].unique()\n",
    "    all_item = data_cleaned.loc[data_cleaned['date_block_num']==i, 'item_id'].unique()\n",
    "    train.append(np.array(list(product([i], all_shop, all_item))))\n",
    "\n",
    "idx_features = ['date_block_num', 'shop_id', 'item_id'] # 기준 피처\n",
    "# 리스트 타입인 train을 DataFrame 타입으로 변환 \n",
    "train = pd.DataFrame(np.vstack(train), columns=idx_features)\n",
    "\n",
    "train"
   ]
  },
  {
   "cell_type": "markdown",
   "metadata": {},
   "source": [
    "## 피처엔지니어링 target값 추가 (월간 판매량)"
   ]
  },
  {
   "cell_type": "code",
   "execution_count": 17,
   "metadata": {},
   "outputs": [
    {
     "data": {
      "text/html": [
       "<div>\n",
       "<style scoped>\n",
       "    .dataframe tbody tr th:only-of-type {\n",
       "        vertical-align: middle;\n",
       "    }\n",
       "\n",
       "    .dataframe tbody tr th {\n",
       "        vertical-align: top;\n",
       "    }\n",
       "\n",
       "    .dataframe thead th {\n",
       "        text-align: right;\n",
       "    }\n",
       "</style>\n",
       "<table border=\"1\" class=\"dataframe\">\n",
       "  <thead>\n",
       "    <tr style=\"text-align: right;\">\n",
       "      <th></th>\n",
       "      <th>date_block_num</th>\n",
       "      <th>shop_id</th>\n",
       "      <th>item_id</th>\n",
       "      <th>item_cnt_monthly</th>\n",
       "    </tr>\n",
       "  </thead>\n",
       "  <tbody>\n",
       "    <tr>\n",
       "      <th>0</th>\n",
       "      <td>0</td>\n",
       "      <td>0</td>\n",
       "      <td>32</td>\n",
       "      <td>6.0</td>\n",
       "    </tr>\n",
       "    <tr>\n",
       "      <th>1</th>\n",
       "      <td>0</td>\n",
       "      <td>0</td>\n",
       "      <td>33</td>\n",
       "      <td>3.0</td>\n",
       "    </tr>\n",
       "    <tr>\n",
       "      <th>2</th>\n",
       "      <td>0</td>\n",
       "      <td>0</td>\n",
       "      <td>35</td>\n",
       "      <td>1.0</td>\n",
       "    </tr>\n",
       "    <tr>\n",
       "      <th>3</th>\n",
       "      <td>0</td>\n",
       "      <td>0</td>\n",
       "      <td>43</td>\n",
       "      <td>1.0</td>\n",
       "    </tr>\n",
       "    <tr>\n",
       "      <th>4</th>\n",
       "      <td>0</td>\n",
       "      <td>0</td>\n",
       "      <td>51</td>\n",
       "      <td>2.0</td>\n",
       "    </tr>\n",
       "    <tr>\n",
       "      <th>...</th>\n",
       "      <td>...</td>\n",
       "      <td>...</td>\n",
       "      <td>...</td>\n",
       "      <td>...</td>\n",
       "    </tr>\n",
       "    <tr>\n",
       "      <th>1609117</th>\n",
       "      <td>33</td>\n",
       "      <td>59</td>\n",
       "      <td>22087</td>\n",
       "      <td>6.0</td>\n",
       "    </tr>\n",
       "    <tr>\n",
       "      <th>1609118</th>\n",
       "      <td>33</td>\n",
       "      <td>59</td>\n",
       "      <td>22088</td>\n",
       "      <td>2.0</td>\n",
       "    </tr>\n",
       "    <tr>\n",
       "      <th>1609119</th>\n",
       "      <td>33</td>\n",
       "      <td>59</td>\n",
       "      <td>22091</td>\n",
       "      <td>1.0</td>\n",
       "    </tr>\n",
       "    <tr>\n",
       "      <th>1609120</th>\n",
       "      <td>33</td>\n",
       "      <td>59</td>\n",
       "      <td>22100</td>\n",
       "      <td>1.0</td>\n",
       "    </tr>\n",
       "    <tr>\n",
       "      <th>1609121</th>\n",
       "      <td>33</td>\n",
       "      <td>59</td>\n",
       "      <td>22102</td>\n",
       "      <td>1.0</td>\n",
       "    </tr>\n",
       "  </tbody>\n",
       "</table>\n",
       "<p>1609122 rows × 4 columns</p>\n",
       "</div>"
      ],
      "text/plain": [
       "         date_block_num  shop_id  item_id  item_cnt_monthly\n",
       "0                     0        0       32               6.0\n",
       "1                     0        0       33               3.0\n",
       "2                     0        0       35               1.0\n",
       "3                     0        0       43               1.0\n",
       "4                     0        0       51               2.0\n",
       "...                 ...      ...      ...               ...\n",
       "1609117              33       59    22087               6.0\n",
       "1609118              33       59    22088               2.0\n",
       "1609119              33       59    22091               1.0\n",
       "1609120              33       59    22100               1.0\n",
       "1609121              33       59    22102               1.0\n",
       "\n",
       "[1609122 rows x 4 columns]"
      ]
     },
     "execution_count": 17,
     "metadata": {},
     "output_type": "execute_result"
    }
   ],
   "source": [
    "# idx_features를 기준으로 그룹화해 판매량 합 구하기 \n",
    "group = data_cleaned.groupby(idx_features).agg({'item_cnt_day': 'sum'})\n",
    "# 인덱스 재설정\n",
    "group = group.reset_index()\n",
    "# '판매량'에서 '월간 판매량'\n",
    "group = group.rename(columns={'item_cnt_day': 'item_cnt_monthly'})\n",
    "\n",
    "group"
   ]
  },
  {
   "cell_type": "code",
   "execution_count": 18,
   "metadata": {},
   "outputs": [
    {
     "data": {
      "text/html": [
       "<div>\n",
       "<style scoped>\n",
       "    .dataframe tbody tr th:only-of-type {\n",
       "        vertical-align: middle;\n",
       "    }\n",
       "\n",
       "    .dataframe tbody tr th {\n",
       "        vertical-align: top;\n",
       "    }\n",
       "\n",
       "    .dataframe thead th {\n",
       "        text-align: right;\n",
       "    }\n",
       "</style>\n",
       "<table border=\"1\" class=\"dataframe\">\n",
       "  <thead>\n",
       "    <tr style=\"text-align: right;\">\n",
       "      <th></th>\n",
       "      <th>date_block_num</th>\n",
       "      <th>shop_id</th>\n",
       "      <th>item_id</th>\n",
       "      <th>item_cnt_monthly</th>\n",
       "    </tr>\n",
       "  </thead>\n",
       "  <tbody>\n",
       "    <tr>\n",
       "      <th>0</th>\n",
       "      <td>0</td>\n",
       "      <td>59</td>\n",
       "      <td>22154</td>\n",
       "      <td>1.0</td>\n",
       "    </tr>\n",
       "    <tr>\n",
       "      <th>1</th>\n",
       "      <td>0</td>\n",
       "      <td>59</td>\n",
       "      <td>2552</td>\n",
       "      <td>NaN</td>\n",
       "    </tr>\n",
       "    <tr>\n",
       "      <th>2</th>\n",
       "      <td>0</td>\n",
       "      <td>59</td>\n",
       "      <td>2554</td>\n",
       "      <td>NaN</td>\n",
       "    </tr>\n",
       "    <tr>\n",
       "      <th>3</th>\n",
       "      <td>0</td>\n",
       "      <td>59</td>\n",
       "      <td>2555</td>\n",
       "      <td>NaN</td>\n",
       "    </tr>\n",
       "    <tr>\n",
       "      <th>4</th>\n",
       "      <td>0</td>\n",
       "      <td>59</td>\n",
       "      <td>2564</td>\n",
       "      <td>NaN</td>\n",
       "    </tr>\n",
       "    <tr>\n",
       "      <th>...</th>\n",
       "      <td>...</td>\n",
       "      <td>...</td>\n",
       "      <td>...</td>\n",
       "      <td>...</td>\n",
       "    </tr>\n",
       "    <tr>\n",
       "      <th>10913799</th>\n",
       "      <td>33</td>\n",
       "      <td>21</td>\n",
       "      <td>7635</td>\n",
       "      <td>NaN</td>\n",
       "    </tr>\n",
       "    <tr>\n",
       "      <th>10913800</th>\n",
       "      <td>33</td>\n",
       "      <td>21</td>\n",
       "      <td>7638</td>\n",
       "      <td>NaN</td>\n",
       "    </tr>\n",
       "    <tr>\n",
       "      <th>10913801</th>\n",
       "      <td>33</td>\n",
       "      <td>21</td>\n",
       "      <td>7640</td>\n",
       "      <td>NaN</td>\n",
       "    </tr>\n",
       "    <tr>\n",
       "      <th>10913802</th>\n",
       "      <td>33</td>\n",
       "      <td>21</td>\n",
       "      <td>7632</td>\n",
       "      <td>NaN</td>\n",
       "    </tr>\n",
       "    <tr>\n",
       "      <th>10913803</th>\n",
       "      <td>33</td>\n",
       "      <td>21</td>\n",
       "      <td>7440</td>\n",
       "      <td>NaN</td>\n",
       "    </tr>\n",
       "  </tbody>\n",
       "</table>\n",
       "<p>10913804 rows × 4 columns</p>\n",
       "</div>"
      ],
      "text/plain": [
       "          date_block_num  shop_id  item_id  item_cnt_monthly\n",
       "0                      0       59    22154               1.0\n",
       "1                      0       59     2552               NaN\n",
       "2                      0       59     2554               NaN\n",
       "3                      0       59     2555               NaN\n",
       "4                      0       59     2564               NaN\n",
       "...                  ...      ...      ...               ...\n",
       "10913799              33       21     7635               NaN\n",
       "10913800              33       21     7638               NaN\n",
       "10913801              33       21     7640               NaN\n",
       "10913802              33       21     7632               NaN\n",
       "10913803              33       21     7440               NaN\n",
       "\n",
       "[10913804 rows x 4 columns]"
      ]
     },
     "execution_count": 18,
     "metadata": {},
     "output_type": "execute_result"
    }
   ],
   "source": [
    "# train과 group 병합\n",
    "train = train.merge(group, on=idx_features, how='left')\n",
    "train"
   ]
  },
  {
   "cell_type": "markdown",
   "metadata": {},
   "source": [
    "### 가비지 컬렉터 수행"
   ]
  },
  {
   "cell_type": "code",
   "execution_count": 19,
   "metadata": {},
   "outputs": [],
   "source": [
    "import gc # 가비지 컬렉터\n",
    "\n",
    "del group # 더는 사용하지 않는 변수 지정\n",
    "gc.collect(); # 가비지 컬렉션 수행"
   ]
  },
  {
   "cell_type": "markdown",
   "metadata": {},
   "source": [
    "### Feature Engineering test data 이어붙이기\n",
    "train data의 월ID는 0~33으로 마지막이 2015년 10월인데, test data는 2015년 11월이므로 월ID feature를 34로 설정한다.  \n",
    "test data에서 식별자 역할을 하는 ID를 제외하고 test data를 train data와 merge"
   ]
  },
  {
   "cell_type": "code",
   "execution_count": 20,
   "metadata": {},
   "outputs": [
    {
     "data": {
      "text/html": [
       "<div>\n",
       "<style scoped>\n",
       "    .dataframe tbody tr th:only-of-type {\n",
       "        vertical-align: middle;\n",
       "    }\n",
       "\n",
       "    .dataframe tbody tr th {\n",
       "        vertical-align: top;\n",
       "    }\n",
       "\n",
       "    .dataframe thead th {\n",
       "        text-align: right;\n",
       "    }\n",
       "</style>\n",
       "<table border=\"1\" class=\"dataframe\">\n",
       "  <thead>\n",
       "    <tr style=\"text-align: right;\">\n",
       "      <th></th>\n",
       "      <th>date_block_num</th>\n",
       "      <th>shop_id</th>\n",
       "      <th>item_id</th>\n",
       "      <th>item_cnt_monthly</th>\n",
       "    </tr>\n",
       "  </thead>\n",
       "  <tbody>\n",
       "    <tr>\n",
       "      <th>0</th>\n",
       "      <td>0</td>\n",
       "      <td>59</td>\n",
       "      <td>22154</td>\n",
       "      <td>1.0</td>\n",
       "    </tr>\n",
       "    <tr>\n",
       "      <th>1</th>\n",
       "      <td>0</td>\n",
       "      <td>59</td>\n",
       "      <td>2552</td>\n",
       "      <td>0.0</td>\n",
       "    </tr>\n",
       "    <tr>\n",
       "      <th>2</th>\n",
       "      <td>0</td>\n",
       "      <td>59</td>\n",
       "      <td>2554</td>\n",
       "      <td>0.0</td>\n",
       "    </tr>\n",
       "    <tr>\n",
       "      <th>3</th>\n",
       "      <td>0</td>\n",
       "      <td>59</td>\n",
       "      <td>2555</td>\n",
       "      <td>0.0</td>\n",
       "    </tr>\n",
       "    <tr>\n",
       "      <th>4</th>\n",
       "      <td>0</td>\n",
       "      <td>59</td>\n",
       "      <td>2564</td>\n",
       "      <td>0.0</td>\n",
       "    </tr>\n",
       "  </tbody>\n",
       "</table>\n",
       "</div>"
      ],
      "text/plain": [
       "   date_block_num  shop_id  item_id  item_cnt_monthly\n",
       "0               0       59    22154               1.0\n",
       "1               0       59     2552               0.0\n",
       "2               0       59     2554               0.0\n",
       "3               0       59     2555               0.0\n",
       "4               0       59     2564               0.0"
      ]
     },
     "execution_count": 20,
     "metadata": {},
     "output_type": "execute_result"
    }
   ],
   "source": [
    "test['date_block_num'] = 34  # 2015년 11월 예측 대상\n",
    "\n",
    "all_data = pd.concat([train, test.drop('ID', axis=1)],\n",
    "                     ignore_index=True, \n",
    "                     keys=idx_features) # 이어붙이는 기준이 되는 피처\n",
    "\n",
    "# 결측값 0으로 채우기\n",
    "all_data = all_data.fillna(0)\n",
    "\n",
    "all_data.head()"
   ]
  },
  {
   "cell_type": "markdown",
   "metadata": {},
   "source": [
    "### Feature Engineering 나머지 데이터 병합 (최종 데이터 생성)"
   ]
  },
  {
   "cell_type": "code",
   "execution_count": null,
   "metadata": {},
   "outputs": [],
   "source": [
    "# all_data"
   ]
  },
  {
   "cell_type": "code",
   "execution_count": 21,
   "metadata": {},
   "outputs": [],
   "source": [
    "import numpy as np\n",
    "import pandas as pd\n",
    "\n",
    "def downcast(df, verbose=True):\n",
    "    start_mem = df.memory_usage().sum() / 1024**2\n",
    "    \n",
    "    for col in df.columns:\n",
    "        dtype = df[col].dtype\n",
    "\n",
    "        if pd.api.types.is_object_dtype(dtype):\n",
    "            # object는 건너뜀\n",
    "            continue\n",
    "        elif pd.api.types.is_bool_dtype(dtype):\n",
    "            df[col] = df[col].astype('int8')\n",
    "        elif pd.api.types.is_integer_dtype(dtype):\n",
    "            df[col] = pd.to_numeric(df[col], downcast='integer')\n",
    "        elif pd.api.types.is_float_dtype(dtype):\n",
    "            # 소수점이 없는 float는 int로 변환\n",
    "            col_non_na = df[col].dropna()\n",
    "            if (col_non_na == col_non_na.astype(int)).all():\n",
    "                df[col] = pd.to_numeric(df[col], downcast='integer')\n",
    "            else:\n",
    "                df[col] = pd.to_numeric(df[col], downcast='float')\n",
    "        else:\n",
    "            # 예: datetime, category 등은 건너뜀\n",
    "            continue\n",
    "\n",
    "    end_mem = df.memory_usage().sum() / 1024**2\n",
    "    if verbose:\n",
    "        print('{:.1f}% 압축됨'.format(100 * (start_mem - end_mem) / start_mem))\n",
    "\n",
    "    return df"
   ]
  },
  {
   "cell_type": "code",
   "execution_count": 22,
   "metadata": {},
   "outputs": [
    {
     "name": "stdout",
     "output_type": "stream",
     "text": [
      "38.1% 압축됨\n",
      "26.8% 압축됨\n",
      "54.2% 압축됨\n",
      "39.9% 압축됨\n",
      "75.0% 압축됨\n"
     ]
    }
   ],
   "source": [
    "all_df = [df_train, df_shops, df_items, df_categories, test]\n",
    "for df in all_df:\n",
    "    df = downcast(df)"
   ]
  },
  {
   "cell_type": "code",
   "execution_count": 23,
   "metadata": {},
   "outputs": [
    {
     "name": "stdout",
     "output_type": "stream",
     "text": [
      "63.4% 압축됨\n"
     ]
    }
   ],
   "source": [
    "all_data = all_data.merge(df_shops, on='shop_id', how='left')\n",
    "all_data = all_data.merge(df_items, on='item_id', how='left')\n",
    "all_data = all_data.merge(df_categories, on='item_category_id', how='left')\n",
    "all_data = all_data.drop(['shop_name', 'item_name_translated', 'item_category_name'], axis=1)\n",
    "# 데이터 다운캐스팅\n",
    "all_data = downcast(all_data)\n",
    "\n",
    "# # 가비지 컬렉션\n",
    "# del df_shops, df_items, df_categories\n",
    "# # del df_shops, df_categories # df_items -> 아래에서 사용하므로 버리지 않음\n",
    "# gc.collect();"
   ]
  },
  {
   "cell_type": "code",
   "execution_count": 24,
   "metadata": {},
   "outputs": [],
   "source": [
    "# 훈련 데이터 (피처)\n",
    "X_train = all_data[all_data['date_block_num'] < 33]\n",
    "X_train = X_train.drop(['item_cnt_monthly'], axis=1)\n",
    "# 검증 데이터 (피처)\n",
    "X_valid = all_data[all_data['date_block_num'] == 33]\n",
    "X_valid = X_valid.drop(['item_cnt_monthly'], axis=1)\n",
    "# 테스트 데이터 (피처)\n",
    "X_test = all_data[all_data['date_block_num'] == 34]\n",
    "X_test = X_test.drop(['item_cnt_monthly'], axis=1)\n",
    "\n",
    "# 훈련 데이터 (타깃값)\n",
    "y_train = all_data[all_data['date_block_num'] < 33]['item_cnt_monthly']\n",
    "y_train = y_train.clip(0, 20) # 타깃값을 0 ~ 20로 제한\n",
    "# 검증 데이터 (타깃값)\n",
    "y_valid = all_data[all_data['date_block_num'] == 33]['item_cnt_monthly']\n",
    "y_valid = y_valid.clip(0, 20)"
   ]
  },
  {
   "cell_type": "markdown",
   "metadata": {},
   "source": [
    "학습 데이터 X_train, y_train : 33월 이전 데이터로 학습  \n",
    "검증 데이터 X_valid, y_valid : 33월 데이터로 모델 검증  \n",
    "테스트 데이터 X_test: 34월 데이터로 예측 (34월: 2015년 11월)"
   ]
  },
  {
   "cell_type": "code",
   "execution_count": 25,
   "metadata": {},
   "outputs": [
    {
     "data": {
      "text/plain": [
       "(10675632, 5)"
      ]
     },
     "execution_count": 25,
     "metadata": {},
     "output_type": "execute_result"
    }
   ],
   "source": [
    "X_train.shape"
   ]
  },
  {
   "cell_type": "code",
   "execution_count": 26,
   "metadata": {},
   "outputs": [
    {
     "data": {
      "text/plain": [
       "(10675632,)"
      ]
     },
     "execution_count": 26,
     "metadata": {},
     "output_type": "execute_result"
    }
   ],
   "source": [
    "y_train.shape"
   ]
  },
  {
   "cell_type": "code",
   "execution_count": 27,
   "metadata": {},
   "outputs": [
    {
     "data": {
      "text/plain": [
       "(238172, 5)"
      ]
     },
     "execution_count": 27,
     "metadata": {},
     "output_type": "execute_result"
    }
   ],
   "source": [
    "X_valid.shape"
   ]
  },
  {
   "cell_type": "code",
   "execution_count": 28,
   "metadata": {},
   "outputs": [
    {
     "data": {
      "text/plain": [
       "(238172,)"
      ]
     },
     "execution_count": 28,
     "metadata": {},
     "output_type": "execute_result"
    }
   ],
   "source": [
    "y_valid.shape"
   ]
  },
  {
   "cell_type": "code",
   "execution_count": 29,
   "metadata": {},
   "outputs": [],
   "source": [
    "X_train = X_train.drop('shop_grade', axis=1)\n",
    "X_valid = X_valid.drop('shop_grade', axis=1)\n",
    "X_test = X_test.drop('shop_grade', axis=1)"
   ]
  },
  {
   "cell_type": "code",
   "execution_count": 30,
   "metadata": {},
   "outputs": [
    {
     "name": "stdout",
     "output_type": "stream",
     "text": [
      "검증 RMSE: 1.1368\n"
     ]
    }
   ],
   "source": [
    "from sklearn.linear_model import LinearRegression\n",
    "from sklearn.metrics import mean_squared_error\n",
    "import numpy as np\n",
    "\n",
    "model = LinearRegression()\n",
    "model.fit(X_train, y_train)\n",
    "\n",
    "y_pred_valid = model.predict(X_valid)\n",
    "y_pred_valid = np.clip(y_pred_valid, 0, 20)\n",
    "mse = mean_squared_error(y_valid, y_pred_valid)\n",
    "rmse = np.sqrt(mse)\n",
    "\n",
    "print(f\"검증 RMSE: {rmse:.4f}\")\n",
    "# y_pred_test = model.predict(X_test)"
   ]
  },
  {
   "cell_type": "code",
   "execution_count": 31,
   "metadata": {},
   "outputs": [
    {
     "name": "stdout",
     "output_type": "stream",
     "text": [
      "[0.44613277 0.20819708 0.44453035 ... 0.19413805 0.26050265 0.4328497 ]\n"
     ]
    }
   ],
   "source": [
    "y_pred_test = model.predict(X_test)\n",
    "\n",
    "y_pred_test = model.predict(X_test)\n",
    "y_pred_test = np.clip(y_pred_test, 0, 20)\n",
    "\n",
    "print(y_pred_test)"
   ]
  },
  {
   "cell_type": "markdown",
   "metadata": {},
   "source": [
    "## 성능 개선 개별 데이터 피처 엔지니어링"
   ]
  },
  {
   "cell_type": "markdown",
   "metadata": {},
   "source": [
    "### 이상치 제거 및 전처리"
   ]
  },
  {
   "cell_type": "code",
   "execution_count": 32,
   "metadata": {},
   "outputs": [
    {
     "data": {
      "text/html": [
       "<div>\n",
       "<style scoped>\n",
       "    .dataframe tbody tr th:only-of-type {\n",
       "        vertical-align: middle;\n",
       "    }\n",
       "\n",
       "    .dataframe tbody tr th {\n",
       "        vertical-align: top;\n",
       "    }\n",
       "\n",
       "    .dataframe thead th {\n",
       "        text-align: right;\n",
       "    }\n",
       "</style>\n",
       "<table border=\"1\" class=\"dataframe\">\n",
       "  <thead>\n",
       "    <tr style=\"text-align: right;\">\n",
       "      <th></th>\n",
       "      <th>date</th>\n",
       "      <th>date_block_num</th>\n",
       "      <th>shop_id</th>\n",
       "      <th>item_id</th>\n",
       "      <th>item_price</th>\n",
       "      <th>item_cnt_day</th>\n",
       "      <th>item_name_translated</th>\n",
       "      <th>item_category_id</th>\n",
       "      <th>item_category_name</th>\n",
       "      <th>shop_name</th>\n",
       "      <th>...</th>\n",
       "      <th>holiday</th>\n",
       "      <th>weekend</th>\n",
       "      <th>city</th>\n",
       "      <th>sub_category</th>\n",
       "      <th>rub_amount</th>\n",
       "      <th>krw_amount</th>\n",
       "      <th>year</th>\n",
       "      <th>month</th>\n",
       "      <th>day</th>\n",
       "      <th>year_month</th>\n",
       "    </tr>\n",
       "  </thead>\n",
       "  <tbody>\n",
       "    <tr>\n",
       "      <th>0</th>\n",
       "      <td>2013-01-02</td>\n",
       "      <td>0</td>\n",
       "      <td>59</td>\n",
       "      <td>22154</td>\n",
       "      <td>999.0</td>\n",
       "      <td>1</td>\n",
       "      <td>SCENE 2012 (BD)</td>\n",
       "      <td>37</td>\n",
       "      <td>Cinema - Blu -Ray</td>\n",
       "      <td>Yaroslavl shopping center \"Altair\"</td>\n",
       "      <td>...</td>\n",
       "      <td>1</td>\n",
       "      <td>0</td>\n",
       "      <td>Yaroslavl</td>\n",
       "      <td>Cinema</td>\n",
       "      <td>999.0</td>\n",
       "      <td>17982.0</td>\n",
       "      <td>2013</td>\n",
       "      <td>1</td>\n",
       "      <td>2</td>\n",
       "      <td>2013-01</td>\n",
       "    </tr>\n",
       "    <tr>\n",
       "      <th>1</th>\n",
       "      <td>2013-01-03</td>\n",
       "      <td>0</td>\n",
       "      <td>25</td>\n",
       "      <td>2552</td>\n",
       "      <td>899.0</td>\n",
       "      <td>1</td>\n",
       "      <td>DEEP PURPLE  The House Of Blue Light  LP</td>\n",
       "      <td>58</td>\n",
       "      <td>Music - vinyl</td>\n",
       "      <td>Moscow TRK \"Atrium\"</td>\n",
       "      <td>...</td>\n",
       "      <td>1</td>\n",
       "      <td>0</td>\n",
       "      <td>Moscow</td>\n",
       "      <td>Music</td>\n",
       "      <td>899.0</td>\n",
       "      <td>16182.0</td>\n",
       "      <td>2013</td>\n",
       "      <td>1</td>\n",
       "      <td>3</td>\n",
       "      <td>2013-01</td>\n",
       "    </tr>\n",
       "    <tr>\n",
       "      <th>2</th>\n",
       "      <td>2013-01-05</td>\n",
       "      <td>0</td>\n",
       "      <td>25</td>\n",
       "      <td>2552</td>\n",
       "      <td>899.0</td>\n",
       "      <td>-1</td>\n",
       "      <td>DEEP PURPLE  The House Of Blue Light  LP</td>\n",
       "      <td>58</td>\n",
       "      <td>Music - vinyl</td>\n",
       "      <td>Moscow TRK \"Atrium\"</td>\n",
       "      <td>...</td>\n",
       "      <td>0</td>\n",
       "      <td>1</td>\n",
       "      <td>Moscow</td>\n",
       "      <td>Music</td>\n",
       "      <td>-899.0</td>\n",
       "      <td>-16182.0</td>\n",
       "      <td>2013</td>\n",
       "      <td>1</td>\n",
       "      <td>5</td>\n",
       "      <td>2013-01</td>\n",
       "    </tr>\n",
       "  </tbody>\n",
       "</table>\n",
       "<p>3 rows × 21 columns</p>\n",
       "</div>"
      ],
      "text/plain": [
       "        date  date_block_num  shop_id  item_id  item_price  item_cnt_day  \\\n",
       "0 2013-01-02               0       59    22154       999.0             1   \n",
       "1 2013-01-03               0       25     2552       899.0             1   \n",
       "2 2013-01-05               0       25     2552       899.0            -1   \n",
       "\n",
       "                       item_name_translated  item_category_id  \\\n",
       "0                           SCENE 2012 (BD)                37   \n",
       "1  DEEP PURPLE  The House Of Blue Light  LP                58   \n",
       "2  DEEP PURPLE  The House Of Blue Light  LP                58   \n",
       "\n",
       "  item_category_name                           shop_name  ... holiday  \\\n",
       "0  Cinema - Blu -Ray  Yaroslavl shopping center \"Altair\"  ...       1   \n",
       "1      Music - vinyl                 Moscow TRK \"Atrium\"  ...       1   \n",
       "2      Music - vinyl                 Moscow TRK \"Atrium\"  ...       0   \n",
       "\n",
       "   weekend       city sub_category rub_amount  krw_amount  year  month  day  \\\n",
       "0        0  Yaroslavl       Cinema      999.0     17982.0  2013      1    2   \n",
       "1        0     Moscow        Music      899.0     16182.0  2013      1    3   \n",
       "2        1     Moscow        Music     -899.0    -16182.0  2013      1    5   \n",
       "\n",
       "   year_month  \n",
       "0     2013-01  \n",
       "1     2013-01  \n",
       "2     2013-01  \n",
       "\n",
       "[3 rows x 21 columns]"
      ]
     },
     "execution_count": 32,
     "metadata": {},
     "output_type": "execute_result"
    }
   ],
   "source": [
    "df_train.head(3)"
   ]
  },
  {
   "cell_type": "code",
   "execution_count": 33,
   "metadata": {},
   "outputs": [],
   "source": [
    "# 판매가가 0보다 큰 데이터 추출\n",
    "df_train = df_train[df_train['item_price'] > 0]\n",
    "# 판매가가 50,000보다 작은 데이터 추출\n",
    "df_train = df_train[df_train['item_price'] < 50000]\n",
    "\n",
    "# 판매량이 0보다 큰 데이터 추출\n",
    "df_train = df_train[df_train['item_cnt_day'] > 0]\n",
    "# 판매량이 1,000보다 작은 데이터 추출\n",
    "df_train = df_train[df_train['item_cnt_day'] < 1000]"
   ]
  },
  {
   "cell_type": "markdown",
   "metadata": {},
   "source": [
    "상점명을 조금 다르게 기입해서 같은 상점인데 다르게 기록되어 있는 상점이 4쌍 있기에 각 쌍의 상점ID를 수정해준다. 상점명은 어차피 제거할 것이기에 수정하지 않아도 된다. -> 수정하지않음"
   ]
  },
  {
   "cell_type": "markdown",
   "metadata": {},
   "source": [
    "### 도시명은 범주형 피처이므로 레이블 인코딩"
   ]
  },
  {
   "cell_type": "code",
   "execution_count": 34,
   "metadata": {},
   "outputs": [],
   "source": [
    "# df_train에서 shop_id와 city 정보만 추출 후 중복 제거\n",
    "shop_city_map = df_train[['shop_id', 'city']].drop_duplicates()\n",
    "\n",
    "# df_shops가 안 불러와지니까 shop_id만 따로 생성한 뒤 병합\n",
    "shops = pd.DataFrame({'shop_id': df_train['shop_id'].unique()})\n",
    "shops = shops.merge(shop_city_map, on='shop_id', how='left')"
   ]
  },
  {
   "cell_type": "code",
   "execution_count": 35,
   "metadata": {},
   "outputs": [],
   "source": [
    "from sklearn.preprocessing import LabelEncoder\n",
    "\n",
    "label_encoder = LabelEncoder()\n",
    "shops['city'] = label_encoder.fit_transform(shops['city'])"
   ]
  },
  {
   "cell_type": "code",
   "execution_count": 36,
   "metadata": {},
   "outputs": [],
   "source": [
    "# # item_id별 첫 판매 월 추출\n",
    "# first_sales_month = df_train.groupby('item_id', as_index=False)['date_block_num'].min()\n",
    "# first_sales_month.rename(columns={'date_block_num': 'first_sales_month'}, inplace=True)\n",
    "\n",
    "# # 새로운 DataFrame 생성\n",
    "# items = first_sales_month.copy()"
   ]
  },
  {
   "cell_type": "code",
   "execution_count": 36,
   "metadata": {},
   "outputs": [],
   "source": [
    "# item_id별 첫 판매 월 추출\n",
    "first_sales_month = df_train.groupby('item_id', as_index=False)['date_block_num'].min()\n",
    "first_sales_month.rename(columns={'date_block_num': 'first_sales_month'}, inplace=True)\n",
    "\n",
    "# item_id별 item_category_id 추출 (중복 제거)\n",
    "item_categories = df_train[['item_id', 'item_category_id']].drop_duplicates()\n",
    "\n",
    "# first_sales_month와 item_category_id 합치기\n",
    "items = first_sales_month.merge(item_categories, on='item_id', how='left')"
   ]
  },
  {
   "cell_type": "code",
   "execution_count": 37,
   "metadata": {},
   "outputs": [
    {
     "data": {
      "text/html": [
       "<div>\n",
       "<style scoped>\n",
       "    .dataframe tbody tr th:only-of-type {\n",
       "        vertical-align: middle;\n",
       "    }\n",
       "\n",
       "    .dataframe tbody tr th {\n",
       "        vertical-align: top;\n",
       "    }\n",
       "\n",
       "    .dataframe thead th {\n",
       "        text-align: right;\n",
       "    }\n",
       "</style>\n",
       "<table border=\"1\" class=\"dataframe\">\n",
       "  <thead>\n",
       "    <tr style=\"text-align: right;\">\n",
       "      <th></th>\n",
       "      <th>item_id</th>\n",
       "      <th>first_sales_month</th>\n",
       "      <th>item_category_id</th>\n",
       "    </tr>\n",
       "  </thead>\n",
       "  <tbody>\n",
       "    <tr>\n",
       "      <th>0</th>\n",
       "      <td>0</td>\n",
       "      <td>20</td>\n",
       "      <td>40</td>\n",
       "    </tr>\n",
       "    <tr>\n",
       "      <th>1</th>\n",
       "      <td>1</td>\n",
       "      <td>15</td>\n",
       "      <td>76</td>\n",
       "    </tr>\n",
       "    <tr>\n",
       "      <th>2</th>\n",
       "      <td>2</td>\n",
       "      <td>19</td>\n",
       "      <td>40</td>\n",
       "    </tr>\n",
       "  </tbody>\n",
       "</table>\n",
       "</div>"
      ],
      "text/plain": [
       "   item_id  first_sales_month  item_category_id\n",
       "0        0                 20                40\n",
       "1        1                 15                76\n",
       "2        2                 19                40"
      ]
     },
     "execution_count": 37,
     "metadata": {},
     "output_type": "execute_result"
    }
   ],
   "source": [
    "items.head(3)"
   ]
  },
  {
   "cell_type": "code",
   "execution_count": 38,
   "metadata": {},
   "outputs": [
    {
     "data": {
      "text/plain": [
       "0"
      ]
     },
     "execution_count": 38,
     "metadata": {},
     "output_type": "execute_result"
    }
   ],
   "source": [
    "items['first_sales_month'].isna().sum()"
   ]
  },
  {
   "cell_type": "code",
   "execution_count": 39,
   "metadata": {},
   "outputs": [],
   "source": [
    "# item_category_id와 sub_category 정보를 df_train에서 추출 후 중복 제거\n",
    "item_categories = df_train[['item_category_id', 'sub_category']].drop_duplicates().reset_index(drop=True)"
   ]
  },
  {
   "cell_type": "code",
   "execution_count": 40,
   "metadata": {},
   "outputs": [],
   "source": [
    "# 레이블 인코더 생성\n",
    "label_encoder = LabelEncoder()\n",
    "\n",
    "# 대분류 피처 레이블 인코딩\n",
    "item_categories['sub_category'] = label_encoder.fit_transform(item_categories['sub_category'])"
   ]
  },
  {
   "cell_type": "code",
   "execution_count": null,
   "metadata": {},
   "outputs": [],
   "source": [
    "# shops -> shop_id, city\n",
    "# items -> item_id, first_sales_month, item_category_id\n",
    "# item_categories -> item_category_id, sub_category"
   ]
  },
  {
   "cell_type": "markdown",
   "metadata": {},
   "source": [
    "### 파생 변수 생성\n",
    "월, 상점, 상품별 월간 판매량과 평균 판매가 변수를 만들고, 기준 feature별 상품 판매건수 feature를 만들어 준다."
   ]
  },
  {
   "cell_type": "code",
   "execution_count": 41,
   "metadata": {},
   "outputs": [
    {
     "data": {
      "text/html": [
       "<div>\n",
       "<style scoped>\n",
       "    .dataframe tbody tr th:only-of-type {\n",
       "        vertical-align: middle;\n",
       "    }\n",
       "\n",
       "    .dataframe tbody tr th {\n",
       "        vertical-align: top;\n",
       "    }\n",
       "\n",
       "    .dataframe thead th {\n",
       "        text-align: right;\n",
       "    }\n",
       "</style>\n",
       "<table border=\"1\" class=\"dataframe\">\n",
       "  <thead>\n",
       "    <tr style=\"text-align: right;\">\n",
       "      <th></th>\n",
       "      <th>date_block_num</th>\n",
       "      <th>shop_id</th>\n",
       "      <th>item_id</th>\n",
       "      <th>item_cnt_monthly</th>\n",
       "      <th>mean_item_price</th>\n",
       "    </tr>\n",
       "  </thead>\n",
       "  <tbody>\n",
       "    <tr>\n",
       "      <th>0</th>\n",
       "      <td>0</td>\n",
       "      <td>59</td>\n",
       "      <td>22154</td>\n",
       "      <td>1.0</td>\n",
       "      <td>999.0</td>\n",
       "    </tr>\n",
       "    <tr>\n",
       "      <th>1</th>\n",
       "      <td>0</td>\n",
       "      <td>59</td>\n",
       "      <td>2552</td>\n",
       "      <td>NaN</td>\n",
       "      <td>NaN</td>\n",
       "    </tr>\n",
       "    <tr>\n",
       "      <th>2</th>\n",
       "      <td>0</td>\n",
       "      <td>59</td>\n",
       "      <td>2554</td>\n",
       "      <td>NaN</td>\n",
       "      <td>NaN</td>\n",
       "    </tr>\n",
       "    <tr>\n",
       "      <th>3</th>\n",
       "      <td>0</td>\n",
       "      <td>59</td>\n",
       "      <td>2555</td>\n",
       "      <td>NaN</td>\n",
       "      <td>NaN</td>\n",
       "    </tr>\n",
       "    <tr>\n",
       "      <th>4</th>\n",
       "      <td>0</td>\n",
       "      <td>59</td>\n",
       "      <td>2564</td>\n",
       "      <td>NaN</td>\n",
       "      <td>NaN</td>\n",
       "    </tr>\n",
       "  </tbody>\n",
       "</table>\n",
       "</div>"
      ],
      "text/plain": [
       "   date_block_num  shop_id  item_id  item_cnt_monthly  mean_item_price\n",
       "0               0       59    22154               1.0            999.0\n",
       "1               0       59     2552               NaN              NaN\n",
       "2               0       59     2554               NaN              NaN\n",
       "3               0       59     2555               NaN              NaN\n",
       "4               0       59     2564               NaN              NaN"
      ]
     },
     "execution_count": 41,
     "metadata": {},
     "output_type": "execute_result"
    }
   ],
   "source": [
    "# 충돌 방지를 위해 기존 컬럼 삭제\n",
    "train = train.drop(columns=['item_cnt_monthly'], errors='ignore')\n",
    "\n",
    "group = df_train.groupby(idx_features).agg({'item_cnt_day': 'sum',\n",
    "                                               'item_price': 'mean'})\n",
    "group = group.reset_index()\n",
    "group = group.rename(columns={'item_cnt_day': 'item_cnt_monthly', 'item_price': 'mean_item_price'})\n",
    "\n",
    "train = train.merge(group, on=idx_features, how='left')\n",
    "\n",
    "train.head()"
   ]
  },
  {
   "cell_type": "markdown",
   "metadata": {},
   "source": [
    "### test data를 train에 합치기"
   ]
  },
  {
   "cell_type": "code",
   "execution_count": 42,
   "metadata": {},
   "outputs": [
    {
     "data": {
      "text/html": [
       "<div>\n",
       "<style scoped>\n",
       "    .dataframe tbody tr th:only-of-type {\n",
       "        vertical-align: middle;\n",
       "    }\n",
       "\n",
       "    .dataframe tbody tr th {\n",
       "        vertical-align: top;\n",
       "    }\n",
       "\n",
       "    .dataframe thead th {\n",
       "        text-align: right;\n",
       "    }\n",
       "</style>\n",
       "<table border=\"1\" class=\"dataframe\">\n",
       "  <thead>\n",
       "    <tr style=\"text-align: right;\">\n",
       "      <th></th>\n",
       "      <th>date_block_num</th>\n",
       "      <th>shop_id</th>\n",
       "      <th>item_id</th>\n",
       "      <th>item_cnt_monthly</th>\n",
       "      <th>mean_item_price</th>\n",
       "    </tr>\n",
       "  </thead>\n",
       "  <tbody>\n",
       "    <tr>\n",
       "      <th>0</th>\n",
       "      <td>0</td>\n",
       "      <td>59</td>\n",
       "      <td>22154</td>\n",
       "      <td>1.0</td>\n",
       "      <td>999.0</td>\n",
       "    </tr>\n",
       "    <tr>\n",
       "      <th>1</th>\n",
       "      <td>0</td>\n",
       "      <td>59</td>\n",
       "      <td>2552</td>\n",
       "      <td>0.0</td>\n",
       "      <td>0.0</td>\n",
       "    </tr>\n",
       "    <tr>\n",
       "      <th>2</th>\n",
       "      <td>0</td>\n",
       "      <td>59</td>\n",
       "      <td>2554</td>\n",
       "      <td>0.0</td>\n",
       "      <td>0.0</td>\n",
       "    </tr>\n",
       "    <tr>\n",
       "      <th>3</th>\n",
       "      <td>0</td>\n",
       "      <td>59</td>\n",
       "      <td>2555</td>\n",
       "      <td>0.0</td>\n",
       "      <td>0.0</td>\n",
       "    </tr>\n",
       "    <tr>\n",
       "      <th>4</th>\n",
       "      <td>0</td>\n",
       "      <td>59</td>\n",
       "      <td>2564</td>\n",
       "      <td>0.0</td>\n",
       "      <td>0.0</td>\n",
       "    </tr>\n",
       "  </tbody>\n",
       "</table>\n",
       "</div>"
      ],
      "text/plain": [
       "   date_block_num  shop_id  item_id  item_cnt_monthly  mean_item_price\n",
       "0               0       59    22154               1.0            999.0\n",
       "1               0       59     2552               0.0              0.0\n",
       "2               0       59     2554               0.0              0.0\n",
       "3               0       59     2555               0.0              0.0\n",
       "4               0       59     2564               0.0              0.0"
      ]
     },
     "execution_count": 42,
     "metadata": {},
     "output_type": "execute_result"
    }
   ],
   "source": [
    "# 테스트 데이터 월ID를 34로 설정\n",
    "test['date_block_num'] = 34\n",
    "\n",
    "# train과 test 이어붙이기\n",
    "all_data = pd.concat([train, test.drop('ID', axis=1)],\n",
    "                     ignore_index=True,\n",
    "                     keys=idx_features)\n",
    "# 결측값을 0으로 대체\n",
    "all_data = all_data.fillna(0)\n",
    "\n",
    "all_data.head()"
   ]
  },
  {
   "cell_type": "markdown",
   "metadata": {},
   "source": [
    "item_cnt_monthly컬럼이 하나가 되어야 함 -> ok  \n",
    "판매건수가 붙어있지 않음 "
   ]
  },
  {
   "cell_type": "code",
   "execution_count": 47,
   "metadata": {},
   "outputs": [],
   "source": [
    "# # 테스트 데이터 월ID를 34로 설정\n",
    "# test['date_block_num'] = 34\n",
    "\n",
    "# # train과 test 이어붙이기\n",
    "# all_data = pd.concat([train, test.drop('ID', axis=1)],\n",
    "#                      ignore_index=True,\n",
    "#                      keys=idx_features)\n",
    "# # 결측값을 0으로 대체\n",
    "# all_data = all_data.fillna(0)\n",
    "\n",
    "# all_data.head()"
   ]
  },
  {
   "cell_type": "markdown",
   "metadata": {},
   "source": [
    "판매건수가 붙지 않는 문제 발생 -> 일단 진행 -> 판매건수가 item_cnt_day이면 해결\n",
    "all_data에 item_category_id가 없어서 merge가 안 됨 -> merge 하여 해결 "
   ]
  },
  {
   "cell_type": "code",
   "execution_count": 43,
   "metadata": {},
   "outputs": [
    {
     "name": "stdout",
     "output_type": "stream",
     "text": [
      "0\n"
     ]
    }
   ],
   "source": [
    "print(items['item_id'].duplicated().sum())"
   ]
  },
  {
   "cell_type": "code",
   "execution_count": 44,
   "metadata": {},
   "outputs": [
    {
     "data": {
      "text/plain": [
       "date_block_num      0\n",
       "shop_id             0\n",
       "item_id             0\n",
       "item_cnt_monthly    0\n",
       "mean_item_price     0\n",
       "dtype: int64"
      ]
     },
     "execution_count": 44,
     "metadata": {},
     "output_type": "execute_result"
    }
   ],
   "source": [
    "all_data.isna().sum()"
   ]
  },
  {
   "cell_type": "code",
   "execution_count": 45,
   "metadata": {},
   "outputs": [
    {
     "data": {
      "text/plain": [
       "22169"
      ]
     },
     "execution_count": 45,
     "metadata": {},
     "output_type": "execute_result"
    }
   ],
   "source": [
    "all_data['item_id'].nunique()"
   ]
  },
  {
   "cell_type": "code",
   "execution_count": 46,
   "metadata": {},
   "outputs": [
    {
     "data": {
      "text/plain": [
       "21802"
      ]
     },
     "execution_count": 46,
     "metadata": {},
     "output_type": "execute_result"
    }
   ],
   "source": [
    "items['item_id'].nunique()"
   ]
  },
  {
   "cell_type": "code",
   "execution_count": 47,
   "metadata": {},
   "outputs": [],
   "source": [
    "all_data = all_data.merge(items, on='item_id', how='left')"
   ]
  },
  {
   "cell_type": "code",
   "execution_count": 48,
   "metadata": {},
   "outputs": [
    {
     "name": "stdout",
     "output_type": "stream",
     "text": [
      "item_id                  0\n",
      "first_sales_month    15430\n",
      "dtype: int64\n"
     ]
    }
   ],
   "source": [
    "print(all_data[['item_id', 'first_sales_month']].isna().sum())"
   ]
  },
  {
   "cell_type": "code",
   "execution_count": 49,
   "metadata": {},
   "outputs": [],
   "source": [
    "all_data = all_data[all_data['first_sales_month'].notna()].reset_index(drop=True) # 결측치는 drop or fillna(0) 중에 제거 선택"
   ]
  },
  {
   "cell_type": "code",
   "execution_count": 50,
   "metadata": {},
   "outputs": [
    {
     "name": "stdout",
     "output_type": "stream",
     "text": [
      "item_id              0\n",
      "first_sales_month    0\n",
      "dtype: int64\n"
     ]
    }
   ],
   "source": [
    "print(all_data[['item_id', 'first_sales_month']].isna().sum())"
   ]
  },
  {
   "cell_type": "code",
   "execution_count": 56,
   "metadata": {},
   "outputs": [],
   "source": [
    "# all_data"
   ]
  },
  {
   "cell_type": "code",
   "execution_count": 51,
   "metadata": {},
   "outputs": [],
   "source": [
    "all_data = all_data.merge(shops, on='shop_id', how='left')\n",
    "all_data = all_data.merge(item_categories, on='item_category_id', how='left')"
   ]
  },
  {
   "cell_type": "code",
   "execution_count": 52,
   "metadata": {},
   "outputs": [],
   "source": [
    "merge_df = all_data.copy() # 혹시 몰라서 copy"
   ]
  },
  {
   "cell_type": "code",
   "execution_count": 53,
   "metadata": {},
   "outputs": [
    {
     "name": "stdout",
     "output_type": "stream",
     "text": [
      "71.9% 압축됨\n"
     ]
    }
   ],
   "source": [
    "all_data = downcast(all_data)"
   ]
  },
  {
   "cell_type": "code",
   "execution_count": 54,
   "metadata": {},
   "outputs": [],
   "source": [
    "del shops, items, item_categories\n",
    "# del shops, item_categories\n",
    "gc.collect();"
   ]
  },
  {
   "cell_type": "code",
   "execution_count": 55,
   "metadata": {},
   "outputs": [
    {
     "data": {
      "text/html": [
       "<div>\n",
       "<style scoped>\n",
       "    .dataframe tbody tr th:only-of-type {\n",
       "        vertical-align: middle;\n",
       "    }\n",
       "\n",
       "    .dataframe tbody tr th {\n",
       "        vertical-align: top;\n",
       "    }\n",
       "\n",
       "    .dataframe thead th {\n",
       "        text-align: right;\n",
       "    }\n",
       "</style>\n",
       "<table border=\"1\" class=\"dataframe\">\n",
       "  <thead>\n",
       "    <tr style=\"text-align: right;\">\n",
       "      <th></th>\n",
       "      <th>date_block_num</th>\n",
       "      <th>shop_id</th>\n",
       "      <th>item_id</th>\n",
       "      <th>item_cnt_monthly</th>\n",
       "      <th>mean_item_price</th>\n",
       "      <th>first_sales_month</th>\n",
       "      <th>item_category_id</th>\n",
       "      <th>city</th>\n",
       "      <th>sub_category</th>\n",
       "    </tr>\n",
       "  </thead>\n",
       "  <tbody>\n",
       "    <tr>\n",
       "      <th>0</th>\n",
       "      <td>0</td>\n",
       "      <td>59</td>\n",
       "      <td>22154</td>\n",
       "      <td>1</td>\n",
       "      <td>999.0</td>\n",
       "      <td>0</td>\n",
       "      <td>37</td>\n",
       "      <td>28</td>\n",
       "      <td>4</td>\n",
       "    </tr>\n",
       "    <tr>\n",
       "      <th>1</th>\n",
       "      <td>0</td>\n",
       "      <td>59</td>\n",
       "      <td>2552</td>\n",
       "      <td>0</td>\n",
       "      <td>0.0</td>\n",
       "      <td>0</td>\n",
       "      <td>58</td>\n",
       "      <td>28</td>\n",
       "      <td>9</td>\n",
       "    </tr>\n",
       "    <tr>\n",
       "      <th>2</th>\n",
       "      <td>0</td>\n",
       "      <td>59</td>\n",
       "      <td>2554</td>\n",
       "      <td>0</td>\n",
       "      <td>0.0</td>\n",
       "      <td>0</td>\n",
       "      <td>58</td>\n",
       "      <td>28</td>\n",
       "      <td>9</td>\n",
       "    </tr>\n",
       "    <tr>\n",
       "      <th>3</th>\n",
       "      <td>0</td>\n",
       "      <td>59</td>\n",
       "      <td>2555</td>\n",
       "      <td>0</td>\n",
       "      <td>0.0</td>\n",
       "      <td>0</td>\n",
       "      <td>56</td>\n",
       "      <td>28</td>\n",
       "      <td>9</td>\n",
       "    </tr>\n",
       "    <tr>\n",
       "      <th>4</th>\n",
       "      <td>0</td>\n",
       "      <td>59</td>\n",
       "      <td>2564</td>\n",
       "      <td>0</td>\n",
       "      <td>0.0</td>\n",
       "      <td>0</td>\n",
       "      <td>59</td>\n",
       "      <td>28</td>\n",
       "      <td>9</td>\n",
       "    </tr>\n",
       "    <tr>\n",
       "      <th>...</th>\n",
       "      <td>...</td>\n",
       "      <td>...</td>\n",
       "      <td>...</td>\n",
       "      <td>...</td>\n",
       "      <td>...</td>\n",
       "      <td>...</td>\n",
       "      <td>...</td>\n",
       "      <td>...</td>\n",
       "      <td>...</td>\n",
       "    </tr>\n",
       "    <tr>\n",
       "      <th>11112569</th>\n",
       "      <td>34</td>\n",
       "      <td>45</td>\n",
       "      <td>18454</td>\n",
       "      <td>0</td>\n",
       "      <td>0.0</td>\n",
       "      <td>23</td>\n",
       "      <td>55</td>\n",
       "      <td>17</td>\n",
       "      <td>9</td>\n",
       "    </tr>\n",
       "    <tr>\n",
       "      <th>11112570</th>\n",
       "      <td>34</td>\n",
       "      <td>45</td>\n",
       "      <td>16188</td>\n",
       "      <td>0</td>\n",
       "      <td>0.0</td>\n",
       "      <td>32</td>\n",
       "      <td>64</td>\n",
       "      <td>17</td>\n",
       "      <td>8</td>\n",
       "    </tr>\n",
       "    <tr>\n",
       "      <th>11112571</th>\n",
       "      <td>34</td>\n",
       "      <td>45</td>\n",
       "      <td>15757</td>\n",
       "      <td>0</td>\n",
       "      <td>0.0</td>\n",
       "      <td>0</td>\n",
       "      <td>55</td>\n",
       "      <td>17</td>\n",
       "      <td>9</td>\n",
       "    </tr>\n",
       "    <tr>\n",
       "      <th>11112572</th>\n",
       "      <td>34</td>\n",
       "      <td>45</td>\n",
       "      <td>19648</td>\n",
       "      <td>0</td>\n",
       "      <td>0.0</td>\n",
       "      <td>23</td>\n",
       "      <td>40</td>\n",
       "      <td>17</td>\n",
       "      <td>4</td>\n",
       "    </tr>\n",
       "    <tr>\n",
       "      <th>11112573</th>\n",
       "      <td>34</td>\n",
       "      <td>45</td>\n",
       "      <td>969</td>\n",
       "      <td>0</td>\n",
       "      <td>0.0</td>\n",
       "      <td>17</td>\n",
       "      <td>37</td>\n",
       "      <td>17</td>\n",
       "      <td>4</td>\n",
       "    </tr>\n",
       "  </tbody>\n",
       "</table>\n",
       "<p>11112574 rows × 9 columns</p>\n",
       "</div>"
      ],
      "text/plain": [
       "          date_block_num  shop_id  item_id  item_cnt_monthly  mean_item_price  \\\n",
       "0                      0       59    22154                 1            999.0   \n",
       "1                      0       59     2552                 0              0.0   \n",
       "2                      0       59     2554                 0              0.0   \n",
       "3                      0       59     2555                 0              0.0   \n",
       "4                      0       59     2564                 0              0.0   \n",
       "...                  ...      ...      ...               ...              ...   \n",
       "11112569              34       45    18454                 0              0.0   \n",
       "11112570              34       45    16188                 0              0.0   \n",
       "11112571              34       45    15757                 0              0.0   \n",
       "11112572              34       45    19648                 0              0.0   \n",
       "11112573              34       45      969                 0              0.0   \n",
       "\n",
       "          first_sales_month  item_category_id  city  sub_category  \n",
       "0                         0                37    28             4  \n",
       "1                         0                58    28             9  \n",
       "2                         0                58    28             9  \n",
       "3                         0                56    28             9  \n",
       "4                         0                59    28             9  \n",
       "...                     ...               ...   ...           ...  \n",
       "11112569                 23                55    17             9  \n",
       "11112570                 32                64    17             8  \n",
       "11112571                  0                55    17             9  \n",
       "11112572                 23                40    17             4  \n",
       "11112573                 17                37    17             4  \n",
       "\n",
       "[11112574 rows x 9 columns]"
      ]
     },
     "execution_count": 55,
     "metadata": {},
     "output_type": "execute_result"
    }
   ],
   "source": [
    "all_data"
   ]
  },
  {
   "cell_type": "markdown",
   "metadata": {},
   "source": [
    "### 시차(time lag) feature 생성\n",
    "타깃값과 관련된 \"기준 feauture별 월간 평균 판매량\" feature를 만들고 이를 활용해 시차 feature를 만들도록한다."
   ]
  },
  {
   "cell_type": "code",
   "execution_count": 56,
   "metadata": {},
   "outputs": [],
   "source": [
    "def add_mean_features(df, mean_features, idx_features): # df->all_data\n",
    "    # 기준 피처 확인 \n",
    "    assert (idx_features[0] == 'date_block_num') and \\\n",
    "           len(idx_features) in [2, 3]\n",
    "\n",
    "    # 파생 피처명 설정 \n",
    "    if len(idx_features) == 2:\n",
    "        feature_name = idx_features[1] + '별 평균 판매량'\n",
    "    else:\n",
    "        feature_name = idx_features[1] + ' ' + idx_features[2] + '별 평균 판매량'\n",
    "\n",
    "    # 기준 피처를 토대로 그룹화해 월간 평균 판매량 구하기 \n",
    "    group = df.groupby(idx_features).agg({'item_cnt_monthly': 'mean'})\n",
    "    group = group.reset_index()\n",
    "    group = group.rename(columns={'item_cnt_monthly': feature_name})\n",
    "\n",
    "    # df와 group 병합 \n",
    "    df = df.merge(group, on=idx_features, how='left')\n",
    "    # 데이터 다운캐스팅 \n",
    "    df = downcast(df, verbose=False)\n",
    "    # 새로 만든 feature_name 피처명을 mean_features 리스트에 추가 \n",
    "    mean_features.append(feature_name)\n",
    "\n",
    "    # 가비지 컬렉션\n",
    "    del group\n",
    "    gc.collect()\n",
    "\n",
    "    return df, mean_features"
   ]
  },
  {
   "cell_type": "code",
   "execution_count": 63,
   "metadata": {},
   "outputs": [],
   "source": [
    "# # 테스트 데이터 월ID를 34로 설정\n",
    "# test['date_block_num'] = 34\n",
    "\n",
    "# # train과 test 이어붙이기\n",
    "# all_data = pd.concat([train, test.drop('ID', axis=1)],\n",
    "#                      ignore_index=True,\n",
    "#                      keys=idx_features)\n",
    "# # 결측값을 0으로 대체\n",
    "# all_data = all_data.fillna(0)\n",
    "\n",
    "# all_data.head()"
   ]
  },
  {
   "cell_type": "markdown",
   "metadata": {},
   "source": [
    "여기서 이 셀을 지나면 all_data가 reset되는 문제 -> 일단 지나게 해서 추후에 merge하는 방법"
   ]
  },
  {
   "cell_type": "code",
   "execution_count": 57,
   "metadata": {},
   "outputs": [
    {
     "data": {
      "text/html": [
       "<div>\n",
       "<style scoped>\n",
       "    .dataframe tbody tr th:only-of-type {\n",
       "        vertical-align: middle;\n",
       "    }\n",
       "\n",
       "    .dataframe tbody tr th {\n",
       "        vertical-align: top;\n",
       "    }\n",
       "\n",
       "    .dataframe thead th {\n",
       "        text-align: right;\n",
       "    }\n",
       "</style>\n",
       "<table border=\"1\" class=\"dataframe\">\n",
       "  <thead>\n",
       "    <tr style=\"text-align: right;\">\n",
       "      <th></th>\n",
       "      <th>date_block_num</th>\n",
       "      <th>shop_id</th>\n",
       "      <th>item_id</th>\n",
       "      <th>item_cnt_monthly</th>\n",
       "      <th>mean_item_price</th>\n",
       "    </tr>\n",
       "  </thead>\n",
       "  <tbody>\n",
       "    <tr>\n",
       "      <th>0</th>\n",
       "      <td>0</td>\n",
       "      <td>59</td>\n",
       "      <td>22154</td>\n",
       "      <td>1.0</td>\n",
       "      <td>999.0</td>\n",
       "    </tr>\n",
       "    <tr>\n",
       "      <th>1</th>\n",
       "      <td>0</td>\n",
       "      <td>59</td>\n",
       "      <td>2552</td>\n",
       "      <td>0.0</td>\n",
       "      <td>0.0</td>\n",
       "    </tr>\n",
       "    <tr>\n",
       "      <th>2</th>\n",
       "      <td>0</td>\n",
       "      <td>59</td>\n",
       "      <td>2554</td>\n",
       "      <td>0.0</td>\n",
       "      <td>0.0</td>\n",
       "    </tr>\n",
       "    <tr>\n",
       "      <th>3</th>\n",
       "      <td>0</td>\n",
       "      <td>59</td>\n",
       "      <td>2555</td>\n",
       "      <td>0.0</td>\n",
       "      <td>0.0</td>\n",
       "    </tr>\n",
       "    <tr>\n",
       "      <th>4</th>\n",
       "      <td>0</td>\n",
       "      <td>59</td>\n",
       "      <td>2564</td>\n",
       "      <td>0.0</td>\n",
       "      <td>0.0</td>\n",
       "    </tr>\n",
       "  </tbody>\n",
       "</table>\n",
       "</div>"
      ],
      "text/plain": [
       "   date_block_num  shop_id  item_id  item_cnt_monthly  mean_item_price\n",
       "0               0       59    22154               1.0            999.0\n",
       "1               0       59     2552               0.0              0.0\n",
       "2               0       59     2554               0.0              0.0\n",
       "3               0       59     2555               0.0              0.0\n",
       "4               0       59     2564               0.0              0.0"
      ]
     },
     "execution_count": 57,
     "metadata": {},
     "output_type": "execute_result"
    }
   ],
   "source": [
    "test['date_block_num'] = 34\n",
    "all_data = pd.concat([train, test.drop('ID', axis=1)], ignore_index=True)\n",
    "all_data = all_data.fillna(0)\n",
    "all_data.head()"
   ]
  },
  {
   "cell_type": "code",
   "execution_count": 65,
   "metadata": {},
   "outputs": [],
   "source": [
    "# # test에 train의 컬럼 구조를 맞춰줌 -> test에 없는 컬럼이 fillna 되지 않게 함\n",
    "# for col in train.columns:\n",
    "#     if col not in test.columns and col != 'ID':\n",
    "#         test[col] = np.nan\n",
    "\n",
    "# test['date_block_num'] = 34\n",
    "\n",
    "# # 합치기\n",
    "# all_data = pd.concat([train, test.drop('ID', axis=1)], ignore_index=True)\n",
    "# all_data = all_data.fillna(0)"
   ]
  },
  {
   "cell_type": "code",
   "execution_count": 58,
   "metadata": {},
   "outputs": [],
   "source": [
    "# all_data와 df_train에 모두 존재하는 'shop_id'컬럼을 기준으로 병합\n",
    "# df_train에서 중복 제거 후 city 컬럼만 추출\n",
    "shop_city = df_train[['shop_id', 'city']].drop_duplicates()\n",
    "\n",
    "# all_data에 병합 (중복 컬럼 방지)\n",
    "all_data = all_data.merge(shop_city, on='shop_id', how='left')"
   ]
  },
  {
   "cell_type": "markdown",
   "metadata": {},
   "source": [
    "all_data에 city컬럼을 merge 하였으므로 아래 행이 실행되어야 함 -> ok"
   ]
  },
  {
   "cell_type": "code",
   "execution_count": 59,
   "metadata": {},
   "outputs": [
    {
     "data": {
      "text/plain": [
       "['item_id별 평균 판매량', 'item_id city별 평균 판매량']"
      ]
     },
     "execution_count": 59,
     "metadata": {},
     "output_type": "execute_result"
    }
   ],
   "source": [
    "# 그룹화 기준 피처 중 '상품ID'가 포함된 파생 피처명을 담을 리스트\n",
    "item_mean_features = []\n",
    "\n",
    "# ['월ID', '상품ID']로 그룹화한 월간 평균 판매량 파생 피처 생성\n",
    "all_data, item_mean_features = add_mean_features(df=all_data,\n",
    "                                                 mean_features=item_mean_features,\n",
    "                                                 idx_features=['date_block_num', 'item_id'])\n",
    "\n",
    "# ['월ID', '상품ID', '도시']로 그룹화한 월간 평균 판매량 파생 피처 생성\n",
    "all_data, item_mean_features = add_mean_features(df=all_data,\n",
    "                                                 mean_features=item_mean_features,\n",
    "                                                 idx_features=['date_block_num', 'item_id', 'city'])\n",
    "\n",
    "item_mean_features"
   ]
  },
  {
   "cell_type": "code",
   "execution_count": 60,
   "metadata": {},
   "outputs": [],
   "source": [
    "# item_id 기준으로 item_category_id 병합\n",
    "item_category = df_train[['item_id', 'item_category_id']].drop_duplicates()\n",
    "all_data = all_data.merge(item_category, on='item_id', how='left')"
   ]
  },
  {
   "cell_type": "code",
   "execution_count": 61,
   "metadata": {},
   "outputs": [
    {
     "data": {
      "text/plain": [
       "['shop_id item_category_id별 평균 판매량']"
      ]
     },
     "execution_count": 61,
     "metadata": {},
     "output_type": "execute_result"
    }
   ],
   "source": [
    "# 그룹화 기준 피처 중 '상점ID'가 포함된 파생 피처명을 담을 리스트\n",
    "shop_mean_features = []\n",
    "\n",
    "# ['월ID', '상점ID', '상품분류ID']로 그룹화한 월간 평균 판매량 파생 피처 생성\n",
    "all_data, shop_mean_features = add_mean_features(df=all_data, \n",
    "                                                 mean_features=shop_mean_features,\n",
    "                                                 idx_features=['date_block_num', 'shop_id', 'item_category_id'])\n",
    "\n",
    "shop_mean_features"
   ]
  },
  {
   "cell_type": "code",
   "execution_count": 62,
   "metadata": {},
   "outputs": [],
   "source": [
    "def add_lag_features(df, lag_features_to_clip, idx_features, \n",
    "                     lag_feature, nlags=3, clip=False):\n",
    "    df_temp = df[idx_features + [lag_feature]].copy()\n",
    "\n",
    "    for i in range(1, nlags + 1):\n",
    "        lag_feature_name = lag_feature + '_시차' + str(i)\n",
    "\n",
    "        # 중복 컬럼 있으면 제거\n",
    "        if lag_feature_name in df.columns:\n",
    "            df = df.drop(columns=[lag_feature_name])\n",
    "            # df_temp, df 모두 컬럼이 존재하여 중복 문제로 하나는 거거\n",
    "\n",
    "        df_temp.columns = idx_features + [lag_feature_name]\n",
    "        df_temp['date_block_num'] += 1\n",
    "\n",
    "        df = df.merge(df_temp.drop_duplicates(), on=idx_features, how='left')\n",
    "\n",
    "        df[lag_feature_name] = df[lag_feature_name].fillna(0)\n",
    "\n",
    "        if clip:\n",
    "            lag_features_to_clip.append(lag_feature_name)\n",
    "\n",
    "    df = downcast(df, False)\n",
    "    del df_temp\n",
    "    gc.collect()\n",
    "\n",
    "    return df, lag_features_to_clip"
   ]
  },
  {
   "cell_type": "code",
   "execution_count": 63,
   "metadata": {},
   "outputs": [],
   "source": [
    "lag_features_to_clip = [] # 0 ~ 20 사이로 제한할 시차 피처명을 담을 리스트\n",
    "idx_features = ['date_block_num', 'shop_id', 'item_id'] # 기준 피처\n",
    "\n",
    "# idx_features를 기준으로 월간 판매량의 세 달치 시차 피처 생성\n",
    "all_data, lag_features_to_clip = add_lag_features(df=all_data, \n",
    "                                                  lag_features_to_clip=lag_features_to_clip,\n",
    "                                                  idx_features=idx_features,\n",
    "                                                  lag_feature='item_cnt_monthly', \n",
    "                                                  nlags=3,\n",
    "                                                  clip=True) # 값을 0 ~ 20 사이로 제한"
   ]
  },
  {
   "cell_type": "code",
   "execution_count": 64,
   "metadata": {},
   "outputs": [],
   "source": [
    "# idx_features를 기준으로 판매건수 피처의 세 달치 시차 피처 생성\n",
    "all_data, lag_features_to_clip = add_lag_features(df=all_data, \n",
    "                                                  lag_features_to_clip=lag_features_to_clip,\n",
    "                                                  idx_features=idx_features,\n",
    "                                                  lag_feature='item_cnt_monthly', \n",
    "                                                  nlags=3)\n",
    "\n",
    "# idx_features를 기준으로 평균 판매가 피처의 세 달치 시차 피처 생성\n",
    "all_data, lag_features_to_clip = add_lag_features(df=all_data, \n",
    "                                                  lag_features_to_clip=lag_features_to_clip,\n",
    "                                                  idx_features=idx_features,\n",
    "                                                  lag_feature='mean_item_price', \n",
    "                                                  nlags=3)"
   ]
  },
  {
   "cell_type": "code",
   "execution_count": 73,
   "metadata": {},
   "outputs": [],
   "source": [
    "# all_data"
   ]
  },
  {
   "cell_type": "code",
   "execution_count": 65,
   "metadata": {},
   "outputs": [
    {
     "name": "stdout",
     "output_type": "stream",
     "text": [
      "['date_block_num', 'shop_id', 'item_id', 'item_cnt_monthly', 'mean_item_price', 'city', 'item_id별 평균 판매량', 'item_id city별 평균 판매량', 'item_category_id', 'shop_id item_category_id별 평균 판매량', 'item_cnt_monthly_시차1', 'item_cnt_monthly_시차2', 'item_cnt_monthly_시차3', 'mean_item_price_시차1', 'mean_item_price_시차2', 'mean_item_price_시차3']\n"
     ]
    }
   ],
   "source": [
    "print(all_data.columns.tolist()) "
   ]
  },
  {
   "cell_type": "code",
   "execution_count": 66,
   "metadata": {},
   "outputs": [],
   "source": [
    "# idx_features를 기준으로 item_mean_features 요소별 시차 피처 생성\n",
    "for item_mean_feature in item_mean_features:\n",
    "    all_data, lag_features_to_clip = add_lag_features(df=all_data, \n",
    "                                                      lag_features_to_clip=lag_features_to_clip, \n",
    "                                                      idx_features=idx_features, \n",
    "                                                      lag_feature=item_mean_feature, \n",
    "                                                      nlags=3,\n",
    "                                                      clip=True)\n",
    "# item_mean_features 피처 제거\n",
    "all_data = all_data.drop(item_mean_features, axis=1)"
   ]
  },
  {
   "cell_type": "code",
   "execution_count": 67,
   "metadata": {},
   "outputs": [],
   "source": [
    "# ['월ID', '상점ID', '상품분류ID']를 기준으로 shop_mean_features 요소별 시차 피처 생성\n",
    "for shop_mean_feature in shop_mean_features:\n",
    "    all_data, lag_features_to_clip = add_lag_features(df=all_data,\n",
    "                                                      lag_features_to_clip=lag_features_to_clip, \n",
    "                                                      idx_features=['date_block_num', 'shop_id', 'item_id'], \n",
    "                                                      lag_feature=shop_mean_feature, \n",
    "                                                      nlags=3,\n",
    "                                                      clip=True)\n",
    "# shop_mean_features 피처 제거\n",
    "all_data = all_data.drop(shop_mean_features, axis=1)"
   ]
  },
  {
   "cell_type": "code",
   "execution_count": 68,
   "metadata": {},
   "outputs": [],
   "source": [
    "# 월ID 3미만인 데이터 제거\n",
    "all_data = all_data.drop(all_data[all_data['date_block_num'] < 3].index)"
   ]
  },
  {
   "cell_type": "code",
   "execution_count": 78,
   "metadata": {},
   "outputs": [],
   "source": [
    "# all_data"
   ]
  },
  {
   "cell_type": "markdown",
   "metadata": {},
   "source": [
    "### 기타 feature engineering"
   ]
  },
  {
   "cell_type": "code",
   "execution_count": 69,
   "metadata": {},
   "outputs": [
    {
     "data": {
      "text/html": [
       "<div>\n",
       "<style scoped>\n",
       "    .dataframe tbody tr th:only-of-type {\n",
       "        vertical-align: middle;\n",
       "    }\n",
       "\n",
       "    .dataframe tbody tr th {\n",
       "        vertical-align: top;\n",
       "    }\n",
       "\n",
       "    .dataframe thead th {\n",
       "        text-align: right;\n",
       "    }\n",
       "</style>\n",
       "<table border=\"1\" class=\"dataframe\">\n",
       "  <thead>\n",
       "    <tr style=\"text-align: right;\">\n",
       "      <th></th>\n",
       "      <th>date_block_num</th>\n",
       "      <th>shop_id</th>\n",
       "      <th>item_id</th>\n",
       "      <th>item_cnt_monthly</th>\n",
       "      <th>mean_item_price</th>\n",
       "      <th>city</th>\n",
       "      <th>item_category_id</th>\n",
       "      <th>item_cnt_monthly_시차1</th>\n",
       "      <th>item_cnt_monthly_시차2</th>\n",
       "      <th>item_cnt_monthly_시차3</th>\n",
       "      <th>mean_item_price_시차1</th>\n",
       "      <th>mean_item_price_시차2</th>\n",
       "      <th>mean_item_price_시차3</th>\n",
       "      <th>item_id별 평균 판매량_시차1</th>\n",
       "      <th>item_id별 평균 판매량_시차2</th>\n",
       "      <th>item_id별 평균 판매량_시차3</th>\n",
       "      <th>item_id city별 평균 판매량_시차1</th>\n",
       "      <th>item_id city별 평균 판매량_시차2</th>\n",
       "      <th>item_id city별 평균 판매량_시차3</th>\n",
       "      <th>shop_id item_category_id별 평균 판매량_시차1</th>\n",
       "      <th>shop_id item_category_id별 평균 판매량_시차2</th>\n",
       "      <th>shop_id item_category_id별 평균 판매량_시차3</th>\n",
       "    </tr>\n",
       "  </thead>\n",
       "  <tbody>\n",
       "    <tr>\n",
       "      <th>1122795</th>\n",
       "      <td>3</td>\n",
       "      <td>25</td>\n",
       "      <td>8092</td>\n",
       "      <td>3</td>\n",
       "      <td>149.0</td>\n",
       "      <td>Moscow</td>\n",
       "      <td>40.0</td>\n",
       "      <td>1</td>\n",
       "      <td>0</td>\n",
       "      <td>4</td>\n",
       "      <td>149.0</td>\n",
       "      <td>0.0</td>\n",
       "      <td>149.0</td>\n",
       "      <td>0.586957</td>\n",
       "      <td>0.630435</td>\n",
       "      <td>1.444444</td>\n",
       "      <td>0.666667</td>\n",
       "      <td>0.666667</td>\n",
       "      <td>2.000000</td>\n",
       "      <td>1.035039</td>\n",
       "      <td>0.899247</td>\n",
       "      <td>0.995823</td>\n",
       "    </tr>\n",
       "    <tr>\n",
       "      <th>1122796</th>\n",
       "      <td>3</td>\n",
       "      <td>25</td>\n",
       "      <td>7850</td>\n",
       "      <td>3</td>\n",
       "      <td>199.0</td>\n",
       "      <td>Moscow</td>\n",
       "      <td>30.0</td>\n",
       "      <td>5</td>\n",
       "      <td>1</td>\n",
       "      <td>6</td>\n",
       "      <td>199.0</td>\n",
       "      <td>199.0</td>\n",
       "      <td>199.0</td>\n",
       "      <td>1.869565</td>\n",
       "      <td>1.456522</td>\n",
       "      <td>3.088889</td>\n",
       "      <td>2.916667</td>\n",
       "      <td>2.083333</td>\n",
       "      <td>2.916667</td>\n",
       "      <td>3.554645</td>\n",
       "      <td>2.083532</td>\n",
       "      <td>2.163855</td>\n",
       "    </tr>\n",
       "    <tr>\n",
       "      <th>1122797</th>\n",
       "      <td>3</td>\n",
       "      <td>25</td>\n",
       "      <td>8051</td>\n",
       "      <td>3</td>\n",
       "      <td>30.0</td>\n",
       "      <td>Moscow</td>\n",
       "      <td>66.0</td>\n",
       "      <td>0</td>\n",
       "      <td>0</td>\n",
       "      <td>0</td>\n",
       "      <td>0.0</td>\n",
       "      <td>0.0</td>\n",
       "      <td>0.0</td>\n",
       "      <td>0.043478</td>\n",
       "      <td>0.130435</td>\n",
       "      <td>0.133333</td>\n",
       "      <td>0.000000</td>\n",
       "      <td>0.333333</td>\n",
       "      <td>0.333333</td>\n",
       "      <td>1.796610</td>\n",
       "      <td>2.175439</td>\n",
       "      <td>1.320000</td>\n",
       "    </tr>\n",
       "    <tr>\n",
       "      <th>1122798</th>\n",
       "      <td>3</td>\n",
       "      <td>25</td>\n",
       "      <td>8088</td>\n",
       "      <td>1</td>\n",
       "      <td>199.0</td>\n",
       "      <td>Moscow</td>\n",
       "      <td>55.0</td>\n",
       "      <td>1</td>\n",
       "      <td>1</td>\n",
       "      <td>0</td>\n",
       "      <td>199.0</td>\n",
       "      <td>199.0</td>\n",
       "      <td>0.0</td>\n",
       "      <td>0.130435</td>\n",
       "      <td>0.043478</td>\n",
       "      <td>0.066667</td>\n",
       "      <td>0.166667</td>\n",
       "      <td>0.083333</td>\n",
       "      <td>0.000000</td>\n",
       "      <td>0.569322</td>\n",
       "      <td>0.544919</td>\n",
       "      <td>0.534779</td>\n",
       "    </tr>\n",
       "    <tr>\n",
       "      <th>1122799</th>\n",
       "      <td>3</td>\n",
       "      <td>25</td>\n",
       "      <td>8089</td>\n",
       "      <td>1</td>\n",
       "      <td>199.0</td>\n",
       "      <td>Moscow</td>\n",
       "      <td>55.0</td>\n",
       "      <td>0</td>\n",
       "      <td>1</td>\n",
       "      <td>0</td>\n",
       "      <td>0.0</td>\n",
       "      <td>199.0</td>\n",
       "      <td>0.0</td>\n",
       "      <td>0.478261</td>\n",
       "      <td>0.260870</td>\n",
       "      <td>0.177778</td>\n",
       "      <td>0.666667</td>\n",
       "      <td>0.250000</td>\n",
       "      <td>0.083333</td>\n",
       "      <td>0.569322</td>\n",
       "      <td>0.544919</td>\n",
       "      <td>0.534779</td>\n",
       "    </tr>\n",
       "    <tr>\n",
       "      <th>...</th>\n",
       "      <td>...</td>\n",
       "      <td>...</td>\n",
       "      <td>...</td>\n",
       "      <td>...</td>\n",
       "      <td>...</td>\n",
       "      <td>...</td>\n",
       "      <td>...</td>\n",
       "      <td>...</td>\n",
       "      <td>...</td>\n",
       "      <td>...</td>\n",
       "      <td>...</td>\n",
       "      <td>...</td>\n",
       "      <td>...</td>\n",
       "      <td>...</td>\n",
       "      <td>...</td>\n",
       "      <td>...</td>\n",
       "      <td>...</td>\n",
       "      <td>...</td>\n",
       "      <td>...</td>\n",
       "      <td>...</td>\n",
       "      <td>...</td>\n",
       "      <td>...</td>\n",
       "    </tr>\n",
       "    <tr>\n",
       "      <th>11127999</th>\n",
       "      <td>34</td>\n",
       "      <td>45</td>\n",
       "      <td>18454</td>\n",
       "      <td>0</td>\n",
       "      <td>0.0</td>\n",
       "      <td>Samara</td>\n",
       "      <td>55.0</td>\n",
       "      <td>1</td>\n",
       "      <td>0</td>\n",
       "      <td>0</td>\n",
       "      <td>99.0</td>\n",
       "      <td>0.0</td>\n",
       "      <td>0.0</td>\n",
       "      <td>0.045455</td>\n",
       "      <td>0.023256</td>\n",
       "      <td>0.071429</td>\n",
       "      <td>0.500000</td>\n",
       "      <td>0.000000</td>\n",
       "      <td>0.000000</td>\n",
       "      <td>0.126866</td>\n",
       "      <td>0.074534</td>\n",
       "      <td>0.106061</td>\n",
       "    </tr>\n",
       "    <tr>\n",
       "      <th>11128000</th>\n",
       "      <td>34</td>\n",
       "      <td>45</td>\n",
       "      <td>16188</td>\n",
       "      <td>0</td>\n",
       "      <td>0.0</td>\n",
       "      <td>Samara</td>\n",
       "      <td>64.0</td>\n",
       "      <td>0</td>\n",
       "      <td>0</td>\n",
       "      <td>0</td>\n",
       "      <td>0.0</td>\n",
       "      <td>0.0</td>\n",
       "      <td>0.0</td>\n",
       "      <td>0.022727</td>\n",
       "      <td>0.069767</td>\n",
       "      <td>0.000000</td>\n",
       "      <td>0.000000</td>\n",
       "      <td>0.000000</td>\n",
       "      <td>0.000000</td>\n",
       "      <td>0.094488</td>\n",
       "      <td>0.117117</td>\n",
       "      <td>0.000000</td>\n",
       "    </tr>\n",
       "    <tr>\n",
       "      <th>11128001</th>\n",
       "      <td>34</td>\n",
       "      <td>45</td>\n",
       "      <td>15757</td>\n",
       "      <td>0</td>\n",
       "      <td>0.0</td>\n",
       "      <td>Samara</td>\n",
       "      <td>55.0</td>\n",
       "      <td>0</td>\n",
       "      <td>0</td>\n",
       "      <td>0</td>\n",
       "      <td>0.0</td>\n",
       "      <td>0.0</td>\n",
       "      <td>0.0</td>\n",
       "      <td>0.113636</td>\n",
       "      <td>0.069767</td>\n",
       "      <td>0.095238</td>\n",
       "      <td>0.000000</td>\n",
       "      <td>0.500000</td>\n",
       "      <td>0.000000</td>\n",
       "      <td>0.126866</td>\n",
       "      <td>0.074534</td>\n",
       "      <td>0.106061</td>\n",
       "    </tr>\n",
       "    <tr>\n",
       "      <th>11128002</th>\n",
       "      <td>34</td>\n",
       "      <td>45</td>\n",
       "      <td>19648</td>\n",
       "      <td>0</td>\n",
       "      <td>0.0</td>\n",
       "      <td>Samara</td>\n",
       "      <td>40.0</td>\n",
       "      <td>0</td>\n",
       "      <td>0</td>\n",
       "      <td>0</td>\n",
       "      <td>0.0</td>\n",
       "      <td>0.0</td>\n",
       "      <td>0.0</td>\n",
       "      <td>0.045455</td>\n",
       "      <td>0.069767</td>\n",
       "      <td>0.166667</td>\n",
       "      <td>0.000000</td>\n",
       "      <td>0.000000</td>\n",
       "      <td>0.000000</td>\n",
       "      <td>0.083756</td>\n",
       "      <td>0.074074</td>\n",
       "      <td>0.111645</td>\n",
       "    </tr>\n",
       "    <tr>\n",
       "      <th>11128003</th>\n",
       "      <td>34</td>\n",
       "      <td>45</td>\n",
       "      <td>969</td>\n",
       "      <td>0</td>\n",
       "      <td>0.0</td>\n",
       "      <td>Samara</td>\n",
       "      <td>37.0</td>\n",
       "      <td>0</td>\n",
       "      <td>0</td>\n",
       "      <td>0</td>\n",
       "      <td>0.0</td>\n",
       "      <td>0.0</td>\n",
       "      <td>0.0</td>\n",
       "      <td>0.068182</td>\n",
       "      <td>0.116279</td>\n",
       "      <td>0.023810</td>\n",
       "      <td>0.500000</td>\n",
       "      <td>0.000000</td>\n",
       "      <td>0.000000</td>\n",
       "      <td>0.128205</td>\n",
       "      <td>0.067449</td>\n",
       "      <td>0.122010</td>\n",
       "    </tr>\n",
       "  </tbody>\n",
       "</table>\n",
       "<p>10005209 rows × 22 columns</p>\n",
       "</div>"
      ],
      "text/plain": [
       "          date_block_num  shop_id  item_id  item_cnt_monthly  mean_item_price  \\\n",
       "1122795                3       25     8092                 3            149.0   \n",
       "1122796                3       25     7850                 3            199.0   \n",
       "1122797                3       25     8051                 3             30.0   \n",
       "1122798                3       25     8088                 1            199.0   \n",
       "1122799                3       25     8089                 1            199.0   \n",
       "...                  ...      ...      ...               ...              ...   \n",
       "11127999              34       45    18454                 0              0.0   \n",
       "11128000              34       45    16188                 0              0.0   \n",
       "11128001              34       45    15757                 0              0.0   \n",
       "11128002              34       45    19648                 0              0.0   \n",
       "11128003              34       45      969                 0              0.0   \n",
       "\n",
       "            city  item_category_id  item_cnt_monthly_시차1  \\\n",
       "1122795   Moscow              40.0                     1   \n",
       "1122796   Moscow              30.0                     5   \n",
       "1122797   Moscow              66.0                     0   \n",
       "1122798   Moscow              55.0                     1   \n",
       "1122799   Moscow              55.0                     0   \n",
       "...          ...               ...                   ...   \n",
       "11127999  Samara              55.0                     1   \n",
       "11128000  Samara              64.0                     0   \n",
       "11128001  Samara              55.0                     0   \n",
       "11128002  Samara              40.0                     0   \n",
       "11128003  Samara              37.0                     0   \n",
       "\n",
       "          item_cnt_monthly_시차2  item_cnt_monthly_시차3  mean_item_price_시차1  \\\n",
       "1122795                      0                     4                149.0   \n",
       "1122796                      1                     6                199.0   \n",
       "1122797                      0                     0                  0.0   \n",
       "1122798                      1                     0                199.0   \n",
       "1122799                      1                     0                  0.0   \n",
       "...                        ...                   ...                  ...   \n",
       "11127999                     0                     0                 99.0   \n",
       "11128000                     0                     0                  0.0   \n",
       "11128001                     0                     0                  0.0   \n",
       "11128002                     0                     0                  0.0   \n",
       "11128003                     0                     0                  0.0   \n",
       "\n",
       "          mean_item_price_시차2  mean_item_price_시차3  item_id별 평균 판매량_시차1  \\\n",
       "1122795                   0.0                149.0             0.586957   \n",
       "1122796                 199.0                199.0             1.869565   \n",
       "1122797                   0.0                  0.0             0.043478   \n",
       "1122798                 199.0                  0.0             0.130435   \n",
       "1122799                 199.0                  0.0             0.478261   \n",
       "...                       ...                  ...                  ...   \n",
       "11127999                  0.0                  0.0             0.045455   \n",
       "11128000                  0.0                  0.0             0.022727   \n",
       "11128001                  0.0                  0.0             0.113636   \n",
       "11128002                  0.0                  0.0             0.045455   \n",
       "11128003                  0.0                  0.0             0.068182   \n",
       "\n",
       "          item_id별 평균 판매량_시차2  item_id별 평균 판매량_시차3  item_id city별 평균 판매량_시차1  \\\n",
       "1122795              0.630435             1.444444                  0.666667   \n",
       "1122796              1.456522             3.088889                  2.916667   \n",
       "1122797              0.130435             0.133333                  0.000000   \n",
       "1122798              0.043478             0.066667                  0.166667   \n",
       "1122799              0.260870             0.177778                  0.666667   \n",
       "...                       ...                  ...                       ...   \n",
       "11127999             0.023256             0.071429                  0.500000   \n",
       "11128000             0.069767             0.000000                  0.000000   \n",
       "11128001             0.069767             0.095238                  0.000000   \n",
       "11128002             0.069767             0.166667                  0.000000   \n",
       "11128003             0.116279             0.023810                  0.500000   \n",
       "\n",
       "          item_id city별 평균 판매량_시차2  item_id city별 평균 판매량_시차3  \\\n",
       "1122795                   0.666667                  2.000000   \n",
       "1122796                   2.083333                  2.916667   \n",
       "1122797                   0.333333                  0.333333   \n",
       "1122798                   0.083333                  0.000000   \n",
       "1122799                   0.250000                  0.083333   \n",
       "...                            ...                       ...   \n",
       "11127999                  0.000000                  0.000000   \n",
       "11128000                  0.000000                  0.000000   \n",
       "11128001                  0.500000                  0.000000   \n",
       "11128002                  0.000000                  0.000000   \n",
       "11128003                  0.000000                  0.000000   \n",
       "\n",
       "          shop_id item_category_id별 평균 판매량_시차1  \\\n",
       "1122795                               1.035039   \n",
       "1122796                               3.554645   \n",
       "1122797                               1.796610   \n",
       "1122798                               0.569322   \n",
       "1122799                               0.569322   \n",
       "...                                        ...   \n",
       "11127999                              0.126866   \n",
       "11128000                              0.094488   \n",
       "11128001                              0.126866   \n",
       "11128002                              0.083756   \n",
       "11128003                              0.128205   \n",
       "\n",
       "          shop_id item_category_id별 평균 판매량_시차2  \\\n",
       "1122795                               0.899247   \n",
       "1122796                               2.083532   \n",
       "1122797                               2.175439   \n",
       "1122798                               0.544919   \n",
       "1122799                               0.544919   \n",
       "...                                        ...   \n",
       "11127999                              0.074534   \n",
       "11128000                              0.117117   \n",
       "11128001                              0.074534   \n",
       "11128002                              0.074074   \n",
       "11128003                              0.067449   \n",
       "\n",
       "          shop_id item_category_id별 평균 판매량_시차3  \n",
       "1122795                               0.995823  \n",
       "1122796                               2.163855  \n",
       "1122797                               1.320000  \n",
       "1122798                               0.534779  \n",
       "1122799                               0.534779  \n",
       "...                                        ...  \n",
       "11127999                              0.106061  \n",
       "11128000                              0.000000  \n",
       "11128001                              0.106061  \n",
       "11128002                              0.111645  \n",
       "11128003                              0.122010  \n",
       "\n",
       "[10005209 rows x 22 columns]"
      ]
     },
     "execution_count": 69,
     "metadata": {},
     "output_type": "execute_result"
    }
   ],
   "source": [
    "pd.set_option('display.max_columns', None)\n",
    "all_data"
   ]
  },
  {
   "cell_type": "code",
   "execution_count": 70,
   "metadata": {},
   "outputs": [],
   "source": [
    "all_data['월간 판매량 시차평균'] = all_data[['item_cnt_monthly_시차1',\n",
    "                                          'item_cnt_monthly_시차2', \n",
    "                                          'item_cnt_monthly_시차3']].mean(axis=1)"
   ]
  },
  {
   "cell_type": "code",
   "execution_count": 71,
   "metadata": {},
   "outputs": [],
   "source": [
    "# 0 ~ 20 사이로 값 제한\n",
    "all_data[lag_features_to_clip + ['item_cnt_monthly', '월간 판매량 시차평균']] = all_data[lag_features_to_clip + ['item_cnt_monthly', '월간 판매량 시차평균']].clip(0, 20)"
   ]
  },
  {
   "cell_type": "markdown",
   "metadata": {},
   "source": [
    "월간판매량 -> item_cnt_monthly 로 바꿔야 할 것 같은데 오류 날까봐 일단 둠 -> 수정해서 오류 해결"
   ]
  },
  {
   "cell_type": "code",
   "execution_count": 72,
   "metadata": {},
   "outputs": [],
   "source": [
    "all_data['시차변화량1'] = all_data['item_cnt_monthly_시차1']/all_data['item_cnt_monthly_시차2']\n",
    "all_data['시차변화량1'] = all_data['시차변화량1'].replace([np.inf, -np.inf], \n",
    "                                                        np.nan).fillna(0)\n",
    "\n",
    "all_data['시차변화량2'] = all_data['item_cnt_monthly_시차2']/all_data['item_cnt_monthly_시차3']\n",
    "all_data['시차변화량2'] = all_data['시차변화량2'].replace([np.inf, -np.inf], \n",
    "                                                        np.nan).fillna(0)"
   ]
  },
  {
   "cell_type": "code",
   "execution_count": 73,
   "metadata": {},
   "outputs": [
    {
     "name": "stdout",
     "output_type": "stream",
     "text": [
      "<class 'pandas.core.frame.DataFrame'>\n",
      "RangeIndex: 10005209 entries, 1122795 to 11128003\n",
      "Data columns (total 25 columns):\n",
      " #   Column                                Dtype  \n",
      "---  ------                                -----  \n",
      " 0   date_block_num                        int8   \n",
      " 1   shop_id                               int8   \n",
      " 2   item_id                               int16  \n",
      " 3   item_cnt_monthly                      int16  \n",
      " 4   mean_item_price                       float64\n",
      " 5   city                                  object \n",
      " 6   item_category_id                      float64\n",
      " 7   item_cnt_monthly_시차1                  int16  \n",
      " 8   item_cnt_monthly_시차2                  int16  \n",
      " 9   item_cnt_monthly_시차3                  int16  \n",
      " 10  mean_item_price_시차1                   float64\n",
      " 11  mean_item_price_시차2                   float64\n",
      " 12  mean_item_price_시차3                   float64\n",
      " 13  item_id별 평균 판매량_시차1                   float32\n",
      " 14  item_id별 평균 판매량_시차2                   float32\n",
      " 15  item_id별 평균 판매량_시차3                   float32\n",
      " 16  item_id city별 평균 판매량_시차1              float32\n",
      " 17  item_id city별 평균 판매량_시차2              float32\n",
      " 18  item_id city별 평균 판매량_시차3              float32\n",
      " 19  shop_id item_category_id별 평균 판매량_시차1  float32\n",
      " 20  shop_id item_category_id별 평균 판매량_시차2  float32\n",
      " 21  shop_id item_category_id별 평균 판매량_시차3  float32\n",
      " 22  월간 판매량 시차평균                           float64\n",
      " 23  시차변화량1                                float64\n",
      " 24  시차변화량2                                float64\n",
      "dtypes: float32(9), float64(8), int16(5), int8(2), object(1)\n",
      "memory usage: 1.1+ GB\n"
     ]
    }
   ],
   "source": [
    "all_data.info()"
   ]
  },
  {
   "cell_type": "code",
   "execution_count": 74,
   "metadata": {},
   "outputs": [
    {
     "data": {
      "text/plain": [
       "date_block_num                              0\n",
       "shop_id                                     0\n",
       "item_id                                     0\n",
       "item_cnt_monthly                            0\n",
       "mean_item_price                             0\n",
       "city                                        0\n",
       "item_category_id                        15339\n",
       "item_cnt_monthly_시차1                        0\n",
       "item_cnt_monthly_시차2                        0\n",
       "item_cnt_monthly_시차3                        0\n",
       "mean_item_price_시차1                         0\n",
       "mean_item_price_시차2                         0\n",
       "mean_item_price_시차3                         0\n",
       "item_id별 평균 판매량_시차1                         0\n",
       "item_id별 평균 판매량_시차2                         0\n",
       "item_id별 평균 판매량_시차3                         0\n",
       "item_id city별 평균 판매량_시차1                    0\n",
       "item_id city별 평균 판매량_시차2                    0\n",
       "item_id city별 평균 판매량_시차3                    0\n",
       "shop_id item_category_id별 평균 판매량_시차1        0\n",
       "shop_id item_category_id별 평균 판매량_시차2        0\n",
       "shop_id item_category_id별 평균 판매량_시차3        0\n",
       "월간 판매량 시차평균                                 0\n",
       "시차변화량1                                      0\n",
       "시차변화량2                                      0\n",
       "dtype: int64"
      ]
     },
     "execution_count": 74,
     "metadata": {},
     "output_type": "execute_result"
    }
   ],
   "source": [
    "all_data.isna().sum()"
   ]
  },
  {
   "cell_type": "code",
   "execution_count": 75,
   "metadata": {},
   "outputs": [
    {
     "name": "stdout",
     "output_type": "stream",
     "text": [
      "<class 'pandas.core.frame.DataFrame'>\n",
      "RangeIndex: 11112574 entries, 0 to 11112573\n",
      "Data columns (total 9 columns):\n",
      " #   Column             Dtype  \n",
      "---  ------             -----  \n",
      " 0   date_block_num     int64  \n",
      " 1   shop_id            int64  \n",
      " 2   item_id            int64  \n",
      " 3   item_cnt_monthly   float64\n",
      " 4   mean_item_price    float64\n",
      " 5   first_sales_month  float64\n",
      " 6   item_category_id   float64\n",
      " 7   city               int32  \n",
      " 8   sub_category       int32  \n",
      "dtypes: float64(4), int32(2), int64(3)\n",
      "memory usage: 678.3 MB\n"
     ]
    }
   ],
   "source": [
    "merge_df.info()"
   ]
  },
  {
   "cell_type": "code",
   "execution_count": 76,
   "metadata": {},
   "outputs": [],
   "source": [
    "merge_df_filtered = merge_df[['item_id', 'first_sales_month', 'sub_category']].drop_duplicates('item_id')\n",
    "\n",
    "# NaN 허용되는 정수형으로 변환\n",
    "merge_df_filtered['first_sales_month'] = merge_df_filtered['first_sales_month'].astype('Int8')\n",
    "merge_df_filtered['sub_category'] = merge_df_filtered['sub_category'].astype('Int8')\n",
    "\n",
    "# 기존 컬럼 제거 (있다면)\n",
    "for col in ['first_sales_month', 'sub_category']:\n",
    "    if col in all_data.columns:\n",
    "        all_data = all_data.drop(columns=col)\n",
    "\n",
    "# merge\n",
    "all_data = all_data.merge(merge_df_filtered, on='item_id', how='left')"
   ]
  },
  {
   "cell_type": "code",
   "execution_count": 77,
   "metadata": {},
   "outputs": [],
   "source": [
    "all_data['신상여부'] = all_data['first_sales_month'] == all_data['date_block_num']"
   ]
  },
  {
   "cell_type": "code",
   "execution_count": 78,
   "metadata": {},
   "outputs": [],
   "source": [
    "all_data['월'] = all_data['date_block_num'] % 12"
   ]
  },
  {
   "cell_type": "code",
   "execution_count": 79,
   "metadata": {},
   "outputs": [
    {
     "data": {
      "text/plain": [
       "date_block_num                              0\n",
       "shop_id                                     0\n",
       "item_id                                     0\n",
       "item_cnt_monthly                            0\n",
       "mean_item_price                             0\n",
       "city                                        0\n",
       "item_category_id                        15339\n",
       "item_cnt_monthly_시차1                        0\n",
       "item_cnt_monthly_시차2                        0\n",
       "item_cnt_monthly_시차3                        0\n",
       "mean_item_price_시차1                         0\n",
       "mean_item_price_시차2                         0\n",
       "mean_item_price_시차3                         0\n",
       "item_id별 평균 판매량_시차1                         0\n",
       "item_id별 평균 판매량_시차2                         0\n",
       "item_id별 평균 판매량_시차3                         0\n",
       "item_id city별 평균 판매량_시차1                    0\n",
       "item_id city별 평균 판매량_시차2                    0\n",
       "item_id city별 평균 판매량_시차3                    0\n",
       "shop_id item_category_id별 평균 판매량_시차1        0\n",
       "shop_id item_category_id별 평균 판매량_시차2        0\n",
       "shop_id item_category_id별 평균 판매량_시차3        0\n",
       "월간 판매량 시차평균                                 0\n",
       "시차변화량1                                      0\n",
       "시차변화량2                                      0\n",
       "first_sales_month                       15339\n",
       "sub_category                            15339\n",
       "신상여부                                    15339\n",
       "월                                           0\n",
       "dtype: int64"
      ]
     },
     "execution_count": 79,
     "metadata": {},
     "output_type": "execute_result"
    }
   ],
   "source": [
    "all_data.isna().sum()"
   ]
  },
  {
   "cell_type": "code",
   "execution_count": 90,
   "metadata": {},
   "outputs": [],
   "source": [
    "# # 첫 판매월, 평균 판매가, 판매건수 피처 제거\n",
    "# all_data = all_data.drop(['first_sales_month', 'mean_item_price', 'item_cnt_monthly'], axis=1)"
   ]
  },
  {
   "cell_type": "code",
   "execution_count": 80,
   "metadata": {},
   "outputs": [
    {
     "data": {
      "text/plain": [
       "date_block_num                              0\n",
       "shop_id                                     0\n",
       "item_id                                     0\n",
       "item_cnt_monthly                            0\n",
       "mean_item_price                             0\n",
       "city                                        0\n",
       "item_category_id                        15339\n",
       "item_cnt_monthly_시차1                        0\n",
       "item_cnt_monthly_시차2                        0\n",
       "item_cnt_monthly_시차3                        0\n",
       "mean_item_price_시차1                         0\n",
       "mean_item_price_시차2                         0\n",
       "mean_item_price_시차3                         0\n",
       "item_id별 평균 판매량_시차1                         0\n",
       "item_id별 평균 판매량_시차2                         0\n",
       "item_id별 평균 판매량_시차3                         0\n",
       "item_id city별 평균 판매량_시차1                    0\n",
       "item_id city별 평균 판매량_시차2                    0\n",
       "item_id city별 평균 판매량_시차3                    0\n",
       "shop_id item_category_id별 평균 판매량_시차1        0\n",
       "shop_id item_category_id별 평균 판매량_시차2        0\n",
       "shop_id item_category_id별 평균 판매량_시차3        0\n",
       "월간 판매량 시차평균                                 0\n",
       "시차변화량1                                      0\n",
       "시차변화량2                                      0\n",
       "first_sales_month                       15339\n",
       "sub_category                            15339\n",
       "신상여부                                    15339\n",
       "월                                           0\n",
       "dtype: int64"
      ]
     },
     "execution_count": 80,
     "metadata": {},
     "output_type": "execute_result"
    }
   ],
   "source": [
    "all_data.isna().sum()"
   ]
  },
  {
   "cell_type": "code",
   "execution_count": 81,
   "metadata": {},
   "outputs": [],
   "source": [
    "# 결측치가 생긴 컬럼 리스트\n",
    "cols_with_na = ['item_category_id', 'sub_category', '신상여부']\n",
    "\n",
    "# 결측치가 하나라도 있는 행 제거\n",
    "all_data = all_data.dropna(subset=cols_with_na).reset_index(drop=True)"
   ]
  },
  {
   "cell_type": "code",
   "execution_count": 82,
   "metadata": {},
   "outputs": [
    {
     "data": {
      "text/plain": [
       "date_block_num                          0\n",
       "shop_id                                 0\n",
       "item_id                                 0\n",
       "item_cnt_monthly                        0\n",
       "mean_item_price                         0\n",
       "city                                    0\n",
       "item_category_id                        0\n",
       "item_cnt_monthly_시차1                    0\n",
       "item_cnt_monthly_시차2                    0\n",
       "item_cnt_monthly_시차3                    0\n",
       "mean_item_price_시차1                     0\n",
       "mean_item_price_시차2                     0\n",
       "mean_item_price_시차3                     0\n",
       "item_id별 평균 판매량_시차1                     0\n",
       "item_id별 평균 판매량_시차2                     0\n",
       "item_id별 평균 판매량_시차3                     0\n",
       "item_id city별 평균 판매량_시차1                0\n",
       "item_id city별 평균 판매량_시차2                0\n",
       "item_id city별 평균 판매량_시차3                0\n",
       "shop_id item_category_id별 평균 판매량_시차1    0\n",
       "shop_id item_category_id별 평균 판매량_시차2    0\n",
       "shop_id item_category_id별 평균 판매량_시차3    0\n",
       "월간 판매량 시차평균                             0\n",
       "시차변화량1                                  0\n",
       "시차변화량2                                  0\n",
       "first_sales_month                       0\n",
       "sub_category                            0\n",
       "신상여부                                    0\n",
       "월                                       0\n",
       "dtype: int64"
      ]
     },
     "execution_count": 82,
     "metadata": {},
     "output_type": "execute_result"
    }
   ],
   "source": [
    "all_data.isna().sum()"
   ]
  },
  {
   "cell_type": "code",
   "execution_count": 83,
   "metadata": {},
   "outputs": [],
   "source": [
    "from sklearn.preprocessing import LabelEncoder\n",
    "\n",
    "# 레이블 인코더 생성\n",
    "label_encoder = LabelEncoder()\n",
    "\n",
    "# 도시 피처 레이블 인코딩\n",
    "all_data['city'] = label_encoder.fit_transform(all_data['city'])"
   ]
  },
  {
   "cell_type": "code",
   "execution_count": 84,
   "metadata": {},
   "outputs": [],
   "source": [
    "all_data = downcast(all_data, False) # 데이터 다운캐스팅"
   ]
  },
  {
   "cell_type": "code",
   "execution_count": 85,
   "metadata": {},
   "outputs": [
    {
     "data": {
      "text/plain": [
       "0"
      ]
     },
     "execution_count": 85,
     "metadata": {},
     "output_type": "execute_result"
    }
   ],
   "source": [
    "# 타깃값 (item_cnt_monthly) 먼저 분리\n",
    "y_train = all_data.loc[all_data['date_block_num'] < 33, 'item_cnt_monthly']\n",
    "y_valid = all_data.loc[all_data['date_block_num'] == 33, 'item_cnt_monthly']\n",
    "\n",
    "# 예측에 필요 없는 피처 제거 (타깃과 누설 가능성 있는 것들)\n",
    "all_data = all_data.drop(['first_sales_month', 'mean_item_price', 'item_cnt_monthly'], axis=1)\n",
    "\n",
    "# 학습/검증/테스트용 피처 데이터 분리\n",
    "X_train = all_data[all_data['date_block_num'] < 33]\n",
    "X_valid = all_data[all_data['date_block_num'] == 33]\n",
    "X_test = all_data[all_data['date_block_num'] == 34]\n",
    "\n",
    "# 메모리 정리\n",
    "del all_data\n",
    "gc.collect()"
   ]
  },
  {
   "cell_type": "code",
   "execution_count": 86,
   "metadata": {},
   "outputs": [
    {
     "name": "stdout",
     "output_type": "stream",
     "text": [
      "y_train shape: (9552744,)\n",
      "y_valid shape: (238172,)\n",
      "X_train shape: (9552744, 26)\n",
      "X_valid shape: (238172, 26)\n",
      "X_test shape: (198954, 26)\n"
     ]
    }
   ],
   "source": [
    "print(\"y_train shape:\", y_train.shape)\n",
    "print(\"y_valid shape:\", y_valid.shape)\n",
    "\n",
    "print(\"X_train shape:\", X_train.shape)\n",
    "print(\"X_valid shape:\", X_valid.shape)\n",
    "print(\"X_test shape:\", X_test.shape)"
   ]
  },
  {
   "cell_type": "code",
   "execution_count": 87,
   "metadata": {},
   "outputs": [
    {
     "name": "stdout",
     "output_type": "stream",
     "text": [
      "y_train stats:\n",
      "count    9.552744e+06\n",
      "mean     2.946082e-01\n",
      "std      1.212860e+00\n",
      "min      0.000000e+00\n",
      "25%      0.000000e+00\n",
      "50%      0.000000e+00\n",
      "75%      0.000000e+00\n",
      "max      2.000000e+01\n",
      "Name: item_cnt_monthly, dtype: float64\n",
      "y_valid stats:\n",
      "count    238172.000000\n",
      "mean          0.259056\n",
      "std           1.137015\n",
      "min           0.000000\n",
      "25%           0.000000\n",
      "50%           0.000000\n",
      "75%           0.000000\n",
      "max          20.000000\n",
      "Name: item_cnt_monthly, dtype: float64\n"
     ]
    }
   ],
   "source": [
    "print(\"y_train stats:\")\n",
    "print(y_train.describe())\n",
    "\n",
    "print(\"y_valid stats:\")\n",
    "print(y_valid.describe())"
   ]
  },
  {
   "cell_type": "code",
   "execution_count": 100,
   "metadata": {},
   "outputs": [
    {
     "name": "stdout",
     "output_type": "stream",
     "text": [
      "[LightGBM] [Warning] Found whitespace in feature_names, replace with underlines\n",
      "[LightGBM] [Info] Total Bins 3759\n",
      "[LightGBM] [Info] Number of data points in the train set: 9552744, number of used features: 26\n",
      "[LightGBM] [Warning] Found whitespace in feature_names, replace with underlines\n",
      "[LightGBM] [Info] Start training from score 0.294608\n",
      "Training until validation scores don't improve for 150 rounds\n",
      "[100]\ttraining's rmse: 0.880717\tvalid_1's rmse: 0.908988\n",
      "[200]\ttraining's rmse: 0.858147\tvalid_1's rmse: 0.90393\n",
      "[300]\ttraining's rmse: 0.847444\tvalid_1's rmse: 0.901126\n",
      "[400]\ttraining's rmse: 0.839401\tvalid_1's rmse: 0.899731\n",
      "[500]\ttraining's rmse: 0.833658\tvalid_1's rmse: 0.899055\n",
      "[600]\ttraining's rmse: 0.827957\tvalid_1's rmse: 0.898553\n",
      "[700]\ttraining's rmse: 0.82343\tvalid_1's rmse: 0.897814\n",
      "[800]\ttraining's rmse: 0.819685\tvalid_1's rmse: 0.897674\n",
      "[900]\ttraining's rmse: 0.816227\tvalid_1's rmse: 0.898085\n",
      "Early stopping, best iteration is:\n",
      "[777]\ttraining's rmse: 0.820783\tvalid_1's rmse: 0.897461\n"
     ]
    }
   ],
   "source": [
    "import lightgbm as lgb\n",
    "\n",
    "# 범주형 변수 리스트\n",
    "cat_features = ['shop_id', 'city', 'item_category_id', 'sub_category', '월']\n",
    "\n",
    "# 1. 범주형 변수 타입 변환\n",
    "for col in cat_features:\n",
    "    X_train[col] = X_train[col].astype('category')\n",
    "    X_valid[col] = X_valid[col].astype('category')\n",
    "\n",
    "# 2. LightGBM 하이퍼파라미터 설정\n",
    "params = {\n",
    "    'objective': 'regression',\n",
    "    'metric': 'rmse', \n",
    "    'num_leaves': 20,\n",
    "    'learning_rate': 0.03,\n",
    "    'feature_fraction': 0.75,\n",
    "    'bagging_fraction': 0.75,\n",
    "    'bagging_freq': 5,\n",
    "    'force_col_wise': True,\n",
    "    'random_state': 10,\n",
    "    'early_stopping_rounds':150\n",
    "    # 'verbose_eval':100\n",
    "}\n",
    "\n",
    "# 3. 훈련 및 검증용 데이터셋 생성\n",
    "dtrain = lgb.Dataset(X_train, label=y_train, categorical_feature=cat_features)\n",
    "dvalid = lgb.Dataset(X_valid, label=y_valid, categorical_feature=cat_features)\n",
    "\n",
    "# 4. 모델 훈련\n",
    "lgb_model = lgb.train(\n",
    "    params=params,\n",
    "    train_set=dtrain,\n",
    "    valid_sets=[dtrain, dvalid],\n",
    "    num_boost_round=1000,\n",
    "    callbacks = [lgb.log_evaluation(period=100)]  # 100번마다 출력\n",
    ")"
   ]
  },
  {
   "cell_type": "code",
   "execution_count": 101,
   "metadata": {},
   "outputs": [
    {
     "name": "stdout",
     "output_type": "stream",
     "text": [
      "Best iteration: 777\n",
      "Best RMSE on validation set: 0.8974612010580487\n"
     ]
    }
   ],
   "source": [
    "print(\"Best iteration:\", lgb_model.best_iteration)\n",
    "print(\"Best RMSE on validation set:\", lgb_model.best_score['valid_1']['rmse'])"
   ]
  },
  {
   "cell_type": "markdown",
   "metadata": {},
   "source": [
    "### 이 밑으로는, 모델 개선/피처별 중요도/그룹별 2015년 11월 매출 예측 진행"
   ]
  },
  {
   "cell_type": "markdown",
   "metadata": {},
   "source": [
    "#### 피처별 중요도"
   ]
  },
  {
   "cell_type": "code",
   "execution_count": 111,
   "metadata": {},
   "outputs": [
    {
     "data": {
      "image/png": "[encoded data removed]",
      "text/plain": [
       "<Figure size 1000x600 with 1 Axes>"
      ]
     },
     "metadata": {},
     "output_type": "display_data"
    }
   ],
   "source": [
    "import matplotlib.pyplot as plt\n",
    "import pandas as pd\n",
    "\n",
    "# 1. 중요도 데이터 추출\n",
    "importance_df = pd.DataFrame({\n",
    "    'feature': lgb_model.feature_name(),\n",
    "    'importance': lgb_model.feature_importance(importance_type='gain')  # or 'split'\n",
    "})\n",
    "\n",
    "# 중요도 기준 내림차순 정렬\n",
    "importance_df = importance_df.sort_values(by='importance', ascending=False)\n",
    "\n",
    "# 2. 시각화\n",
    "plt.figure(figsize=(10, 6))\n",
    "plt.barh(importance_df['feature'], importance_df['importance'])\n",
    "plt.xlabel(\"Importance (gain)\")\n",
    "plt.title(\"Feature Importance (LightGBM)\")\n",
    "plt.gca().invert_yaxis()  # 가장 중요한 피처가 위로 오도록\n",
    "plt.tight_layout()\n",
    "plt.show()"
   ]
  },
  {
   "cell_type": "markdown",
   "metadata": {},
   "source": [
    "- item_cnt_monthly_시차1 -> 가장 중요한 피처로 예측 성능에 가장 큰 영향\n",
    "- 월간_판매량_시차평균, item_category_id, item_id_city별_평균_판매량_시차1 -> 유의미한 피처들\n",
    "- item_id, sub_category, date_block_num 등 -> 기여도가 낮음 (삭제 고려 가능)"
   ]
  },
  {
   "cell_type": "markdown",
   "metadata": {},
   "source": [
    "### 중요도가 낮은 피처 제거 후 실험해보기\n",
    "- ex) 시차변화량1, 시차변화량2, item_id, mean_item_price_시차3 등 -> ➜ 불필요한 피처를 제거하면 노이즈가 감소하지 않을까?"
   ]
  },
  {
   "cell_type": "code",
   "execution_count": 88,
   "metadata": {},
   "outputs": [
    {
     "name": "stdout",
     "output_type": "stream",
     "text": [
      "['date_block_num', 'shop_id', 'item_id', 'city', 'item_category_id', 'item_cnt_monthly_시차1', 'item_cnt_monthly_시차2', 'item_cnt_monthly_시차3', 'mean_item_price_시차1', 'mean_item_price_시차2', 'mean_item_price_시차3', 'item_id별 평균 판매량_시차1', 'item_id별 평균 판매량_시차2', 'item_id별 평균 판매량_시차3', 'item_id city별 평균 판매량_시차1', 'item_id city별 평균 판매량_시차2', 'item_id city별 평균 판매량_시차3', 'shop_id item_category_id별 평균 판매량_시차1', 'shop_id item_category_id별 평균 판매량_시차2', 'shop_id item_category_id별 평균 판매량_시차3', '월간 판매량 시차평균', '시차변화량1', '시차변화량2', 'sub_category', '신상여부', '월']\n"
     ]
    }
   ],
   "source": [
    "# X_train에 있는 컬럼들 확인하기\n",
    "print(X_train.columns.tolist())"
   ]
  },
  {
   "cell_type": "markdown",
   "metadata": {},
   "source": [
    "#### try 1: 'item_id', '시차변화량1', '시차변화량2', 'mean_item_price_시차3', 'item_id city별 평균 판매량_시차2' -> 제거함"
   ]
  },
  {
   "cell_type": "code",
   "execution_count": null,
   "metadata": {},
   "outputs": [],
   "source": [
    "low_importance_features = [\n",
    "    'item_id', '시차변화량1', '시차변화량2',\n",
    "    'mean_item_price_시차3', 'item_id city별 평균 판매량_시차2'\n",
    "]\n",
    "\n",
    "X_train = X_train.drop(columns=low_importance_features)\n",
    "X_valid = X_valid.drop(columns=low_importance_features)"
   ]
  },
  {
   "cell_type": "code",
   "execution_count": null,
   "metadata": {},
   "outputs": [
    {
     "name": "stderr",
     "output_type": "stream",
     "text": [
      "[I 2025-06-03 12:01:16,366] A new study created in memory with name: no-name-5d4a83ae-8873-4e84-82da-1784b15b03ba\n"
     ]
    },
    {
     "name": "stderr",
     "output_type": "stream",
     "text": [
      "[I 2025-06-03 12:04:19,416] Trial 0 finished with value: 0.8771982362648941 and parameters: {'num_leaves': 56, 'learning_rate': 0.1406188318576026, 'feature_fraction': 0.9167215957385184, 'bagging_fraction': 0.6833710037734722, 'bagging_freq': 3, 'min_data_in_leaf': 70}. Best is trial 0 with value: 0.8771982362648941.\n",
      "[I 2025-06-03 12:14:58,243] Trial 1 finished with value: 0.8833084714828993 and parameters: {'num_leaves': 55, 'learning_rate': 0.01985079874238134, 'feature_fraction': 0.700888116898306, 'bagging_fraction': 0.6483504547891693, 'bagging_freq': 3, 'min_data_in_leaf': 57}. Best is trial 0 with value: 0.8771982362648941.\n",
      "[I 2025-06-03 12:21:08,840] Trial 2 finished with value: 0.8789972246185634 and parameters: {'num_leaves': 35, 'learning_rate': 0.06616138997788612, 'feature_fraction': 0.8539907767964062, 'bagging_fraction': 0.6274152042464768, 'bagging_freq': 2, 'min_data_in_leaf': 13}. Best is trial 0 with value: 0.8771982362648941.\n",
      "[I 2025-06-03 12:25:20,486] Trial 3 finished with value: 0.8830580649072038 and parameters: {'num_leaves': 77, 'learning_rate': 0.11422494800573774, 'feature_fraction': 0.8200279429128559, 'bagging_fraction': 0.6272906853019989, 'bagging_freq': 6, 'min_data_in_leaf': 22}. Best is trial 0 with value: 0.8771982362648941.\n",
      "[I 2025-06-03 12:30:20,458] Trial 4 finished with value: 0.8845303272951723 and parameters: {'num_leaves': 44, 'learning_rate': 0.09880388943582866, 'feature_fraction': 0.8077767736373395, 'bagging_fraction': 0.7640706770372984, 'bagging_freq': 1, 'min_data_in_leaf': 69}. Best is trial 0 with value: 0.8771982362648941.\n"
     ]
    },
    {
     "name": "stdout",
     "output_type": "stream",
     "text": [
      "Best RMSE: 0.8771982362648941\n",
      "Best hyperparameters: {'num_leaves': 56, 'learning_rate': 0.1406188318576026, 'feature_fraction': 0.9167215957385184, 'bagging_fraction': 0.6833710037734722, 'bagging_freq': 3, 'min_data_in_leaf': 70}\n"
     ]
    }
   ],
   "source": [
    "import optuna\n",
    "import lightgbm as lgb\n",
    "from sklearn.metrics import mean_squared_error\n",
    "import numpy as np\n",
    "\n",
    "# Optuna objective 함수 정의\n",
    "def objective(trial):\n",
    "    # 하이퍼파라미터 공간 정의\n",
    "    param = {\n",
    "        'objective': 'regression',\n",
    "        'metric': 'rmse',\n",
    "        'verbosity': -1,\n",
    "        'boosting_type': 'gbdt',\n",
    "        'random_state': 42,\n",
    "        'force_col_wise': True,\n",
    "        \n",
    "        'num_leaves': trial.suggest_int('num_leaves', 20, 100),\n",
    "        'learning_rate': trial.suggest_float('learning_rate', 0.01, 0.2),\n",
    "        'feature_fraction': trial.suggest_float('feature_fraction', 0.6, 1.0),\n",
    "        'bagging_fraction': trial.suggest_float('bagging_fraction', 0.6, 1.0),\n",
    "        'bagging_freq': trial.suggest_int('bagging_freq', 1, 10),\n",
    "        'min_data_in_leaf': trial.suggest_int('min_data_in_leaf', 10, 100),\n",
    "        'early_stopping_rounds':50\n",
    "    }\n",
    "\n",
    "    # 데이터셋 준비\n",
    "    dtrain = lgb.Dataset(X_train, label=y_train, categorical_feature=cat_features)\n",
    "    dvalid = lgb.Dataset(X_valid, label=y_valid, categorical_feature=cat_features)\n",
    "\n",
    "    # 모델 학습\n",
    "    model = lgb.train(\n",
    "        param,\n",
    "        train_set=dtrain,\n",
    "        valid_sets=[dvalid],\n",
    "        num_boost_round=1000   \n",
    "        )\n",
    "\n",
    "    # 예측 및 평가\n",
    "    preds = model.predict(X_test)\n",
    "    rmse = mean_squared_error(y_valid, preds, squared=False)\n",
    "    return rmse\n",
    "\n",
    "# 최적화 실행\n",
    "study = optuna.create_study(direction='minimize')\n",
    "study.optimize(objective, n_trials=5)\n",
    "\n",
    "# 결과 출력\n",
    "print(\"Best RMSE:\", study.best_value)\n",
    "print(\"Best hyperparameters:\", study.best_params)"
   ]
  },
  {
   "cell_type": "markdown",
   "metadata": {},
   "source": [
    "#### try 2: try 1 + 제거할 피처 더 추가함 + 로그변환"
   ]
  },
  {
   "cell_type": "code",
   "execution_count": 121,
   "metadata": {},
   "outputs": [
    {
     "data": {
      "image/png": "[encoded data removed]",
      "text/plain": [
       "<Figure size 800x400 with 1 Axes>"
      ]
     },
     "metadata": {},
     "output_type": "display_data"
    },
    {
     "name": "stdout",
     "output_type": "stream",
     "text": [
      "count    9.552744e+06\n",
      "mean     2.946082e-01\n",
      "std      1.212860e+00\n",
      "min      0.000000e+00\n",
      "25%      0.000000e+00\n",
      "50%      0.000000e+00\n",
      "75%      0.000000e+00\n",
      "max      2.000000e+01\n",
      "Name: item_cnt_monthly, dtype: float64\n"
     ]
    }
   ],
   "source": [
    "import matplotlib.pyplot as plt\n",
    "import seaborn as sns\n",
    "\n",
    "# 1. 히스토그램 시각화\n",
    "plt.figure(figsize=(8, 4))\n",
    "sns.histplot(y_train, bins=100, kde=True)\n",
    "plt.title(\"item_cnt_monthly 분포\")\n",
    "plt.xlabel(\"item_cnt_monthly\")\n",
    "plt.ylabel(\"빈도수\")\n",
    "plt.grid(True)\n",
    "plt.show()\n",
    "\n",
    "# 2. 기초 통계 확인\n",
    "print(y_train.describe())"
   ]
  },
  {
   "cell_type": "code",
   "execution_count": 122,
   "metadata": {},
   "outputs": [],
   "source": [
    "import numpy as np\n",
    "import pandas as pd\n",
    "import lightgbm as lgb\n",
    "import optuna\n",
    "from sklearn.metrics import mean_squared_error\n",
    "\n",
    "# 1. 제거할 피처 정의\n",
    "low_importance_features = [\n",
    "    'item_id', '시차변화량1', '시차변화량2',\n",
    "    'mean_item_price_시차3', 'item_id city별 평균 판매량_시차2',\n",
    "    'item_id별 평균 판매량_시차3', 'shop_id item_category_id별 평균 판매량_시차3',\n",
    "    'mean_item_price_시차2', 'city', 'sub_category', 'date_block_num'\n",
    "]\n",
    "\n",
    "# 2. 실제 존재하는 컬럼만 제거\n",
    "existing_cols = [col for col in low_importance_features if col in X_train.columns]\n",
    "X_train = X_train.drop(columns=existing_cols)\n",
    "X_valid = X_valid.drop(columns=existing_cols)\n",
    "\n",
    "# 3. 로그 변환된 타깃 생성\n",
    "y_train_log = np.log1p(y_train)\n",
    "y_valid_log = np.log1p(y_valid)\n",
    "\n",
    "# 4. 범주형 변수 자동 필터링 및 타입 변환\n",
    "cat_feature_candidates = ['shop_id', 'city', 'item_category_id', 'sub_category', '월']\n",
    "cat_features = [col for col in cat_feature_candidates if col in X_train.columns]\n",
    "\n",
    "for col in cat_features:\n",
    "    X_train[col] = X_train[col].astype('category')\n",
    "    X_valid[col] = X_valid[col].astype('category')"
   ]
  },
  {
   "cell_type": "code",
   "execution_count": null,
   "metadata": {},
   "outputs": [
    {
     "name": "stderr",
     "output_type": "stream",
     "text": [
      "[I 2025-06-03 13:12:52,553] A new study created in memory with name: no-name-9766c48b-b96e-4fda-9d46-1baf1140b5cc\n"
     ]
    },
    {
     "name": "stderr",
     "output_type": "stream",
     "text": [
      "[I 2025-06-03 13:15:41,808] Trial 0 finished with value: 0.9003275275789813 and parameters: {'num_leaves': 66, 'learning_rate': 0.14409783482125937, 'feature_fraction': 0.8897205552512158, 'bagging_fraction': 0.9359044483808298, 'bagging_freq': 7, 'min_data_in_leaf': 50}. Best is trial 0 with value: 0.9003275275789813.\n",
      "[I 2025-06-03 13:18:25,826] Trial 1 finished with value: 0.9039292395959735 and parameters: {'num_leaves': 45, 'learning_rate': 0.11961573485318176, 'feature_fraction': 0.8291703621232878, 'bagging_fraction': 0.8543750883861142, 'bagging_freq': 8, 'min_data_in_leaf': 50}. Best is trial 0 with value: 0.9003275275789813.\n",
      "[I 2025-06-03 13:21:26,229] Trial 2 finished with value: 0.8985548534678643 and parameters: {'num_leaves': 67, 'learning_rate': 0.10461370611592362, 'feature_fraction': 0.7732933360890939, 'bagging_fraction': 0.8755431043681499, 'bagging_freq': 7, 'min_data_in_leaf': 53}. Best is trial 2 with value: 0.8985548534678643.\n",
      "[I 2025-06-03 13:24:32,162] Trial 3 finished with value: 0.9008380658423418 and parameters: {'num_leaves': 89, 'learning_rate': 0.11123918322583022, 'feature_fraction': 0.7686579979791265, 'bagging_fraction': 0.8791887643101683, 'bagging_freq': 10, 'min_data_in_leaf': 25}. Best is trial 2 with value: 0.8985548534678643.\n",
      "[I 2025-06-03 13:27:27,552] Trial 4 finished with value: 0.902906399470635 and parameters: {'num_leaves': 69, 'learning_rate': 0.06175866504388553, 'feature_fraction': 0.9282098425697706, 'bagging_fraction': 0.6432984066119382, 'bagging_freq': 1, 'min_data_in_leaf': 99}. Best is trial 2 with value: 0.8985548534678643.\n"
     ]
    },
    {
     "name": "stdout",
     "output_type": "stream",
     "text": [
      "Best RMSE: 0.8985548534678643\n",
      "Best hyperparameters: {'num_leaves': 67, 'learning_rate': 0.10461370611592362, 'feature_fraction': 0.7732933360890939, 'bagging_fraction': 0.8755431043681499, 'bagging_freq': 7, 'min_data_in_leaf': 53}\n",
      "최종 Validation RMSE: 0.8962850049150081\n"
     ]
    }
   ],
   "source": [
    "# 5. Optuna 튜닝 함수 정의\n",
    "def objective(trial):\n",
    "    params = {\n",
    "        'objective': 'regression',\n",
    "        'metric': 'rmse',\n",
    "        'verbosity': -1,\n",
    "        'boosting_type': 'gbdt',\n",
    "        'random_state': 42,\n",
    "        'force_col_wise': True,\n",
    "        'num_leaves': trial.suggest_int('num_leaves', 20, 100),\n",
    "        'learning_rate': trial.suggest_float('learning_rate', 0.01, 0.2),\n",
    "        'feature_fraction': trial.suggest_float('feature_fraction', 0.6, 1.0),\n",
    "        'bagging_fraction': trial.suggest_float('bagging_fraction', 0.6, 1.0),\n",
    "        'bagging_freq': trial.suggest_int('bagging_freq', 1, 10),\n",
    "        'min_data_in_leaf': trial.suggest_int('min_data_in_leaf', 10, 100)\n",
    "    }\n",
    "\n",
    "    dtrain = lgb.Dataset(X_train, label=y_train_log, categorical_feature=cat_features)\n",
    "    dvalid = lgb.Dataset(X_valid, label=y_valid_log, categorical_feature=cat_features)\n",
    "\n",
    "    model = lgb.train(\n",
    "        params,\n",
    "        train_set=dtrain,\n",
    "        valid_sets=[dvalid],\n",
    "        num_boost_round=500\n",
    "    )\n",
    "\n",
    "    preds = model.predict(X_test)\n",
    "    rmse = mean_squared_error(y_valid, np.expm1(preds), squared=False)  # 역변환\n",
    "    return rmse\n",
    "\n",
    "# 6. Optuna 최적화 실행\n",
    "study = optuna.create_study(direction='minimize')\n",
    "study.optimize(objective, n_trials=5)\n",
    "\n",
    "# 7. 최적 결과 출력\n",
    "print(\"Best RMSE:\", study.best_value)\n",
    "print(\"Best hyperparameters:\", study.best_params)\n",
    "\n",
    "# 8. 최종 모델 학습\n",
    "best_params = study.best_params\n",
    "best_params.update({\n",
    "    'objective': 'regression',\n",
    "    'metric': 'rmse',\n",
    "    'random_state': 42,\n",
    "    'force_col_wise': True\n",
    "})\n",
    "\n",
    "final_model = lgb.train(\n",
    "    best_params,\n",
    "    train_set=lgb.Dataset(X_train, label=y_train_log, categorical_feature=cat_features),\n",
    "    valid_sets=[lgb.Dataset(X_valid, label=y_valid_log)],\n",
    "    num_boost_round=1000\n",
    ")\n",
    "\n",
    "# 9. 최종 성능 평가 (역변환 후 RMSE)\n",
    "final_preds = final_model.predict(X_test)\n",
    "final_rmse = mean_squared_error(y_valid, np.expm1(final_preds), squared=False)\n",
    "print(\"최종 Validation RMSE:\", final_rmse)"
   ]
  },
  {
   "cell_type": "code",
   "execution_count": 126,
   "metadata": {},
   "outputs": [
    {
     "data": {
      "text/plain": [
       "count    9.552744e+06\n",
       "mean     2.946082e-01\n",
       "std      1.212860e+00\n",
       "min      0.000000e+00\n",
       "25%      0.000000e+00\n",
       "50%      0.000000e+00\n",
       "75%      0.000000e+00\n",
       "max      2.000000e+01\n",
       "Name: item_cnt_monthly, dtype: float64"
      ]
     },
     "execution_count": 126,
     "metadata": {},
     "output_type": "execute_result"
    }
   ],
   "source": [
    "y_train.describe()"
   ]
  },
  {
   "cell_type": "markdown",
   "metadata": {},
   "source": [
    "오히려 로그변환이 역효과가 났다."
   ]
  },
  {
   "cell_type": "markdown",
   "metadata": {},
   "source": [
    "#### try 3: try 1 + 제거할 피처 더 추가함 (로그변환 X)"
   ]
  },
  {
   "cell_type": "code",
   "execution_count": 127,
   "metadata": {},
   "outputs": [],
   "source": [
    "import numpy as np\n",
    "import pandas as pd\n",
    "import lightgbm as lgb\n",
    "import optuna\n",
    "from sklearn.metrics import mean_squared_error\n",
    "\n",
    "# 1. 제거할 중요도 낮은 피처 정의 (확장 버전)\n",
    "low_importance_features = [\n",
    "    'item_id',\n",
    "    '시차변화량1',\n",
    "    '시차변화량2',\n",
    "    'mean_item_price_시차3',\n",
    "    'item_id city별 평균 판매량_시차2',\n",
    "    'item_id별 평균 판매량_시차3',\n",
    "    'shop_id item_category_id별 평균 판매량_시차3',\n",
    "    'mean_item_price_시차2',\n",
    "    'city',\n",
    "    'sub_category',\n",
    "    'date_block_num'\n",
    "]\n",
    "\n",
    "# 2. 실제 존재하는 컬럼만 제거\n",
    "existing_cols = [col for col in low_importance_features if col in X_train.columns]\n",
    "X_train = X_train.drop(columns=existing_cols)\n",
    "X_valid = X_valid.drop(columns=existing_cols)\n",
    "\n",
    "# 3. 범주형 피처 설정\n",
    "cat_feature_candidates = ['shop_id', 'city', 'item_category_id', 'sub_category', '월']\n",
    "cat_features = [col for col in cat_feature_candidates if col in X_train.columns]\n",
    "\n",
    "# 범주형 타입으로 변환\n",
    "for col in cat_features:\n",
    "    X_train[col] = X_train[col].astype('category')\n",
    "    X_valid[col] = X_valid[col].astype('category')"
   ]
  },
  {
   "cell_type": "code",
   "execution_count": 129,
   "metadata": {},
   "outputs": [
    {
     "name": "stderr",
     "output_type": "stream",
     "text": [
      "[I 2025-06-03 14:19:05,191] A new study created in memory with name: no-name-e52426e2-545f-4af1-adfd-6708231dca9c\n"
     ]
    },
    {
     "name": "stderr",
     "output_type": "stream",
     "text": [
      "[I 2025-06-03 14:28:14,247] Trial 0 finished with value: 0.8891375710664481 and parameters: {'num_leaves': 38, 'learning_rate': 0.01586745812875428, 'feature_fraction': 0.8442519061034763, 'bagging_fraction': 0.8559629982243515, 'bagging_freq': 4, 'min_data_in_leaf': 59}. Best is trial 0 with value: 0.8891375710664481.\n",
      "[I 2025-06-03 14:37:04,511] Trial 1 finished with value: 0.8862776285321845 and parameters: {'num_leaves': 25, 'learning_rate': 0.1174226830465199, 'feature_fraction': 0.7565720507557466, 'bagging_fraction': 0.8551155498622016, 'bagging_freq': 2, 'min_data_in_leaf': 93}. Best is trial 1 with value: 0.8862776285321845.\n",
      "[I 2025-06-03 14:47:48,403] Trial 2 finished with value: 0.8872748345853617 and parameters: {'num_leaves': 98, 'learning_rate': 0.08279425598870227, 'feature_fraction': 0.8251313826070344, 'bagging_fraction': 0.9227029092764895, 'bagging_freq': 5, 'min_data_in_leaf': 100}. Best is trial 1 with value: 0.8862776285321845.\n",
      "[I 2025-06-03 14:58:29,882] Trial 3 finished with value: 0.8856720549789883 and parameters: {'num_leaves': 64, 'learning_rate': 0.10083462564944588, 'feature_fraction': 0.849083509644522, 'bagging_fraction': 0.6535382671457733, 'bagging_freq': 4, 'min_data_in_leaf': 99}. Best is trial 3 with value: 0.8856720549789883.\n",
      "[I 2025-06-03 15:05:26,763] Trial 4 finished with value: 0.8836253747705748 and parameters: {'num_leaves': 50, 'learning_rate': 0.08023937370436432, 'feature_fraction': 0.7655108509469527, 'bagging_fraction': 0.9396796287727526, 'bagging_freq': 7, 'min_data_in_leaf': 49}. Best is trial 4 with value: 0.8836253747705748.\n"
     ]
    },
    {
     "name": "stdout",
     "output_type": "stream",
     "text": [
      "Best RMSE: 0.8836253747705748\n",
      "Best hyperparameters: {'num_leaves': 50, 'learning_rate': 0.08023937370436432, 'feature_fraction': 0.7655108509469527, 'bagging_fraction': 0.9396796287727526, 'bagging_freq': 7, 'min_data_in_leaf': 49}\n"
     ]
    }
   ],
   "source": [
    "# 4. Optuna 튜닝 objective 함수 정의\n",
    "def objective(trial):\n",
    "    params = {\n",
    "        'objective': 'regression',\n",
    "        'metric': 'rmse',\n",
    "        'verbosity': -1,\n",
    "        'boosting_type': 'gbdt',\n",
    "        'random_state': 42,\n",
    "        'force_col_wise': True,\n",
    "        'num_leaves': trial.suggest_int('num_leaves', 20, 100),\n",
    "        'learning_rate': trial.suggest_float('learning_rate', 0.01, 0.2),\n",
    "        'feature_fraction': trial.suggest_float('feature_fraction', 0.6, 1.0),\n",
    "        'bagging_fraction': trial.suggest_float('bagging_fraction', 0.6, 1.0),\n",
    "        'bagging_freq': trial.suggest_int('bagging_freq', 1, 10),\n",
    "        'min_data_in_leaf': trial.suggest_int('min_data_in_leaf', 10, 100)\n",
    "    }\n",
    "\n",
    "    dtrain = lgb.Dataset(X_train, label=y_train, categorical_feature=cat_features)\n",
    "    dvalid = lgb.Dataset(X_valid, label=y_valid, categorical_feature=cat_features)\n",
    "\n",
    "    model = lgb.train(\n",
    "        params,\n",
    "        train_set=dtrain,\n",
    "        valid_sets=[dvalid],\n",
    "        num_boost_round=500\n",
    "    )\n",
    "\n",
    "    preds = model.predict(X_valid)\n",
    "    rmse = mean_squared_error(y_valid, preds, squared=False)\n",
    "    return rmse\n",
    "\n",
    "# 5. Optuna 최적화 실행\n",
    "study = optuna.create_study(direction='minimize')\n",
    "study.optimize(objective, n_trials=5)\n",
    "\n",
    "# 6. 결과 출력\n",
    "print(\"Best RMSE:\", study.best_value)\n",
    "print(\"Best hyperparameters:\", study.best_params)"
   ]
  },
  {
   "cell_type": "markdown",
   "metadata": {},
   "source": [
    "### try 1 코드 다시 가져와서 진행 (RMSE가 제일 작았던 모델)"
   ]
  },
  {
   "cell_type": "code",
   "execution_count": 105,
   "metadata": {},
   "outputs": [],
   "source": [
    "# 1. 기준 모델 피처 구성 복사본 저장\n",
    "X_train_base = X_train.copy()\n",
    "X_valid_base = X_valid.copy()"
   ]
  },
  {
   "cell_type": "code",
   "execution_count": null,
   "metadata": {},
   "outputs": [],
   "source": [
    "import lightgbm as lgb\n",
    "from sklearn.metrics import mean_squared_error\n",
    "\n",
    "best_params = {\n",
    "    'objective': 'regression',\n",
    "    'metric': 'rmse',\n",
    "    'random_state': 42,\n",
    "    'force_col_wise': True,\n",
    "    'verbosity': -1,\n",
    "    'boosting_type': 'gbdt',\n",
    "    'num_leaves': 64,\n",
    "    'learning_rate': 0.07,\n",
    "    'feature_fraction': 0.85,\n",
    "    'bagging_fraction': 0.9,\n",
    "    'bagging_freq': 5,\n",
    "    'min_data_in_leaf': 20,\n",
    "    'early_stopping_rounds':50,\n",
    "    'verbose_eval':100\n",
    "}\n",
    "\n",
    "final_model = lgb.train(\n",
    "    best_params,\n",
    "    train_set=lgb.Dataset(X_train, label=y_train, categorical_feature=cat_features),\n",
    "    valid_sets=[lgb.Dataset(X_valid, label=y_valid)],\n",
    "    num_boost_round=1000,\n",
    ")"
   ]
  },
  {
   "cell_type": "code",
   "execution_count": 107,
   "metadata": {},
   "outputs": [
    {
     "name": "stdout",
     "output_type": "stream",
     "text": [
      "Best iteration: 430\n",
      "Best RMSE on validation set: 0.879796799960729\n"
     ]
    }
   ],
   "source": [
    "val_preds = final_model.predict(X_valid, num_iteration=final_model.best_iteration)\n",
    "val_rmse = np.sqrt(mean_squared_error(y_valid, val_preds))\n",
    "\n",
    "print(\"Best iteration:\", final_model.best_iteration)\n",
    "print(\"Best RMSE on validation set:\", val_rmse)\n",
    "# 여기까지가 학습/검증 데이터의 RMSE"
   ]
  },
  {
   "cell_type": "markdown",
   "metadata": {},
   "source": [
    "### 다시 시도"
   ]
  },
  {
   "cell_type": "code",
   "execution_count": 109,
   "metadata": {},
   "outputs": [],
   "source": [
    "import lightgbm as lgb\n",
    "from sklearn.metrics import mean_squared_error\n",
    "import numpy as np\n",
    "import pandas as pd\n",
    "\n",
    "# 1. 기준 피처 복사\n",
    "X_train_base = X_train.copy()\n",
    "X_valid_base = X_valid.copy()\n",
    "X_test_base = X_test.copy()\n",
    "\n",
    "# 2. 제거할 피처 정의 및 삭제 (존재하는 컬럼만)\n",
    "candidate_features = [\n",
    "    'item_id', '시차변화량1', '시차변화량2',\n",
    "    'mean_item_price_시차3', 'item_id city별 평균 판매량_시차2'\n",
    "]\n",
    "drop_cols = [col for col in candidate_features if col in X_train_base.columns]\n",
    "\n",
    "X_train = X_train_base.drop(columns=drop_cols)\n",
    "X_valid = X_valid_base.drop(columns=drop_cols)\n",
    "X_test = X_test_base.drop(columns=[col for col in drop_cols if col in X_test_base.columns])\n",
    "\n",
    "# 3. 범주형 피처 정의 및 카테고리 기준 통일\n",
    "cat_feature_candidates = ['shop_id', 'city', 'item_category_id', 'sub_category', '월']\n",
    "cat_features = [col for col in cat_feature_candidates if col in X_train.columns]\n",
    "\n",
    "for col in cat_features:\n",
    "    combined = pd.concat([X_train[col], X_valid[col]])\n",
    "    categories = combined.astype('category').cat.categories\n",
    "\n",
    "    X_train[col] = pd.Categorical(X_train[col], categories=categories)\n",
    "    X_valid[col] = pd.Categorical(X_valid[col], categories=categories)\n",
    "\n",
    "    if col in X_test.columns:\n",
    "        X_test[col] = pd.Categorical(X_test[col], categories=categories)\n",
    "\n",
    "# 4. 피처 순서를 X_train 기준으로 맞춤 (feature shape error 방지)\n",
    "X_test = X_test[X_train.columns]\n"
   ]
  },
  {
   "cell_type": "code",
   "execution_count": 110,
   "metadata": {},
   "outputs": [
    {
     "name": "stdout",
     "output_type": "stream",
     "text": [
      "Best iteration: 430\n",
      "Best RMSE on validation set: 0.879796799960729\n"
     ]
    }
   ],
   "source": [
    "# 5. 최적 파라미터로 LightGBM 학습\n",
    "best_params = {\n",
    "    'objective': 'regression',\n",
    "    'metric': 'rmse',\n",
    "    'random_state': 42,\n",
    "    'force_col_wise': True,\n",
    "    'verbosity': -1,\n",
    "    'boosting_type': 'gbdt',\n",
    "    'num_leaves': 64,\n",
    "    'learning_rate': 0.07,\n",
    "    'feature_fraction': 0.85,\n",
    "    'bagging_fraction': 0.9,\n",
    "    'bagging_freq': 5,\n",
    "    'min_data_in_leaf': 20,\n",
    "    'early_stopping_rounds': 50,\n",
    "    'verbose_eval': 100\n",
    "}\n",
    "\n",
    "final_model = lgb.train(\n",
    "    best_params,\n",
    "    train_set=lgb.Dataset(X_train, label=y_train, categorical_feature=cat_features),\n",
    "    valid_sets=[lgb.Dataset(X_valid, label=y_valid)],\n",
    "    num_boost_round=1000,\n",
    ")\n",
    "\n",
    "# 6. 검증 RMSE 평가\n",
    "val_preds = final_model.predict(X_valid, num_iteration=final_model.best_iteration)\n",
    "val_rmse = np.sqrt(mean_squared_error(y_valid, val_preds))\n",
    "print(\"Best iteration:\", final_model.best_iteration)\n",
    "print(\"Best RMSE on validation set:\", val_rmse)"
   ]
  },
  {
   "cell_type": "code",
   "execution_count": 111,
   "metadata": {},
   "outputs": [
    {
     "name": "stdout",
     "output_type": "stream",
     "text": [
      "Test predictions (sample): [0.48296188 0.75362776 0.46019681 0.52965965 0.62521837 0.16319724\n",
      " 0.56893232 1.23754428 2.63602094 0.10575697]\n"
     ]
    }
   ],
   "source": [
    "# 7. 테스트셋 예측\n",
    "test_preds = final_model.predict(X_test, num_iteration=final_model.best_iteration)\n",
    "print(\"Test predictions (sample):\", test_preds[:10])"
   ]
  },
  {
   "cell_type": "code",
   "execution_count": 229,
   "metadata": {},
   "outputs": [
    {
     "data": {
      "image/png": "[encoded data removed]",
      "text/plain": [
       "<Figure size 1000x600 with 1 Axes>"
      ]
     },
     "metadata": {},
     "output_type": "display_data"
    }
   ],
   "source": [
    "# Feature Importance 시각화\n",
    "import matplotlib.pyplot as plt\n",
    "import pandas as pd\n",
    "\n",
    "importance_df = pd.DataFrame({\n",
    "    'feature': final_model.feature_name(),\n",
    "    'importance': final_model.feature_importance(importance_type='gain')\n",
    "}).sort_values(by='importance', ascending=False)\n",
    "\n",
    "plt.figure(figsize=(10, 6))\n",
    "plt.barh(importance_df['feature'], importance_df['importance'])\n",
    "plt.title(\"Feature Importance (Gain)\")\n",
    "plt.xlabel(\"Importance\")\n",
    "plt.gca().invert_yaxis()\n",
    "plt.tight_layout()\n",
    "plt.show()"
   ]
  },
  {
   "cell_type": "code",
   "execution_count": 230,
   "metadata": {},
   "outputs": [
    {
     "data": {
      "text/plain": [
       "<lightgbm.basic.Booster at 0x2ad831bda60>"
      ]
     },
     "execution_count": 230,
     "metadata": {},
     "output_type": "execute_result"
    }
   ],
   "source": [
    "# (선택) 모델 저장\n",
    "final_model.save_model(\"C:/Users/lynn9/Desktop/data/final_optuna_lightgbm_model.txt\")"
   ]
  },
  {
   "cell_type": "code",
   "execution_count": null,
   "metadata": {},
   "outputs": [],
   "source": []
  },
  {
   "cell_type": "code",
   "execution_count": null,
   "metadata": {},
   "outputs": [],
   "source": []
  },
  {
   "cell_type": "code",
   "execution_count": null,
   "metadata": {},
   "outputs": [],
   "source": []
  },
  {
   "cell_type": "code",
   "execution_count": null,
   "metadata": {},
   "outputs": [],
   "source": []
  }
 ],
 "metadata": {
  "kernelspec": {
   "display_name": "Python 3",
   "language": "python",
   "name": "python3"
  },
  "language_info": {
   "codemirror_mode": {
    "name": "ipython",
    "version": 3
   },
   "file_extension": ".py",
   "mimetype": "text/x-python",
   "name": "python",
   "nbconvert_exporter": "python",
   "pygments_lexer": "ipython3",
   "version": "3.9.12"
  }
 },
 "nbformat": 4,
 "nbformat_minor": 2
}
