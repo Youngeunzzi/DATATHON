{
 "cells": [
  {
   "cell_type": "code",
   "execution_count": 1,
   "id": "37cf3732-1e6a-4ac1-8720-7bddf90a3f33",
   "metadata": {},
   "outputs": [],
   "source": [
    "# 라이브러리 import\n",
    "# import sys\n",
    "# !{sys.executable} -m pip install --upgrade googletrans==4.0.0-rc1"
   ]
  },
  {
   "cell_type": "code",
   "execution_count": 2,
   "id": "e226f1d3-85be-4b11-afb7-0cfaabb1b643",
   "metadata": {},
   "outputs": [],
   "source": [
    "# pip list"
   ]
  },
  {
   "cell_type": "code",
   "execution_count": null,
   "id": "25727bbd-95bc-4bd9-a833-45ea8dde297b",
   "metadata": {},
   "outputs": [],
   "source": [
    "import pandas as pd\n",
    "from googletrans import Translator\n",
    "import os\n",
    "\n",
    "translator = Translator()\n",
    "\n",
    "# 번역할 파일과 컬럼 지정\n",
    "files_and_columns = {\n",
    "    'shops.csv': 'shop_name',\n",
    "    'item_categories.csv': 'item_category_name',\n",
    "}\n",
    "\n",
    "# 번역 함수\n",
    "def translate_unique_column(df, column_name):\n",
    "    print(f\"  --번역중입니다-- '{column_name}'...\")\n",
    "    unique_texts = df[column_name].unique() \n",
    "    translated_map = {}\n",
    "    \n",
    "    for text in unique_texts:\n",
    "        try:\n",
    "            # 러시아어 -> 영어로 번역\n",
    "            translated_text = translator.translate(text, src='ru', dest='en').text\n",
    "            translated_map[text] = translated_text\n",
    "        except Exception as e:\n",
    "            print(f\"  --번역Error-- '{text}': {e}\")\n",
    "            # 에러 나면 원본 그대로 반환\n",
    "            translated_map[text] = text\n",
    "\n",
    "    # 번역된 컬럼은 원본 컬럼명 뒤에 _en 을 붙여 새로운 컬럼 생성\n",
    "    df[column_name + '_en'] = df[column_name].map(translated_map)\n",
    "    return df\n",
    "\n",
    "# 파일 처리\n",
    "for file_name, column_name in files_and_columns.items():\n",
    "    print(f\"\\n--진행 중-- {file_name}...\")\n",
    "    \n",
    "    # CSV 읽어기기\n",
    "    df = pd.read_csv(file_name)\n",
    "    \n",
    "    # 번역 수행\n",
    "    df_translated = translate_unique_column(df, column_name)\n",
    "    \n",
    "    # 원본 파일명 뒤에 _2 붙여서 새로운 파일 생성\n",
    "    new_file_name = file_name.replace('.csv', '_2.csv') \n",
    "    df_translated.to_csv(new_file_name, index=False, encoding='utf-8-sig')\n",
    "    print(f\"  번역된 파일 저장: {new_file_name}\")\n",
    "\n",
    "print(\"\\n✅ 번역이 완료되었습니다.\")"
   ]
  },
  {
   "cell_type": "markdown",
   "id": "827ee679-0694-41d6-b6e3-05b298fb336d",
   "metadata": {},
   "source": [
    "### 번역 과정 정리\n",
    "✅ 기존 러시아어 컬럼 ex) shop_name   \n",
    "✅ 번역 진행  \n",
    "✅ 원본 컬럼명 뒤에 _en 을 붙여 새로운 컬럼 생성 ex) shop_name_en  \n",
    "✅ 원본 러시아어 컬럼(shop_name)은 삭제  \n",
    "✅ 생성된 컬럼명에서 _en을 제거해서 다시 shop_name으로 사용  \n",
    "  \n",
    "item_categories.csv에서 'item_category_name' 컬럼도 동일한 방식으로 진행"
   ]
  }
 ],
 "metadata": {
  "kernelspec": {
   "display_name": "Python 3 (ipykernel)",
   "language": "python",
   "name": "python3"
  },
  "language_info": {
   "codemirror_mode": {
    "name": "ipython",
    "version": 3
   },
   "file_extension": ".py",
   "mimetype": "text/x-python",
   "name": "python",
   "nbconvert_exporter": "python",
   "pygments_lexer": "ipython3",
   "version": "3.12.7"
  }
 },
 "nbformat": 4,
 "nbformat_minor": 5
}
