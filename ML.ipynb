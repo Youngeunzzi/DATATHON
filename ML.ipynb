{
 "cells": [
  {
   "cell_type": "code",
   "execution_count": null,
   "id": "5160916c-8601-4ea3-a441-90344dcebee5",
   "metadata": {},
   "outputs": [],
   "source": [
    "# 데이터 처리, 모델 구축, 시각화를 위한 주요 라이브러리 및 모듈을 불러옵니다.\n",
    "import gc  # Python의 가비지 컬렉터 관련 모듈로, 메모리 관리를 위해 객체 삭제를 명시적으로 제어할 수 있습니다.\n",
    "import itertools  # 반복 가능한 객체로부터 조합, 순열 등 다양한 반복자를 생성하는 유틸리티 모듈입니다.\n",
    "import matplotlib.pyplot as plt  # 정적/애니메이션/인터랙티브 시각화를 지원하는 matplotlib의 핵심 시각화 도구입니다.\n",
    "import numpy as np  # 다차원 배열과 행렬 연산, 다양한 수학 함수 제공을 위한 수치 계산 라이브러리입니다.\n",
    "import pandas as pd  # 데이터 프레임과 시리즈 객체를 기반으로 한 데이터 분석용 라이브러리입니다.\n",
    "import seaborn as sns  # matplotlib을 기반으로 한 고급 통계 시각화 라이브러리입니다.\n",
    "import os  # 운영체제와 상호작용하기 위한 모듈로, 파일 경로 탐색 등 OS 의존 기능을 지원합니다.\n",
    "import xgboost  # 머신러닝용 XGBoost 라이브러리 (주로 회귀, 분류, 랭킹에 사용).\n",
    "import warnings  # 경고 메시지 필터링 및 제어를 위한 모듈입니다.\n",
    "import lightgbm as lgbm  # LightGBM: 그래디언트 부스팅 기반 머신러닝 프레임워크입니다.\n",
    "import lightgbm as lgb  # LightGBM을 다른 별칭으로 중복 임포트 (보통은 하나만 임포트해도 충분합니다).\n",
    "import ctypes  # C 언어 호환 데이터 타입을 사용하거나 외부 DLL/공유 라이브러리 호출 시 사용되는 모듈입니다.\n",
    "from sklearn.linear_model import LinearRegression  # 선형 회귀 모델을 구현하는 클래스입니다.\n",
    "\n",
    "warnings.filterwarnings(\"ignore\")  # 경고 메시지를 무시하여 출력 결과가 지저분하지 않도록 설정합니다."
   ]
  },
  {
   "cell_type": "code",
   "execution_count": null,
   "id": "c5f4e0ef-5ac5-4596-a10a-37086b0a10e7",
   "metadata": {},
   "outputs": [],
   "source": [
    "# 쥬피터 노트북용 데이터 불러오기\n",
    "df_train = pd.read_csv('./sales_train.csv')\n",
    "df_categories = pd.read_csv(\"./item_categories.csv\")\n",
    "df_items = pd.read_csv(\"./items-translated.csv\", encoding='cp1252') # 번역 후 파일을 input 폴더에 올려두었습니다. 파일명: items_translated\n",
    "df_shops = pd.read_csv(\"./shops_graded.csv\", encoding='cp1252') # ML코드에서는 shop_grade 컬럼을 사용하지 않아 버전2 업데이트 하지 않았습니다.\n",
    "df_test = pd.read_csv(\"./test.csv\")\n",
    "calendar = pd.read_csv(\"./calendar.csv\")"
   ]
  },
  {
   "cell_type": "code",
   "execution_count": null,
   "id": "60e30df1-f723-43b0-9d22-7e6b612819f9",
   "metadata": {},
   "outputs": [],
   "source": [
    "# 데이터 병합\n",
    "df_train['date'] = pd.to_datetime(df_train['date'], format='%d.%m.%Y')\n",
    "calendar['date'] = pd.to_datetime(calendar['date'])\n",
    "\n",
    "df_train = pd.merge(df_train, df_items, on='item_id', how='inner')\n",
    "df_train = pd.merge(df_train, df_categories, on='item_category_id', how='inner')\n",
    "df_train = pd.merge(df_train, df_shops, on='shop_id', how='inner')\n",
    "df_test = pd.merge(df_test, df_items, on='item_id', how='inner')\n",
    "df_test = pd.merge(df_test, df_categories, on='item_category_id', how='inner')\n",
    "df_test = pd.merge(df_test, df_shops, on='shop_id', how='inner')\n",
    "df_train = pd.merge(df_train, calendar, on='date', how='left')"
   ]
  },
  {
   "cell_type": "code",
   "execution_count": null,
   "id": "5cd1b8a9-2966-4be8-8a58-e8e58e13d9af",
   "metadata": {},
   "outputs": [],
   "source": [
    "# category, shop 중분류 추가 (12초 소요)\n",
    "df_train['city'] = df_train['shop_name'].str.split(' ').str[0]\n",
    "df_train['sub_category'] = df_train['item_category_name'].str.split(' ').str[0]\n",
    "# 중분류명 정리 → 13개\n",
    "df_train['sub_category'] = df_train['sub_category'].replace({'Pure' : 'Carrier', 'Clean' : 'Carrier', 'Elements': 'Batteries', 'Payment' : 'Gift Card', 'Service' : 'Tickets', 'Android' : 'Games', 'Mac' : 'Games', 'Game' : 'Games'})\n",
    "# city명 정리\n",
    "df_train['city'] = df_train['city'].replace({'!' : 'Yakutsk', 'Exit' : 'Other', 'N.' : 'NizhnyNovgorod', 'SPb' : 'SanktPetersburg', 'Digital' : 'Online'})\n",
    "# 원화 추가\n",
    "df_train['total_amount'] = df_train['item_price'] * df_train['item_cnt_day'] # 판매 금액\n",
    "df_train['krw_amount'] = df_train['total_amount'] * 18 # 국내 보고용 원화 표시, krw_amount로 표시\n",
    "df_train = df_train.rename({'total_amount':'rub_amount'}, axis = 1)  # 기존 판매금액은 rub_amount로 표시"
   ]
  },
  {
   "cell_type": "code",
   "execution_count": null,
   "id": "a7444dec-ad9a-44d5-a40c-1178fdb292e2",
   "metadata": {},
   "outputs": [],
   "source": [
    "# dat 관련 컬럼 추가 # 보고용이므로 예측에는 불필요 시 사용하지 않아도 됩니다. (7초 소요)\n",
    "# df_train['date'] = pd.to_datetime(df_train['date'], format='%d.%m.%Y') (merge 직전에 완료)\n",
    "df_train['year'] =  pd.to_datetime(df_train['date']).apply(lambda x : x.year)\n",
    "df_train['month'] = pd.to_datetime(df_train['date']).apply(lambda x : x.month)\n",
    "df_train['day'] = pd.to_datetime(df_train['date']).apply(lambda x : x.day)\n",
    "df_train['year_month'] = df_train['date'].dt.to_period('M')"
   ]
  },
  {
   "cell_type": "code",
   "execution_count": null,
   "id": "655ae4fa-919a-4184-b9ba-1162cc49c462",
   "metadata": {},
   "outputs": [],
   "source": [
    "df_train[df_train.duplicated() == True]"
   ]
  },
  {
   "cell_type": "code",
   "execution_count": null,
   "id": "a72b5ebe-34f8-41db-a006-b8b0b72e1e18",
   "metadata": {},
   "outputs": [],
   "source": [
    "# 중복 제거 # 6개 건\n",
    "df_train.drop_duplicates(inplace=True)"
   ]
  },
  {
   "cell_type": "code",
   "execution_count": null,
   "id": "d1423fdd-3397-4ed3-83f4-13e433c0bb9a",
   "metadata": {},
   "outputs": [],
   "source": [
    "# df_train"
   ]
  },
  {
   "cell_type": "code",
   "execution_count": null,
   "id": "260fa869-b681-49d7-9e6f-31ef22819baa",
   "metadata": {},
   "outputs": [],
   "source": [
    "test = pd.read_csv('./test.csv')\n",
    "test.head()"
   ]
  },
  {
   "cell_type": "code",
   "execution_count": null,
   "id": "cfb9317c-a85b-43c1-b78b-e286f945719b",
   "metadata": {},
   "outputs": [],
   "source": [
    "data = df_train.copy()"
   ]
  },
  {
   "cell_type": "code",
   "execution_count": null,
   "id": "f18a20a7-bd1c-48f4-98b4-6945e27d197d",
   "metadata": {},
   "outputs": [],
   "source": [
    "# data"
   ]
  },
  {
   "cell_type": "code",
   "execution_count": null,
   "id": "0e5b3f6b-3b3a-40fe-baf9-79a92a20a87e",
   "metadata": {},
   "outputs": [],
   "source": [
    "data = data.drop(['shop_name', 'item_name_translated', 'item_category_name'], axis=1)\n",
    "# 해당 컬럼들은 각 id컬럼과 1대1 매칭이므로 둘 중 하나는 제거"
   ]
  },
  {
   "cell_type": "code",
   "execution_count": null,
   "id": "e14fbdf4-5241-4c7b-b1d4-fabe8b079da7",
   "metadata": {},
   "outputs": [],
   "source": [
    "import seaborn as sns\n",
    "import matplotlib as mpl\n",
    "import matplotlib.pyplot as plt\n",
    "%matplotlib inline\n",
    "\n",
    "sns.boxplot(y='item_cnt_day', data=data);\n",
    "plt.show()"
   ]
  },
  {
   "cell_type": "code",
   "execution_count": null,
   "id": "a10734be-91e7-4d2c-b682-269f2d425ad3",
   "metadata": {},
   "outputs": [],
   "source": [
    "sns.boxplot(y='item_price', data=data);\n",
    "plt.show()"
   ]
  },
  {
   "cell_type": "markdown",
   "id": "8225a0ae-adba-4b71-9cd0-96cec9cfda47",
   "metadata": {},
   "source": [
    "### 이상치 제거"
   ]
  },
  {
   "cell_type": "code",
   "execution_count": null,
   "id": "0df712de-94ed-4f05-a3af-c5942a6f8367",
   "metadata": {},
   "outputs": [],
   "source": [
    "# 이상치 조건에 해당하는 행들 인덱스 추출\n",
    "outlier_condition = (data['item_cnt_day'] >= 1000) | (data['item_price'] >= 100000)\n",
    "\n",
    "# 이상치가 아닌 데이터만 필터링\n",
    "data_cleaned = data[~outlier_condition].copy()\n",
    "print(data_cleaned.shape)"
   ]
  },
  {
   "cell_type": "code",
   "execution_count": null,
   "id": "1e637e1b-79f6-4da2-8ec2-75505cb21727",
   "metadata": {
    "scrolled": true
   },
   "outputs": [],
   "source": [
    "data_cleaned.isna().sum() # 결측치 없음"
   ]
  },
  {
   "cell_type": "code",
   "execution_count": null,
   "id": "5ed3f825-4945-4f3c-bf82-65fa80845225",
   "metadata": {},
   "outputs": [],
   "source": [
    "# 그룹화하여 월별 월간 판매량\n",
    "group = data_cleaned.groupby('date_block_num').agg({'item_cnt_day': 'sum'})\n",
    "group.reset_index() # 인덱스 재설정"
   ]
  },
  {
   "cell_type": "code",
   "execution_count": null,
   "id": "06ce9199-a732-46e9-a864-28ed4f68a469",
   "metadata": {},
   "outputs": [],
   "source": [
    "from itertools import product\n",
    "\n",
    "train = []\n",
    "# 월ID, 상점ID, 상품ID 조합 생성 \n",
    "for i in data_cleaned['date_block_num'].unique():\n",
    "    all_shop = data_cleaned.loc[data_cleaned['date_block_num']==i, 'shop_id'].unique()\n",
    "    all_item = data_cleaned.loc[data_cleaned['date_block_num']==i, 'item_id'].unique()\n",
    "    train.append(np.array(list(product([i], all_shop, all_item))))\n",
    "\n",
    "idx_features = ['date_block_num', 'shop_id', 'item_id'] # 기준 피처\n",
    "# 리스트 타입인 train을 DataFrame 타입으로 변환 \n",
    "train = pd.DataFrame(np.vstack(train), columns=idx_features)\n",
    "\n",
    "train"
   ]
  },
  {
   "cell_type": "markdown",
   "id": "c9591348-759b-40e9-9727-a40d742fe8df",
   "metadata": {},
   "source": [
    "### Feature Engineering 타깃값 추가 (월간 판매량)"
   ]
  },
  {
   "cell_type": "code",
   "execution_count": null,
   "id": "926eeab3-93c0-46ef-b171-aa5d05ca4682",
   "metadata": {},
   "outputs": [],
   "source": [
    "# idx_features를 기준으로 그룹화해 판매량 합 구하기 \n",
    "group = data_cleaned.groupby(idx_features).agg({'item_cnt_day': 'sum'})\n",
    "# 인덱스 재설정\n",
    "group = group.reset_index()\n",
    "# '판매량'에서 '월간 판매량'\n",
    "group = group.rename(columns={'item_cnt_day': 'item_cnt_monthly'})\n",
    "\n",
    "group"
   ]
  },
  {
   "cell_type": "code",
   "execution_count": null,
   "id": "d37a2146-9858-4c4e-b58e-02977d86183c",
   "metadata": {},
   "outputs": [],
   "source": [
    "# train과 group 병합\n",
    "train = train.merge(group, on=idx_features, how='left')\n",
    "train"
   ]
  },
  {
   "cell_type": "code",
   "execution_count": null,
   "id": "447bebfe-4ca8-4eea-a7a0-4491b1ad3c7a",
   "metadata": {},
   "outputs": [],
   "source": [
    "import gc # 가비지 컬렉터\n",
    "\n",
    "del group # 더는 사용하지 않는 변수 지정\n",
    "gc.collect(); # 가비지 컬렉션 수행"
   ]
  },
  {
   "cell_type": "markdown",
   "id": "0f1e512e-103a-4865-a6a3-d0a1e78f2478",
   "metadata": {},
   "source": [
    "### Feature Engineering test data 이어붙이기\n",
    "train data의 월ID는 0~33으로 마지막이 2015년 10월인데, test data는 2015년 11월이므로 월ID feature를 34로 설정한다.  \n",
    "test data에서 식별자 역할을 하는 ID를 제외하고 test data를 train data와 merge"
   ]
  },
  {
   "cell_type": "code",
   "execution_count": null,
   "id": "ff88ba87-977a-4b0b-a5b5-17ced86a8148",
   "metadata": {},
   "outputs": [],
   "source": [
    "test['date_block_num'] = 34  # 2015년 11월 예측 대상\n",
    "\n",
    "all_data = pd.concat([train, test.drop('ID', axis=1)],\n",
    "                     ignore_index=True, \n",
    "                     keys=idx_features) # 이어붙이는 기준이 되는 피처\n",
    "\n",
    "# 결측값 0으로 채우기\n",
    "all_data = all_data.fillna(0)\n",
    "\n",
    "all_data.head()"
   ]
  },
  {
   "cell_type": "markdown",
   "id": "f55f553e-0a60-44e4-996b-dff50500f3af",
   "metadata": {},
   "source": [
    "### Feature Engineering 나머지 데이터 병합 (최종 데이터 생성)"
   ]
  },
  {
   "cell_type": "code",
   "execution_count": null,
   "id": "6ee4c65e-5b84-4b04-9422-d4f30ed52646",
   "metadata": {},
   "outputs": [],
   "source": [
    "# all_data"
   ]
  },
  {
   "cell_type": "code",
   "execution_count": null,
   "id": "7a42f358-aa8f-4f8e-87c5-aa259467952f",
   "metadata": {},
   "outputs": [],
   "source": [
    "import numpy as np\n",
    "import pandas as pd\n",
    "\n",
    "def downcast(df, verbose=True):\n",
    "    start_mem = df.memory_usage().sum() / 1024**2\n",
    "    \n",
    "    for col in df.columns:\n",
    "        dtype = df[col].dtype\n",
    "\n",
    "        if pd.api.types.is_object_dtype(dtype):\n",
    "            # object는 건너뜀\n",
    "            continue\n",
    "        elif pd.api.types.is_bool_dtype(dtype):\n",
    "            df[col] = df[col].astype('int8')\n",
    "        elif pd.api.types.is_integer_dtype(dtype):\n",
    "            df[col] = pd.to_numeric(df[col], downcast='integer')\n",
    "        elif pd.api.types.is_float_dtype(dtype):\n",
    "            # 소수점이 없는 float는 int로 변환\n",
    "            col_non_na = df[col].dropna()\n",
    "            if (col_non_na == col_non_na.astype(int)).all():\n",
    "                df[col] = pd.to_numeric(df[col], downcast='integer')\n",
    "            else:\n",
    "                df[col] = pd.to_numeric(df[col], downcast='float')\n",
    "        else:\n",
    "            # 예: datetime, category 등은 건너뜀\n",
    "            continue\n",
    "\n",
    "    end_mem = df.memory_usage().sum() / 1024**2\n",
    "    if verbose:\n",
    "        print('{:.1f}% 압축됨'.format(100 * (start_mem - end_mem) / start_mem))\n",
    "\n",
    "    return df"
   ]
  },
  {
   "cell_type": "code",
   "execution_count": null,
   "id": "d1414204-51f1-47eb-84d7-c751ca4422ab",
   "metadata": {},
   "outputs": [],
   "source": [
    "all_df = [df_train, df_shops, df_items, df_categories, test]\n",
    "for df in all_df:\n",
    "    df = downcast(df)"
   ]
  },
  {
   "cell_type": "code",
   "execution_count": null,
   "id": "52183c2c-6d8f-4f49-b0a4-ee4c45d06a3b",
   "metadata": {},
   "outputs": [],
   "source": [
    "all_data = all_data.merge(df_shops, on='shop_id', how='left')\n",
    "all_data = all_data.merge(df_items, on='item_id', how='left')\n",
    "all_data = all_data.merge(df_categories, on='item_category_id', how='left')\n",
    "all_data = all_data.drop(['shop_name', 'item_name_translated', 'item_category_name'], axis=1)\n",
    "# 데이터 다운캐스팅\n",
    "all_data = downcast(all_data)\n",
    "\n",
    "# # 가비지 컬렉션\n",
    "# del df_shops, df_items, df_categories\n",
    "# # del df_shops, df_categories # df_items -> 아래에서 사용하므로 버리지 않음\n",
    "# gc.collect();"
   ]
  },
  {
   "cell_type": "code",
   "execution_count": null,
   "id": "3e7b5273-6acb-4b21-b61e-da99853f9aed",
   "metadata": {},
   "outputs": [],
   "source": [
    "# 훈련 데이터 (피처)\n",
    "X_train = all_data[all_data['date_block_num'] < 33]\n",
    "X_train = X_train.drop(['item_cnt_monthly'], axis=1)\n",
    "# 검증 데이터 (피처)\n",
    "X_valid = all_data[all_data['date_block_num'] == 33]\n",
    "X_valid = X_valid.drop(['item_cnt_monthly'], axis=1)\n",
    "# 테스트 데이터 (피처)\n",
    "X_test = all_data[all_data['date_block_num'] == 34]\n",
    "X_test = X_test.drop(['item_cnt_monthly'], axis=1)\n",
    "\n",
    "# 훈련 데이터 (타깃값)\n",
    "y_train = all_data[all_data['date_block_num'] < 33]['item_cnt_monthly']\n",
    "y_train = y_train.clip(0, 20) # 타깃값을 0 ~ 20로 제한\n",
    "# 검증 데이터 (타깃값)\n",
    "y_valid = all_data[all_data['date_block_num'] == 33]['item_cnt_monthly']\n",
    "y_valid = y_valid.clip(0, 20)"
   ]
  },
  {
   "cell_type": "markdown",
   "id": "8496e58c-1285-4ee5-889c-f3b7424175c1",
   "metadata": {},
   "source": [
    "학습 데이터 X_train, y_train : 33월 이전 데이터로 학습  \n",
    "검증 데이터 X_valid, y_valid : 33월 데이터로 모델 검증  \n",
    "테스트 데이터 X_test: 34월 데이터로 예측  "
   ]
  },
  {
   "cell_type": "code",
   "execution_count": null,
   "id": "89353519-3742-4854-8bd3-a107cfa94d79",
   "metadata": {},
   "outputs": [],
   "source": [
    "X_train.shape"
   ]
  },
  {
   "cell_type": "code",
   "execution_count": null,
   "id": "a588743b-b4d6-491e-8668-faadf6a4723d",
   "metadata": {},
   "outputs": [],
   "source": [
    "y_train.shape"
   ]
  },
  {
   "cell_type": "code",
   "execution_count": null,
   "id": "157b2e9d-03ad-4048-af47-93c16a8f6a1c",
   "metadata": {},
   "outputs": [],
   "source": [
    "X_valid.shape"
   ]
  },
  {
   "cell_type": "code",
   "execution_count": null,
   "id": "572cad39-6beb-46f1-8b28-d57b271dbd5c",
   "metadata": {},
   "outputs": [],
   "source": [
    "y_valid.shape"
   ]
  },
  {
   "cell_type": "code",
   "execution_count": null,
   "id": "78f5ed40-863e-412d-9894-b78713cb747a",
   "metadata": {},
   "outputs": [],
   "source": [
    "X_train = X_train.drop('shop_grade', axis=1)\n",
    "X_valid = X_valid.drop('shop_grade', axis=1)\n",
    "X_test = X_test.drop('shop_grade', axis=1)"
   ]
  },
  {
   "cell_type": "code",
   "execution_count": null,
   "id": "71df693e-f976-49dc-9a6c-1f21481e64e4",
   "metadata": {},
   "outputs": [],
   "source": [
    "from sklearn.linear_model import LinearRegression\n",
    "from sklearn.metrics import mean_squared_error\n",
    "import numpy as np\n",
    "\n",
    "model = LinearRegression()\n",
    "model.fit(X_train, y_train)\n",
    "\n",
    "y_pred_valid = model.predict(X_valid)\n",
    "y_pred_valid = np.clip(y_pred_valid, 0, 20)\n",
    "mse = mean_squared_error(y_valid, y_pred_valid)\n",
    "rmse = np.sqrt(mse)\n",
    "print(f\"검증 RMSE: {rmse:.4f}\")\n",
    "# y_pred_test = model.predict(X_test)"
   ]
  },
  {
   "cell_type": "code",
   "execution_count": null,
   "id": "ed76550b-e058-4534-a086-786158571f1e",
   "metadata": {},
   "outputs": [],
   "source": [
    "y_pred_test = model.predict(X_test)\n",
    "\n",
    "y_pred_test = model.predict(X_test)\n",
    "y_pred_test = np.clip(y_pred_test, 0, 20)\n",
    "\n",
    "print(y_pred_test)"
   ]
  },
  {
   "cell_type": "code",
   "execution_count": null,
   "id": "a29a23b8-3f2d-458e-82f8-0709f05477df",
   "metadata": {},
   "outputs": [],
   "source": []
  },
  {
   "cell_type": "markdown",
   "id": "b04a548c-6809-40a8-8134-0e737ffdd75c",
   "metadata": {},
   "source": [
    "## 성능 개선 개별 데이터 피처 엔지니어링"
   ]
  },
  {
   "cell_type": "markdown",
   "id": "0a8ae580-8a86-4f26-8646-3cd5bd62b022",
   "metadata": {},
   "source": [
    "### 이상치 제거 및 전처리"
   ]
  },
  {
   "cell_type": "code",
   "execution_count": null,
   "id": "26d1599c-06fe-4bee-8b8f-b7c090717759",
   "metadata": {},
   "outputs": [],
   "source": [
    "df_train.head(3)"
   ]
  },
  {
   "cell_type": "code",
   "execution_count": null,
   "id": "804eefe2-5e2b-49a0-8628-46e4df00d5d7",
   "metadata": {},
   "outputs": [],
   "source": [
    "# 판매가가 0보다 큰 데이터 추출\n",
    "df_train = df_train[df_train['item_price'] > 0]\n",
    "# 판매가가 50,000보다 작은 데이터 추출\n",
    "df_train = df_train[df_train['item_price'] < 50000]\n",
    "\n",
    "# 판매량이 0보다 큰 데이터 추출\n",
    "df_train = df_train[df_train['item_cnt_day'] > 0]\n",
    "# 판매량이 1,000보다 작은 데이터 추출\n",
    "df_train = df_train[df_train['item_cnt_day'] < 1000]"
   ]
  },
  {
   "cell_type": "markdown",
   "id": "8f7761fa-e9a7-4237-bb9d-c915dc8cfdfb",
   "metadata": {},
   "source": [
    "상점명을 조금 다르게 기입해서 같은 상점인데 다르게 기록되어 있는 상점이 4쌍 있기에 각 쌍의 상점ID를 수정해준다. 상점명은 어차피 제거할 것이기에 수정하지 않아도 된다. -> 수정하지않음"
   ]
  },
  {
   "cell_type": "markdown",
   "id": "495eb8bc-7584-4699-9454-1b8f6f96880e",
   "metadata": {},
   "source": [
    "### 도시명은 범주형 피처이므로 레이블 인코딩"
   ]
  },
  {
   "cell_type": "code",
   "execution_count": null,
   "id": "0f3f7174-3de7-429a-968d-ed84d7c0832f",
   "metadata": {},
   "outputs": [],
   "source": [
    "# df_train에서 shop_id와 city 정보만 추출 후 중복 제거\n",
    "shop_city_map = df_train[['shop_id', 'city']].drop_duplicates()\n",
    "\n",
    "# df_shops가 안 불러와지니까 shop_id만 따로 생성한 뒤 병합\n",
    "shops = pd.DataFrame({'shop_id': df_train['shop_id'].unique()})\n",
    "shops = shops.merge(shop_city_map, on='shop_id', how='left')"
   ]
  },
  {
   "cell_type": "code",
   "execution_count": null,
   "id": "0d4c0635-53c6-4e80-82ba-2d73ec044b81",
   "metadata": {},
   "outputs": [],
   "source": [
    "from sklearn.preprocessing import LabelEncoder\n",
    "\n",
    "# 레이블 인코더 생성\n",
    "label_encoder = LabelEncoder()\n",
    "# 도시 피처 레이블 인코딩\n",
    "shops['city'] = label_encoder.fit_transform(shops['city'])"
   ]
  },
  {
   "cell_type": "code",
   "execution_count": null,
   "id": "f4c9f53d-7420-4199-9070-ae7e3e468818",
   "metadata": {},
   "outputs": [],
   "source": [
    "# # item_id별 첫 판매 월 추출\n",
    "# first_sales_month = df_train.groupby('item_id', as_index=False)['date_block_num'].min()\n",
    "# first_sales_month.rename(columns={'date_block_num': 'first_sales_month'}, inplace=True)\n",
    "\n",
    "# # 새로운 DataFrame 생성\n",
    "# items = first_sales_month.copy()"
   ]
  },
  {
   "cell_type": "code",
   "execution_count": null,
   "id": "abec141e-d19d-422d-9ab2-da2066913d9a",
   "metadata": {},
   "outputs": [],
   "source": [
    "# item_id별 첫 판매 월 추출\n",
    "first_sales_month = df_train.groupby('item_id', as_index=False)['date_block_num'].min()\n",
    "first_sales_month.rename(columns={'date_block_num': 'first_sales_month'}, inplace=True)\n",
    "\n",
    "# item_id별 item_category_id 추출 (중복 제거)\n",
    "item_categories = df_train[['item_id', 'item_category_id']].drop_duplicates()\n",
    "\n",
    "# first_sales_month와 item_category_id 합치기\n",
    "items = first_sales_month.merge(item_categories, on='item_id', how='left')"
   ]
  },
  {
   "cell_type": "code",
   "execution_count": null,
   "id": "33f610d0-8c22-45d2-87a0-8bcf1f25c81f",
   "metadata": {},
   "outputs": [],
   "source": [
    "items.head(3)"
   ]
  },
  {
   "cell_type": "code",
   "execution_count": null,
   "id": "b97616bc-1c76-49d4-9973-7a54ac9708ae",
   "metadata": {},
   "outputs": [],
   "source": [
    "items['first_sales_month'].isna().sum()"
   ]
  },
  {
   "cell_type": "code",
   "execution_count": null,
   "id": "655739aa-b9f6-47dc-9da2-b645124d1eab",
   "metadata": {},
   "outputs": [],
   "source": [
    "# item_category_id와 sub_category 정보를 df_train에서 추출 후 중복 제거\n",
    "item_categories = df_train[['item_category_id', 'sub_category']].drop_duplicates().reset_index(drop=True)"
   ]
  },
  {
   "cell_type": "code",
   "execution_count": null,
   "id": "e9248472-2a86-478b-8256-9ac4153e54bb",
   "metadata": {},
   "outputs": [],
   "source": [
    "# 레이블 인코더 생성\n",
    "label_encoder = LabelEncoder()\n",
    "\n",
    "# 대분류 피처 레이블 인코딩\n",
    "item_categories['sub_category'] = label_encoder.fit_transform(item_categories['sub_category'])"
   ]
  },
  {
   "cell_type": "code",
   "execution_count": null,
   "id": "9419c230-dfe5-4bb6-8808-d1d5b4a2e8a8",
   "metadata": {},
   "outputs": [],
   "source": [
    "# shops -> shop_id, city"
   ]
  },
  {
   "cell_type": "code",
   "execution_count": null,
   "id": "cbc42d72-48c3-4bff-8e82-d189749f63f0",
   "metadata": {},
   "outputs": [],
   "source": [
    "# items -> item_id, first_sales_month, item_category_id"
   ]
  },
  {
   "cell_type": "code",
   "execution_count": null,
   "id": "9a46657a-362e-4ce7-87e8-2f144a1e05ac",
   "metadata": {},
   "outputs": [],
   "source": [
    "# item_categories -> item_category_id, sub_category"
   ]
  },
  {
   "cell_type": "markdown",
   "id": "f8f15db5-6773-4f91-8351-08b2d6083faf",
   "metadata": {},
   "source": [
    "### 파생 변수 생성\n",
    "- 월, 상점, 상품별 월간 판매량과 평균 판매가 변수를 만들고, 기준 feature별 상품 판매건수 feature를 만들어 준다."
   ]
  },
  {
   "cell_type": "code",
   "execution_count": null,
   "id": "fd0d5d67-5e12-4263-8389-17e5bb4c9818",
   "metadata": {},
   "outputs": [],
   "source": []
  },
  {
   "cell_type": "code",
   "execution_count": null,
   "id": "c515b45b-148d-4aec-83b2-199941684cf6",
   "metadata": {},
   "outputs": [],
   "source": [
    "# 충돌 방지를 위해 기존 컬럼 삭제\n",
    "train = train.drop(columns=['item_cnt_monthly'], errors='ignore')\n",
    "\n",
    "group = df_train.groupby(idx_features).agg({'item_cnt_day': 'sum',\n",
    "                                               'item_price': 'mean'})\n",
    "group = group.reset_index()\n",
    "group = group.rename(columns={'item_cnt_day': 'item_cnt_monthly', 'item_price': 'mean_item_price'})\n",
    "\n",
    "train = train.merge(group, on=idx_features, how='left')\n",
    "\n",
    "train.head()"
   ]
  },
  {
   "cell_type": "markdown",
   "id": "fd4f02a6-75d3-4109-8f90-7613afb53213",
   "metadata": {},
   "source": [
    "### test data를 train에 합치기"
   ]
  },
  {
   "cell_type": "code",
   "execution_count": null,
   "id": "43e12600-489e-4d6c-8968-987471c37d9c",
   "metadata": {
    "scrolled": true
   },
   "outputs": [],
   "source": [
    "# 테스트 데이터 월ID를 34로 설정\n",
    "test['date_block_num'] = 34\n",
    "\n",
    "# train과 test 이어붙이기\n",
    "all_data = pd.concat([train, test.drop('ID', axis=1)],\n",
    "                     ignore_index=True,\n",
    "                     keys=idx_features)\n",
    "# 결측값을 0으로 대체\n",
    "all_data = all_data.fillna(0)\n",
    "\n",
    "all_data.head()"
   ]
  },
  {
   "cell_type": "markdown",
   "id": "98c53a82-64c2-4453-8e75-b81c0b1853c6",
   "metadata": {},
   "source": [
    "item_cnt_monthly컬럼이 하나가 되어야 함 -> ok  \n",
    "판매건수가 붙어있지 않음 "
   ]
  },
  {
   "cell_type": "code",
   "execution_count": null,
   "id": "5d43b613-94e7-49ff-9d7c-b2164c404d05",
   "metadata": {
    "scrolled": true
   },
   "outputs": [],
   "source": [
    "# # 테스트 데이터 월ID를 34로 설정\n",
    "# test['date_block_num'] = 34\n",
    "\n",
    "# # train과 test 이어붙이기\n",
    "# all_data = pd.concat([train, test.drop('ID', axis=1)],\n",
    "#                      ignore_index=True,\n",
    "#                      keys=idx_features)\n",
    "# # 결측값을 0으로 대체\n",
    "# all_data = all_data.fillna(0)\n",
    "\n",
    "# all_data.head()"
   ]
  },
  {
   "cell_type": "markdown",
   "id": "c16824b2-c902-428c-9138-cb5f577f1ecd",
   "metadata": {},
   "source": [
    "판매건수가 붙지 않는 문제 발생 -> 일단 진행"
   ]
  },
  {
   "cell_type": "markdown",
   "id": "bf1c031e-8026-4f28-bd4c-7e42e977ea2b",
   "metadata": {},
   "source": [
    "all_data에 item_category_id가 없어서 merge가 안 됨 -> merge 하여 해결 "
   ]
  },
  {
   "cell_type": "code",
   "execution_count": null,
   "id": "9dfb4509-bb03-42c9-9646-c3d9c3f9f36d",
   "metadata": {
    "scrolled": true
   },
   "outputs": [],
   "source": [
    "print(items['item_id'].duplicated().sum())"
   ]
  },
  {
   "cell_type": "code",
   "execution_count": null,
   "id": "fd2268b0-5ecf-4d5c-8533-4a8fb6632604",
   "metadata": {},
   "outputs": [],
   "source": [
    "all_data.isna().sum()"
   ]
  },
  {
   "cell_type": "code",
   "execution_count": null,
   "id": "4d220920-3cad-4d1d-a8e0-13c0132970c5",
   "metadata": {},
   "outputs": [],
   "source": [
    "all_data['item_id'].nunique()"
   ]
  },
  {
   "cell_type": "code",
   "execution_count": null,
   "id": "d2abbc95-6663-4c08-8349-a7d3f2858e17",
   "metadata": {},
   "outputs": [],
   "source": [
    "items['item_id'].nunique()"
   ]
  },
  {
   "cell_type": "code",
   "execution_count": null,
   "id": "36550101-1acb-4b95-9628-91331567b55b",
   "metadata": {},
   "outputs": [],
   "source": [
    "items"
   ]
  },
  {
   "cell_type": "code",
   "execution_count": null,
   "id": "fd7408f9-29bb-4dee-a9b4-b1b25fd44c32",
   "metadata": {},
   "outputs": [],
   "source": [
    "all_data = all_data.merge(items, on='item_id', how='left')"
   ]
  },
  {
   "cell_type": "code",
   "execution_count": null,
   "id": "832a7e65-f1b8-47ee-abf0-ce3f3e3e06b9",
   "metadata": {},
   "outputs": [],
   "source": [
    "print(all_data[['item_id', 'first_sales_month']].isna().sum())"
   ]
  },
  {
   "cell_type": "code",
   "execution_count": null,
   "id": "c0fd5158-2975-491a-a377-ff4c96224f69",
   "metadata": {},
   "outputs": [],
   "source": [
    "all_data = all_data[all_data['first_sales_month'].notna()].reset_index(drop=True) # 결측치는 drop or fillna(0) 중에 제거 선택"
   ]
  },
  {
   "cell_type": "code",
   "execution_count": null,
   "id": "3c3f839a-0e35-4dad-aa6b-aacbadc0901c",
   "metadata": {},
   "outputs": [],
   "source": [
    "print(all_data[['item_id', 'first_sales_month']].isna().sum())"
   ]
  },
  {
   "cell_type": "code",
   "execution_count": null,
   "id": "3ec6ef7c-7eab-4eda-8f60-1219bcaf67ea",
   "metadata": {},
   "outputs": [],
   "source": [
    "# all_data"
   ]
  },
  {
   "cell_type": "code",
   "execution_count": null,
   "id": "e4b0a01a-44d3-469e-89bc-56b0265ac086",
   "metadata": {},
   "outputs": [],
   "source": [
    "all_data = all_data.merge(shops, on='shop_id', how='left')\n",
    "all_data = all_data.merge(item_categories, on='item_category_id', how='left')"
   ]
  },
  {
   "cell_type": "code",
   "execution_count": null,
   "id": "d11928fa-8710-45cf-81f8-e054a6a1bb11",
   "metadata": {},
   "outputs": [],
   "source": [
    "merge_df = all_data.copy() # 혹시 몰라서 copy"
   ]
  },
  {
   "cell_type": "code",
   "execution_count": null,
   "id": "e629bbc2-af05-4b05-84b1-bac824853dbc",
   "metadata": {},
   "outputs": [],
   "source": []
  },
  {
   "cell_type": "code",
   "execution_count": null,
   "id": "3eaa4713-cfe9-40c1-9024-73e4ab802097",
   "metadata": {},
   "outputs": [],
   "source": [
    "all_data = downcast(all_data)"
   ]
  },
  {
   "cell_type": "code",
   "execution_count": null,
   "id": "e2e90ebc-6095-42f8-852d-ec9c1e0778c7",
   "metadata": {},
   "outputs": [],
   "source": [
    "del shops, items, item_categories\n",
    "# del shops, item_categories\n",
    "gc.collect();"
   ]
  },
  {
   "cell_type": "code",
   "execution_count": null,
   "id": "85f76cac-0fee-473c-b161-b3a9f58f585d",
   "metadata": {},
   "outputs": [],
   "source": [
    "all_data"
   ]
  },
  {
   "cell_type": "markdown",
   "id": "d61d5096-dd5b-4fe3-94f5-65e00a9b35de",
   "metadata": {},
   "source": [
    "NameError: name 'shops' is not defined -> 해당 셀 실행을 2번함 -> 해결ok"
   ]
  },
  {
   "cell_type": "markdown",
   "id": "ff3a70f0-c2e6-4bbf-b829-d57c63d01409",
   "metadata": {},
   "source": [
    "### 시차(time lag) feature 생성\n",
    "타깃값과 관련된 \"기준 feauture별 월간 평균 판매량\" feature를 만들고 이를 활용해 시차 feature를 만들도록한다."
   ]
  },
  {
   "cell_type": "code",
   "execution_count": null,
   "id": "ba6f41cb-c003-4bba-af2f-ba237a9562d7",
   "metadata": {},
   "outputs": [],
   "source": [
    "def add_mean_features(df, mean_features, idx_features): # df->all_data\n",
    "    # 기준 피처 확인 \n",
    "    assert (idx_features[0] == 'date_block_num') and \\\n",
    "           len(idx_features) in [2, 3]\n",
    "\n",
    "    # 파생 피처명 설정 \n",
    "    if len(idx_features) == 2:\n",
    "        feature_name = idx_features[1] + '별 평균 판매량'\n",
    "    else:\n",
    "        feature_name = idx_features[1] + ' ' + idx_features[2] + '별 평균 판매량'\n",
    "\n",
    "    # 기준 피처를 토대로 그룹화해 월간 평균 판매량 구하기 \n",
    "    group = df.groupby(idx_features).agg({'item_cnt_monthly': 'mean'})\n",
    "    group = group.reset_index()\n",
    "    group = group.rename(columns={'item_cnt_monthly': feature_name})\n",
    "\n",
    "    # df와 group 병합 \n",
    "    df = df.merge(group, on=idx_features, how='left')\n",
    "    # 데이터 다운캐스팅 \n",
    "    df = downcast(df, verbose=False)\n",
    "    # 새로 만든 feature_name 피처명을 mean_features 리스트에 추가 \n",
    "    mean_features.append(feature_name)\n",
    "\n",
    "    # 가비지 컬렉션\n",
    "    del group\n",
    "    gc.collect()\n",
    "\n",
    "    return df, mean_features"
   ]
  },
  {
   "cell_type": "code",
   "execution_count": null,
   "id": "80609435-d212-4b4f-9406-9edc65fd469c",
   "metadata": {},
   "outputs": [],
   "source": []
  },
  {
   "cell_type": "code",
   "execution_count": null,
   "id": "d33b7740-091a-4cc9-b672-67a4a2d8d633",
   "metadata": {},
   "outputs": [],
   "source": [
    "# # 테스트 데이터 월ID를 34로 설정\n",
    "# test['date_block_num'] = 34\n",
    "\n",
    "# # train과 test 이어붙이기\n",
    "# all_data = pd.concat([train, test.drop('ID', axis=1)],\n",
    "#                      ignore_index=True,\n",
    "#                      keys=idx_features)\n",
    "# # 결측값을 0으로 대체\n",
    "# all_data = all_data.fillna(0)\n",
    "\n",
    "# all_data.head()"
   ]
  },
  {
   "cell_type": "markdown",
   "id": "9da96c4c-ef43-442d-85fd-eaeafcaadeb2",
   "metadata": {},
   "source": [
    "여기서 이 셀을 지나면 all_data가 reset되는 문제 -> 일단 지나게 해서 추후에 merge하는 방법"
   ]
  },
  {
   "cell_type": "code",
   "execution_count": null,
   "id": "f7f65004-5512-4bda-b247-ab80b80f2058",
   "metadata": {},
   "outputs": [],
   "source": [
    "test['date_block_num'] = 34\n",
    "all_data = pd.concat([train, test.drop('ID', axis=1)], ignore_index=True)\n",
    "all_data = all_data.fillna(0)\n",
    "all_data.head()"
   ]
  },
  {
   "cell_type": "code",
   "execution_count": null,
   "id": "c90fca0a-27fb-40cc-a805-3644c60579bf",
   "metadata": {},
   "outputs": [],
   "source": [
    "# # test에 train의 컬럼 구조를 맞춰줌 -> test에 없는 컬럼이 fillna 되지 않게 함\n",
    "# for col in train.columns:\n",
    "#     if col not in test.columns and col != 'ID':\n",
    "#         test[col] = np.nan\n",
    "\n",
    "# test['date_block_num'] = 34\n",
    "\n",
    "# # 합치기\n",
    "# all_data = pd.concat([train, test.drop('ID', axis=1)], ignore_index=True)\n",
    "# all_data = all_data.fillna(0)"
   ]
  },
  {
   "cell_type": "code",
   "execution_count": null,
   "id": "0523649e-5245-4d65-97bb-028a9356ee89",
   "metadata": {},
   "outputs": [],
   "source": [
    "# all_data와 df_train에 모두 존재하는 'shop_id'컬럼을 기준으로 병합\n",
    "# df_train에서 중복 제거 후 city 컬럼만 추출\n",
    "shop_city = df_train[['shop_id', 'city']].drop_duplicates()\n",
    "\n",
    "# all_data에 병합 (중복 컬럼 방지)\n",
    "all_data = all_data.merge(shop_city, on='shop_id', how='left')"
   ]
  },
  {
   "cell_type": "markdown",
   "id": "09fee616-fdcb-422d-a409-51a05f4d26ab",
   "metadata": {},
   "source": [
    "all_data에 city컬럼을 merge 하였으므로 아래 행이 실행되어야 함 -> ok"
   ]
  },
  {
   "cell_type": "code",
   "execution_count": null,
   "id": "0689bba1-a05a-4d3a-a39e-7240bac98a38",
   "metadata": {
    "scrolled": true
   },
   "outputs": [],
   "source": [
    "# 그룹화 기준 피처 중 '상품ID'가 포함된 파생 피처명을 담을 리스트\n",
    "item_mean_features = []\n",
    "\n",
    "# ['월ID', '상품ID']로 그룹화한 월간 평균 판매량 파생 피처 생성\n",
    "all_data, item_mean_features = add_mean_features(df=all_data,\n",
    "                                                 mean_features=item_mean_features,\n",
    "                                                 idx_features=['date_block_num', 'item_id'])\n",
    "\n",
    "# ['월ID', '상품ID', '도시']로 그룹화한 월간 평균 판매량 파생 피처 생성\n",
    "all_data, item_mean_features = add_mean_features(df=all_data,\n",
    "                                                 mean_features=item_mean_features,\n",
    "                                                 idx_features=['date_block_num', 'item_id', 'city'])\n",
    "\n",
    "item_mean_features"
   ]
  },
  {
   "cell_type": "code",
   "execution_count": null,
   "id": "c8aeae0e-1b1b-4576-8640-8b63a8569829",
   "metadata": {},
   "outputs": [],
   "source": [
    "# item_id 기준으로 item_category_id 병합\n",
    "item_category = df_train[['item_id', 'item_category_id']].drop_duplicates()\n",
    "all_data = all_data.merge(item_category, on='item_id', how='left')"
   ]
  },
  {
   "cell_type": "code",
   "execution_count": null,
   "id": "1ac52217-3a47-4fff-9707-6f3a07a91d38",
   "metadata": {},
   "outputs": [],
   "source": [
    "# 그룹화 기준 피처 중 '상점ID'가 포함된 파생 피처명을 담을 리스트\n",
    "shop_mean_features = []\n",
    "\n",
    "# ['월ID', '상점ID', '상품분류ID']로 그룹화한 월간 평균 판매량 파생 피처 생성\n",
    "all_data, shop_mean_features = add_mean_features(df=all_data, \n",
    "                                                 mean_features=shop_mean_features,\n",
    "                                                 idx_features=['date_block_num', 'shop_id', 'item_category_id'])\n",
    "\n",
    "shop_mean_features"
   ]
  },
  {
   "cell_type": "code",
   "execution_count": null,
   "id": "75991eb4-270e-4ae1-8718-303a70550da8",
   "metadata": {},
   "outputs": [],
   "source": [
    "# def add_lag_features(df, lag_features_to_clip, idx_features, \n",
    "#                      lag_feature, nlags=3, clip=False):\n",
    "#     # 시차 피처 생성에 필요한 DataFrame 부분만 복사 \n",
    "#     df_temp = df[idx_features + [lag_feature]].copy() \n",
    "\n",
    "#     # 시차 피처 생성 \n",
    "#     for i in range(1, nlags+1):\n",
    "#         # 시차 피처명 \n",
    "#         lag_feature_name = lag_feature +'_시차' + str(i)\n",
    "#         # df_temp 열 이름 설정 \n",
    "#         df_temp.columns = idx_features + [lag_feature_name]\n",
    "#         # df_temp의 date_block_num 피처에 1 더하기 \n",
    "#         df_temp['date_block_num'] += 1\n",
    "#         # idx_feature를 기준으로 df와 df_temp 병합하기 \n",
    "#         df = df.merge(df_temp.drop_duplicates(), \n",
    "#                       on=idx_features, \n",
    "#                       how='left')\n",
    "#         # 결측값 0으로 대체 \n",
    "#         df[lag_feature_name] = df[lag_feature_name].fillna(0)\n",
    "#         # 0 ~ 20 사이로 제한할 시차 피처명을 lag_features_to_clip에 추가 \n",
    "#         if clip: \n",
    "#             lag_features_to_clip.append(lag_feature_name)\n",
    "\n",
    "#     # 데이터 다운캐스팅\n",
    "#     df = downcast(df, False)\n",
    "#     # 가비지 컬렉션\n",
    "#     del df_temp\n",
    "#     gc.collect()\n",
    "\n",
    "#     return df, lag_features_to_clip"
   ]
  },
  {
   "cell_type": "code",
   "execution_count": null,
   "id": "f10a4876-ffbf-4a2d-871b-112b9a1b6ad6",
   "metadata": {},
   "outputs": [],
   "source": [
    "# def add_lag_features(df, lag_features_to_clip, idx_features, \n",
    "#                      lag_feature, nlags=3, clip=False):\n",
    "#     df_temp = df[idx_features + [lag_feature]].copy()\n",
    "\n",
    "#     for i in range(1, nlags + 1):\n",
    "#         lag_feature_name = lag_feature + '_시차' + str(i)\n",
    "        \n",
    "#         # 복사 후 컬럼명 변경은 루프 안에서 이뤄져야 하되, 컬럼 수가 정확해야 함\n",
    "#         df_shift = df_temp.copy()\n",
    "#         df_shift['date_block_num'] += i\n",
    "#         df_shift.rename(columns={lag_feature: lag_feature_name}, inplace=True)\n",
    "\n",
    "#         df = df.merge(df_shift, on=idx_features, how='left')\n",
    "#         df[lag_feature_name] = df[lag_feature_name].fillna(0)\n",
    "\n",
    "#         if clip:\n",
    "#             lag_features_to_clip.append(lag_feature_name)\n",
    "\n",
    "#     df = downcast(df, False)\n",
    "#     gc.collect()\n",
    "#     return df, lag_features_to_clip\n"
   ]
  },
  {
   "cell_type": "code",
   "execution_count": null,
   "id": "79452034-7d56-4e22-8332-ed2cfb410e81",
   "metadata": {},
   "outputs": [],
   "source": [
    "# def add_lag_features(df, lag_features_to_clip, idx_features, \n",
    "#                      lag_feature, nlags=3, clip=False):\n",
    "#     df_temp = df[idx_features + [lag_feature]].copy()\n",
    "\n",
    "#     for i in range(1, nlags + 1):\n",
    "#         lag_feature_name = f'{lag_feature}_시차{i}'\n",
    "\n",
    "#         df_shift = df_temp.copy()\n",
    "#         df_shift['date_block_num'] += i\n",
    "#         df_shift.rename(columns={lag_feature: lag_feature_name}, inplace=True)\n",
    "\n",
    "#         # 병합\n",
    "#         df = df.merge(df_shift, on=idx_features, how='left')\n",
    "\n",
    "#         # fillna 안전하게 적용\n",
    "#         if lag_feature_name in df.columns:\n",
    "#             df.loc[:, lag_feature_name] = df[lag_feature_name].fillna(0)\n",
    "#         else:\n",
    "#             print(f\"[경고] 병합 후 {lag_feature_name} 컬럼이 존재하지 않습니다.\")\n",
    "\n",
    "#         # 클리핑 대상 피처 추가\n",
    "#         if clip:\n",
    "#             lag_features_to_clip.append(lag_feature_name)\n",
    "\n",
    "#     df = downcast(df, False)\n",
    "#     gc.collect()\n",
    "#     return df, lag_features_to_clip\n",
    "# 그래도 실행은 됨"
   ]
  },
  {
   "cell_type": "code",
   "execution_count": null,
   "id": "74fa597e-b372-43bf-89f4-0452f1492a1e",
   "metadata": {},
   "outputs": [],
   "source": [
    "def add_lag_features(df, lag_features_to_clip, idx_features, \n",
    "                     lag_feature, nlags=3, clip=False):\n",
    "    df_temp = df[idx_features + [lag_feature]].copy()\n",
    "\n",
    "    for i in range(1, nlags + 1):\n",
    "        lag_feature_name = lag_feature + '_시차' + str(i)\n",
    "\n",
    "        # 중복 컬럼 있으면 제거\n",
    "        if lag_feature_name in df.columns:\n",
    "            df = df.drop(columns=[lag_feature_name])\n",
    "            # df_temp, df 모두 컬럼이 존재하여 중복 문제로 하나는 거거\n",
    "\n",
    "        df_temp.columns = idx_features + [lag_feature_name]\n",
    "        df_temp['date_block_num'] += 1\n",
    "\n",
    "        df = df.merge(df_temp.drop_duplicates(), on=idx_features, how='left')\n",
    "\n",
    "        df[lag_feature_name] = df[lag_feature_name].fillna(0)\n",
    "\n",
    "        if clip:\n",
    "            lag_features_to_clip.append(lag_feature_name)\n",
    "\n",
    "    df = downcast(df, False)\n",
    "    del df_temp\n",
    "    gc.collect()\n",
    "\n",
    "    return df, lag_features_to_clip\n"
   ]
  },
  {
   "cell_type": "code",
   "execution_count": null,
   "id": "e8e87eb9-5a69-44a5-9b12-7f17f352f526",
   "metadata": {},
   "outputs": [],
   "source": [
    "lag_features_to_clip = [] # 0 ~ 20 사이로 제한할 시차 피처명을 담을 리스트\n",
    "idx_features = ['date_block_num', 'shop_id', 'item_id'] # 기준 피처\n",
    "\n",
    "# idx_features를 기준으로 월간 판매량의 세 달치 시차 피처 생성\n",
    "all_data, lag_features_to_clip = add_lag_features(df=all_data, \n",
    "                                                  lag_features_to_clip=lag_features_to_clip,\n",
    "                                                  idx_features=idx_features,\n",
    "                                                  lag_feature='item_cnt_monthly', \n",
    "                                                  nlags=3,\n",
    "                                                  clip=True) # 값을 0 ~ 20 사이로 제한"
   ]
  },
  {
   "cell_type": "code",
   "execution_count": null,
   "id": "b1f821b0-7c47-46b1-a852-fe277301bc5f",
   "metadata": {},
   "outputs": [],
   "source": [
    "# idx_features를 기준으로 판매건수 피처의 세 달치 시차 피처 생성\n",
    "all_data, lag_features_to_clip = add_lag_features(df=all_data, \n",
    "                                                  lag_features_to_clip=lag_features_to_clip,\n",
    "                                                  idx_features=idx_features,\n",
    "                                                  lag_feature='item_cnt_monthly', \n",
    "                                                  nlags=3)\n",
    "\n",
    "# idx_features를 기준으로 평균 판매가 피처의 세 달치 시차 피처 생성\n",
    "all_data, lag_features_to_clip = add_lag_features(df=all_data, \n",
    "                                                  lag_features_to_clip=lag_features_to_clip,\n",
    "                                                  idx_features=idx_features,\n",
    "                                                  lag_feature='mean_item_price', \n",
    "                                                  nlags=3)"
   ]
  },
  {
   "cell_type": "code",
   "execution_count": null,
   "id": "2e0ead40-89d2-4ee9-a959-395cdd83f3c6",
   "metadata": {},
   "outputs": [],
   "source": [
    "# all_data"
   ]
  },
  {
   "cell_type": "code",
   "execution_count": null,
   "id": "b99fbcb9-cd01-4585-9dd0-39a9705d3887",
   "metadata": {},
   "outputs": [],
   "source": [
    "print(all_data.columns.tolist())"
   ]
  },
  {
   "cell_type": "code",
   "execution_count": null,
   "id": "5ee4dbcd-0b42-42f9-997c-5ec2828b9d7b",
   "metadata": {},
   "outputs": [],
   "source": [
    "# idx_features를 기준으로 item_mean_features 요소별 시차 피처 생성\n",
    "for item_mean_feature in item_mean_features:\n",
    "    all_data, lag_features_to_clip = add_lag_features(df=all_data, \n",
    "                                                      lag_features_to_clip=lag_features_to_clip, \n",
    "                                                      idx_features=idx_features, \n",
    "                                                      lag_feature=item_mean_feature, \n",
    "                                                      nlags=3,\n",
    "                                                      clip=True)\n",
    "# item_mean_features 피처 제거\n",
    "all_data = all_data.drop(item_mean_features, axis=1)"
   ]
  },
  {
   "cell_type": "code",
   "execution_count": null,
   "id": "25e1c770-376a-4880-9a7b-35a305f5c44f",
   "metadata": {},
   "outputs": [],
   "source": [
    "# ['월ID', '상점ID', '상품분류ID']를 기준으로 shop_mean_features 요소별 시차 피처 생성\n",
    "for shop_mean_feature in shop_mean_features:\n",
    "    all_data, lag_features_to_clip = add_lag_features(df=all_data,\n",
    "                                                      lag_features_to_clip=lag_features_to_clip, \n",
    "                                                      idx_features=['date_block_num', 'shop_id', 'item_id'], \n",
    "                                                      lag_feature=shop_mean_feature, \n",
    "                                                      nlags=3,\n",
    "                                                      clip=True)\n",
    "# shop_mean_features 피처 제거\n",
    "all_data = all_data.drop(shop_mean_features, axis=1)"
   ]
  },
  {
   "cell_type": "code",
   "execution_count": null,
   "id": "894d4cfb-d397-4f17-ade0-3c6182324ec1",
   "metadata": {},
   "outputs": [],
   "source": [
    "# 월ID 3미만인 데이터 제거\n",
    "all_data = all_data.drop(all_data[all_data['date_block_num'] < 3].index)"
   ]
  },
  {
   "cell_type": "code",
   "execution_count": null,
   "id": "8eb3324a-d3d9-41cc-9683-80fdf98d2991",
   "metadata": {},
   "outputs": [],
   "source": [
    "# all_data"
   ]
  },
  {
   "cell_type": "markdown",
   "id": "2294d3b1-a064-431b-b16a-d63e9edfab47",
   "metadata": {},
   "source": [
    "### 기타 feature engineering"
   ]
  },
  {
   "cell_type": "code",
   "execution_count": null,
   "id": "9fe4bd71-4818-4e7f-a0fa-855b9548c675",
   "metadata": {},
   "outputs": [],
   "source": [
    "pd.set_option('display.max_columns', None)\n",
    "all_data"
   ]
  },
  {
   "cell_type": "code",
   "execution_count": null,
   "id": "7c6f955b-949c-4e8b-bf77-84e9b26516a9",
   "metadata": {},
   "outputs": [],
   "source": []
  },
  {
   "cell_type": "code",
   "execution_count": null,
   "id": "bc7d1365-0b6a-44fc-b05b-caa4fb47f8ea",
   "metadata": {},
   "outputs": [],
   "source": [
    "all_data['월간 판매량 시차평균'] = all_data[['item_cnt_monthly_시차1',\n",
    "                                          'item_cnt_monthly_시차2', \n",
    "                                          'item_cnt_monthly_시차3']].mean(axis=1)"
   ]
  },
  {
   "cell_type": "code",
   "execution_count": null,
   "id": "57ee4e87-6959-489e-99af-d12c91ff7e00",
   "metadata": {},
   "outputs": [],
   "source": [
    "# 0 ~ 20 사이로 값 제한\n",
    "all_data[lag_features_to_clip + ['item_cnt_monthly', '월간 판매량 시차평균']] = all_data[lag_features_to_clip + ['item_cnt_monthly', '월간 판매량 시차평균']].clip(0, 20)"
   ]
  },
  {
   "cell_type": "markdown",
   "id": "c8c0329d-3114-43fb-8810-eaf166dbcfd2",
   "metadata": {},
   "source": [
    "월간판매량 -> item_cnt_monthly 로 바꿔야 할 것 같은데 오류 날까봐 일단 둠 -> 수정해서 오류 해결"
   ]
  },
  {
   "cell_type": "code",
   "execution_count": null,
   "id": "47e2cedc-5c54-465f-add7-3caaa0f52b3a",
   "metadata": {},
   "outputs": [],
   "source": [
    "all_data['시차변화량1'] = all_data['item_cnt_monthly_시차1']/all_data['item_cnt_monthly_시차2']\n",
    "all_data['시차변화량1'] = all_data['시차변화량1'].replace([np.inf, -np.inf], \n",
    "                                                        np.nan).fillna(0)\n",
    "\n",
    "all_data['시차변화량2'] = all_data['item_cnt_monthly_시차2']/all_data['item_cnt_monthly_시차3']\n",
    "all_data['시차변화량2'] = all_data['시차변화량2'].replace([np.inf, -np.inf], \n",
    "                                                        np.nan).fillna(0)"
   ]
  },
  {
   "cell_type": "code",
   "execution_count": null,
   "id": "1111942f-e21f-4fec-b06a-bc9cbb8907db",
   "metadata": {},
   "outputs": [],
   "source": [
    "all_data.info()"
   ]
  },
  {
   "cell_type": "code",
   "execution_count": null,
   "id": "8b9127aa-db99-4bb6-84c8-19a4e9f24905",
   "metadata": {},
   "outputs": [],
   "source": [
    "all_data.isna().sum()"
   ]
  },
  {
   "cell_type": "code",
   "execution_count": null,
   "id": "65b5be6d-a9e7-4b88-bb04-66fcd2afc526",
   "metadata": {},
   "outputs": [],
   "source": [
    "merge_df.info()"
   ]
  },
  {
   "cell_type": "code",
   "execution_count": null,
   "id": "20e176f6-2726-4f9c-bab2-c7212bde10e1",
   "metadata": {},
   "outputs": [],
   "source": [
    "merge_df_filtered = merge_df[['item_id', 'first_sales_month', 'sub_category']].drop_duplicates('item_id')\n",
    "\n",
    "# NaN 허용되는 정수형으로 변환\n",
    "merge_df_filtered['first_sales_month'] = merge_df_filtered['first_sales_month'].astype('Int8')\n",
    "merge_df_filtered['sub_category'] = merge_df_filtered['sub_category'].astype('Int8')\n",
    "\n",
    "# 기존 컬럼 제거 (있다면)\n",
    "for col in ['first_sales_month', 'sub_category']:\n",
    "    if col in all_data.columns:\n",
    "        all_data = all_data.drop(columns=col)\n",
    "\n",
    "# merge\n",
    "all_data = all_data.merge(merge_df_filtered, on='item_id', how='left')"
   ]
  },
  {
   "cell_type": "code",
   "execution_count": null,
   "id": "c112c499-8d17-47b2-bbd0-f61b2a6d781a",
   "metadata": {},
   "outputs": [],
   "source": [
    "all_data['신상여부'] = all_data['first_sales_month'] == all_data['date_block_num']"
   ]
  },
  {
   "cell_type": "code",
   "execution_count": null,
   "id": "7b39ed7e-d90b-47c7-8a47-a7a4d577375c",
   "metadata": {},
   "outputs": [],
   "source": [
    "all_data['월'] = all_data['date_block_num'] % 12"
   ]
  },
  {
   "cell_type": "code",
   "execution_count": null,
   "id": "2ba6a285-f9c4-4815-a16c-33d6dfd49442",
   "metadata": {},
   "outputs": [],
   "source": [
    "all_data.isna().sum()"
   ]
  },
  {
   "cell_type": "code",
   "execution_count": null,
   "id": "338d164a-7e50-4deb-acd9-3f5213c51983",
   "metadata": {},
   "outputs": [],
   "source": [
    "# # 첫 판매월, 평균 판매가, 판매건수 피처 제거\n",
    "# all_data = all_data.drop(['first_sales_month', 'mean_item_price', 'item_cnt_monthly'], axis=1)"
   ]
  },
  {
   "cell_type": "code",
   "execution_count": null,
   "id": "fa027a60-e264-49da-90cb-83edb4a0a76b",
   "metadata": {},
   "outputs": [],
   "source": [
    "all_data.isna().sum()"
   ]
  },
  {
   "cell_type": "code",
   "execution_count": null,
   "id": "89ba5410-c961-45ac-b6c0-dedf6d03b79b",
   "metadata": {},
   "outputs": [],
   "source": [
    "# 결측치가 생긴 컬럼 리스트\n",
    "cols_with_na = ['item_category_id', 'sub_category', '신상여부']\n",
    "\n",
    "# 결측치가 하나라도 있는 행 제거\n",
    "all_data = all_data.dropna(subset=cols_with_na).reset_index(drop=True)"
   ]
  },
  {
   "cell_type": "code",
   "execution_count": null,
   "id": "f11b00bc-6190-4112-b4d6-76e2f4b10ffb",
   "metadata": {},
   "outputs": [],
   "source": [
    "all_data.isna().sum()"
   ]
  },
  {
   "cell_type": "code",
   "execution_count": null,
   "id": "e3784c04-718b-4ca4-9b6c-e42f378552fe",
   "metadata": {},
   "outputs": [],
   "source": [
    "from sklearn.preprocessing import LabelEncoder\n",
    "\n",
    "# 레이블 인코더 생성\n",
    "label_encoder = LabelEncoder()\n",
    "# 도시 피처 레이블 인코딩\n",
    "all_data['city'] = label_encoder.fit_transform(all_data['city'])"
   ]
  },
  {
   "cell_type": "code",
   "execution_count": null,
   "id": "7e034724-37dd-4f24-9270-8f5cae0ff1a1",
   "metadata": {},
   "outputs": [],
   "source": [
    "all_data = downcast(all_data, False) # 데이터 다운캐스팅"
   ]
  },
  {
   "cell_type": "code",
   "execution_count": null,
   "id": "70fb5fee-b58e-4031-8700-16d1063c504f",
   "metadata": {},
   "outputs": [],
   "source": [
    "# # 훈련 데이터 (피처)\n",
    "# X_train = all_data[all_data['date_block_num'] < 33]\n",
    "# # X_train = X_train.drop(['item_cnt_monthly'], axis=1)\n",
    "# # 검증 데이터 (피처)\n",
    "# X_valid = all_data[all_data['date_block_num'] == 33]\n",
    "# # X_valid = X_valid.drop(['item_cnt_monthly'], axis=1)\n",
    "# # 테스트 데이터 (피처)\n",
    "# X_test = all_data[all_data['date_block_num'] == 34]\n",
    "# # X_test = X_test.drop(['item_cnt_monthly'], axis=1)\n",
    "\n",
    "# # 훈련 데이터 (타깃값)\n",
    "# y_train = all_data[all_data['date_block_num'] < 33]['item_cnt_monthly']\n",
    "# # 검증 데이터 (타깃값)\n",
    "# y_valid = all_data[all_data['date_block_num'] == 33]['item_cnt_monthly']\n",
    "\n",
    "# # 가비지 컬렉션\n",
    "# del all_data\n",
    "# gc.collect();"
   ]
  },
  {
   "cell_type": "code",
   "execution_count": null,
   "id": "98ff2cef-994c-449d-9e87-6be858001c4c",
   "metadata": {},
   "outputs": [],
   "source": [
    "# 타깃값 (item_cnt_monthly) 먼저 분리\n",
    "y_train = all_data.loc[all_data['date_block_num'] < 33, 'item_cnt_monthly']\n",
    "y_valid = all_data.loc[all_data['date_block_num'] == 33, 'item_cnt_monthly']\n",
    "\n",
    "# 예측에 필요 없는 피처 제거 (타깃과 누설 가능성 있는 것들)\n",
    "all_data = all_data.drop(['first_sales_month', 'mean_item_price', 'item_cnt_monthly'], axis=1)\n",
    "\n",
    "# 학습/검증/테스트용 피처 데이터 분리\n",
    "X_train = all_data[all_data['date_block_num'] < 33]\n",
    "X_valid = all_data[all_data['date_block_num'] == 33]\n",
    "X_test = all_data[all_data['date_block_num'] == 34]\n",
    "\n",
    "# 메모리 정리\n",
    "del all_data\n",
    "gc.collect()\n"
   ]
  },
  {
   "cell_type": "code",
   "execution_count": null,
   "id": "feaef3b9-d707-440a-b6fa-d2ded05f203c",
   "metadata": {},
   "outputs": [],
   "source": [
    "import lightgbm as lgb\n",
    "\n",
    "# LightGBM 하이퍼파라미터\n",
    "params = {'metric': 'rmse', \n",
    "          'num_leaves': 255,\n",
    "          'learning_rate': 0.005,\n",
    "          'feature_fraction': 0.75,\n",
    "          'bagging_fraction': 0.75,\n",
    "          'bagging_freq': 5,\n",
    "          'force_col_wise': True,\n",
    "          'random_state': 10,\n",
    "          'early_stopping_rounds':150,\n",
    "          'categorical_feature':cat_features,\n",
    "          'verbose_eval':100    \n",
    "         }\n",
    "\n",
    "cat_features = ['shop_id', 'city', 'item_category_id', 'sub_category', '월']\n",
    "\n",
    "# LightGBM 훈련 및 검증 데이터셋\n",
    "dtrain = lgb.Dataset(X_train, y_train)\n",
    "dvalid = lgb.Dataset(X_valid, y_valid)\n",
    "\n",
    "# LightGBM 모델 훈련\n",
    "lgb_model = lgb.train(params=params,\n",
    "                      train_set=dtrain,\n",
    "                      num_boost_round=1500,\n",
    "                      valid_sets=(dtrain, dvalid)\n",
    "                     )\n",
    "                      "
   ]
  },
  {
   "cell_type": "code",
   "execution_count": null,
   "id": "b00200ec-d4d9-4660-9b46-a3b9f65129af",
   "metadata": {},
   "outputs": [],
   "source": []
  },
  {
   "cell_type": "code",
   "execution_count": null,
   "id": "b2ed636c-05b3-4a73-b564-e71a5220b01b",
   "metadata": {},
   "outputs": [],
   "source": []
  }
 ],
 "metadata": {
  "kernelspec": {
   "display_name": "Python 3 (ipykernel)",
   "language": "python",
   "name": "python3"
  },
  "language_info": {
   "codemirror_mode": {
    "name": "ipython",
    "version": 3
   },
   "file_extension": ".py",
   "mimetype": "text/x-python",
   "name": "python",
   "nbconvert_exporter": "python",
   "pygments_lexer": "ipython3",
   "version": "3.12.7"
  }
 },
 "nbformat": 4,
 "nbformat_minor": 5
}
