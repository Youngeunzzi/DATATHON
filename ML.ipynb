{
 "cells": [
  {
   "cell_type": "code",
   "execution_count": 158,
   "id": "5160916c-8601-4ea3-a441-90344dcebee5",
   "metadata": {},
   "outputs": [],
   "source": [
    "# 데이터 처리, 모델 구축, 시각화를 위한 주요 라이브러리 및 모듈을 불러옵니다.\n",
    "import gc  # Python의 가비지 컬렉터 관련 모듈로, 메모리 관리를 위해 객체 삭제를 명시적으로 제어할 수 있습니다.\n",
    "import itertools  # 반복 가능한 객체로부터 조합, 순열 등 다양한 반복자를 생성하는 유틸리티 모듈입니다.\n",
    "import matplotlib.pyplot as plt  # 정적/애니메이션/인터랙티브 시각화를 지원하는 matplotlib의 핵심 시각화 도구입니다.\n",
    "import numpy as np  # 다차원 배열과 행렬 연산, 다양한 수학 함수 제공을 위한 수치 계산 라이브러리입니다.\n",
    "import pandas as pd  # 데이터 프레임과 시리즈 객체를 기반으로 한 데이터 분석용 라이브러리입니다.\n",
    "import seaborn as sns  # matplotlib을 기반으로 한 고급 통계 시각화 라이브러리입니다.\n",
    "import os  # 운영체제와 상호작용하기 위한 모듈로, 파일 경로 탐색 등 OS 의존 기능을 지원합니다.\n",
    "import xgboost  # 머신러닝용 XGBoost 라이브러리 (주로 회귀, 분류, 랭킹에 사용).\n",
    "import warnings  # 경고 메시지 필터링 및 제어를 위한 모듈입니다.\n",
    "import lightgbm as lgbm  # LightGBM: 그래디언트 부스팅 기반 머신러닝 프레임워크입니다.\n",
    "import lightgbm as lgb  # LightGBM을 다른 별칭으로 중복 임포트 (보통은 하나만 임포트해도 충분합니다).\n",
    "import ctypes  # C 언어 호환 데이터 타입을 사용하거나 외부 DLL/공유 라이브러리 호출 시 사용되는 모듈입니다.\n",
    "from sklearn.linear_model import LinearRegression  # 선형 회귀 모델을 구현하는 클래스입니다.\n",
    "\n",
    "warnings.filterwarnings(\"ignore\")  # 경고 메시지를 무시하여 출력 결과가 지저분하지 않도록 설정합니다."
   ]
  },
  {
   "cell_type": "code",
   "execution_count": 159,
   "id": "c5f4e0ef-5ac5-4596-a10a-37086b0a10e7",
   "metadata": {},
   "outputs": [],
   "source": [
    "# 쥬피터 노트북용 데이터 불러오기\n",
    "df_train = pd.read_csv('./sales_train.csv')\n",
    "df_categories = pd.read_csv(\"./item_categories.csv\")\n",
    "df_items = pd.read_csv(\"./items-translated.csv\", encoding='cp1252') # 번역 후 파일을 input 폴더에 올려두었습니다. 파일명: items_translated\n",
    "df_shops = pd.read_csv(\"./shops_graded.csv\", encoding='cp1252') # 매장 등급 추가한 파일을 input 폴더에 올려두었습니다. 파일명: shops_graded\n",
    "df_test = pd.read_csv(\"./test.csv\")\n",
    "calendar = pd.read_csv(\"./calendar.csv\")"
   ]
  },
  {
   "cell_type": "code",
   "execution_count": 160,
   "id": "2c019d81-56d6-4e92-8d58-e377bd792f14",
   "metadata": {},
   "outputs": [],
   "source": [
    "# df_shops"
   ]
  },
  {
   "cell_type": "code",
   "execution_count": 161,
   "id": "60e30df1-f723-43b0-9d22-7e6b612819f9",
   "metadata": {},
   "outputs": [],
   "source": [
    "# 데이터 병합\n",
    "df_train['date'] = pd.to_datetime(df_train['date'], format='%d.%m.%Y')\n",
    "calendar['date'] = pd.to_datetime(calendar['date'])\n",
    "\n",
    "df_train = pd.merge(df_train, df_items, on='item_id', how='inner')\n",
    "df_train = pd.merge(df_train, df_categories, on='item_category_id', how='inner')\n",
    "df_train = pd.merge(df_train, df_shops, on='shop_id', how='inner')\n",
    "df_test = pd.merge(df_test, df_items, on='item_id', how='inner')\n",
    "df_test = pd.merge(df_test, df_categories, on='item_category_id', how='inner')\n",
    "df_test = pd.merge(df_test, df_shops, on='shop_id', how='inner')\n",
    "df_train = pd.merge(df_train, calendar, on='date', how='left')"
   ]
  },
  {
   "cell_type": "code",
   "execution_count": 162,
   "id": "5cd1b8a9-2966-4be8-8a58-e8e58e13d9af",
   "metadata": {},
   "outputs": [],
   "source": [
    "# category, shop 중분류 추가 (12초 소요)\n",
    "df_train['city'] = df_train['shop_name'].str.split(' ').str[0]\n",
    "df_train['sub_category'] = df_train['item_category_name'].str.split(' ').str[0]\n",
    "# 중분류명 정리 → 13개\n",
    "df_train['sub_category'] = df_train['sub_category'].replace({'Pure' : 'Carrier', 'Clean' : 'Carrier', 'Elements': 'Batteries', 'Payment' : 'Gift Card', 'Service' : 'Tickets', 'Android' : 'Games', 'Mac' : 'Games', 'Game' : 'Games'})\n",
    "# city명 정리\n",
    "df_train['city'] = df_train['city'].replace({'!' : 'Yakutsk', 'Exit' : 'Other', 'N.' : 'NizhnyNovgorod', 'SPb' : 'SanktPetersburg', 'Digital' : 'Online'})\n",
    "# 원화 추가\n",
    "df_train['total_amount'] = df_train['item_price'] * df_train['item_cnt_day'] # 판매 금액\n",
    "df_train['krw_amount'] = df_train['total_amount'] * 18 # 국내 보고용 원화 표시, krw_amount로 표시\n",
    "df_train = df_train.rename({'total_amount':'rub_amount'}, axis = 1)  # 기존 판매금액은 rub_amount로 표시"
   ]
  },
  {
   "cell_type": "code",
   "execution_count": 163,
   "id": "a7444dec-ad9a-44d5-a40c-1178fdb292e2",
   "metadata": {},
   "outputs": [],
   "source": [
    "# dat 관련 컬럼 추가 # 보고용이므로 예측에는 불필요 시 사용하지 않아도 됩니다. (7초 소요)\n",
    "# df_train['date'] = pd.to_datetime(df_train['date'], format='%d.%m.%Y') (merge 직전에 완료)\n",
    "df_train['year'] =  pd.to_datetime(df_train['date']).apply(lambda x : x.year)\n",
    "df_train['month'] = pd.to_datetime(df_train['date']).apply(lambda x : x.month)\n",
    "df_train['day'] = pd.to_datetime(df_train['date']).apply(lambda x : x.day)\n",
    "df_train['year_month'] = df_train['date'].dt.to_period('M')"
   ]
  },
  {
   "cell_type": "code",
   "execution_count": 164,
   "id": "655ae4fa-919a-4184-b9ba-1162cc49c462",
   "metadata": {},
   "outputs": [
    {
     "data": {
      "text/html": [
       "<div>\n",
       "<style scoped>\n",
       "    .dataframe tbody tr th:only-of-type {\n",
       "        vertical-align: middle;\n",
       "    }\n",
       "\n",
       "    .dataframe tbody tr th {\n",
       "        vertical-align: top;\n",
       "    }\n",
       "\n",
       "    .dataframe thead th {\n",
       "        text-align: right;\n",
       "    }\n",
       "</style>\n",
       "<table border=\"1\" class=\"dataframe\">\n",
       "  <thead>\n",
       "    <tr style=\"text-align: right;\">\n",
       "      <th></th>\n",
       "      <th>date</th>\n",
       "      <th>date_block_num</th>\n",
       "      <th>shop_id</th>\n",
       "      <th>item_id</th>\n",
       "      <th>item_price</th>\n",
       "      <th>item_cnt_day</th>\n",
       "      <th>item_name_translated</th>\n",
       "      <th>item_category_id</th>\n",
       "      <th>item_category_name</th>\n",
       "      <th>shop_name</th>\n",
       "      <th>shop_grade</th>\n",
       "      <th>holiday</th>\n",
       "      <th>weekend</th>\n",
       "      <th>city</th>\n",
       "      <th>sub_category</th>\n",
       "      <th>rub_amount</th>\n",
       "      <th>krw_amount</th>\n",
       "      <th>year</th>\n",
       "      <th>month</th>\n",
       "      <th>day</th>\n",
       "      <th>year_month</th>\n",
       "    </tr>\n",
       "  </thead>\n",
       "  <tbody>\n",
       "    <tr>\n",
       "      <th>76962</th>\n",
       "      <td>2013-01-05</td>\n",
       "      <td>0</td>\n",
       "      <td>54</td>\n",
       "      <td>20130</td>\n",
       "      <td>149.0</td>\n",
       "      <td>1.0</td>\n",
       "      <td>SCIENTIFIC CHARODEA (region)</td>\n",
       "      <td>40</td>\n",
       "      <td>Cinema - DVD</td>\n",
       "      <td>Khimki shopping center \"mega\"</td>\n",
       "      <td>A</td>\n",
       "      <td>0</td>\n",
       "      <td>1</td>\n",
       "      <td>Khimki</td>\n",
       "      <td>Cinema</td>\n",
       "      <td>149.0</td>\n",
       "      <td>2682.0</td>\n",
       "      <td>2013</td>\n",
       "      <td>1</td>\n",
       "      <td>5</td>\n",
       "      <td>2013-01</td>\n",
       "    </tr>\n",
       "    <tr>\n",
       "      <th>1435367</th>\n",
       "      <td>2014-02-23</td>\n",
       "      <td>13</td>\n",
       "      <td>50</td>\n",
       "      <td>3423</td>\n",
       "      <td>999.0</td>\n",
       "      <td>1.0</td>\n",
       "      <td>Far Cry 3 (Classics) [Xbox 360, Russian version]</td>\n",
       "      <td>23</td>\n",
       "      <td>Games - Xbox 360</td>\n",
       "      <td>Tyumen TEC \"Goodwin\"</td>\n",
       "      <td>C</td>\n",
       "      <td>1</td>\n",
       "      <td>1</td>\n",
       "      <td>Tyumen</td>\n",
       "      <td>Games</td>\n",
       "      <td>999.0</td>\n",
       "      <td>17982.0</td>\n",
       "      <td>2014</td>\n",
       "      <td>2</td>\n",
       "      <td>23</td>\n",
       "      <td>2014-02</td>\n",
       "    </tr>\n",
       "    <tr>\n",
       "      <th>1496766</th>\n",
       "      <td>2014-03-23</td>\n",
       "      <td>14</td>\n",
       "      <td>21</td>\n",
       "      <td>3423</td>\n",
       "      <td>999.0</td>\n",
       "      <td>1.0</td>\n",
       "      <td>Far Cry 3 (Classics) [Xbox 360, Russian version]</td>\n",
       "      <td>23</td>\n",
       "      <td>Games - Xbox 360</td>\n",
       "      <td>Moscow MTRC \"Afers Mall\"</td>\n",
       "      <td>A</td>\n",
       "      <td>0</td>\n",
       "      <td>1</td>\n",
       "      <td>Moscow</td>\n",
       "      <td>Games</td>\n",
       "      <td>999.0</td>\n",
       "      <td>17982.0</td>\n",
       "      <td>2014</td>\n",
       "      <td>3</td>\n",
       "      <td>23</td>\n",
       "      <td>2014-03</td>\n",
       "    </tr>\n",
       "    <tr>\n",
       "      <th>1671873</th>\n",
       "      <td>2014-05-01</td>\n",
       "      <td>16</td>\n",
       "      <td>50</td>\n",
       "      <td>3423</td>\n",
       "      <td>999.0</td>\n",
       "      <td>1.0</td>\n",
       "      <td>Far Cry 3 (Classics) [Xbox 360, Russian version]</td>\n",
       "      <td>23</td>\n",
       "      <td>Games - Xbox 360</td>\n",
       "      <td>Tyumen TEC \"Goodwin\"</td>\n",
       "      <td>C</td>\n",
       "      <td>1</td>\n",
       "      <td>0</td>\n",
       "      <td>Tyumen</td>\n",
       "      <td>Games</td>\n",
       "      <td>999.0</td>\n",
       "      <td>17982.0</td>\n",
       "      <td>2014</td>\n",
       "      <td>5</td>\n",
       "      <td>1</td>\n",
       "      <td>2014-05</td>\n",
       "    </tr>\n",
       "    <tr>\n",
       "      <th>1866340</th>\n",
       "      <td>2014-07-12</td>\n",
       "      <td>18</td>\n",
       "      <td>25</td>\n",
       "      <td>3423</td>\n",
       "      <td>999.0</td>\n",
       "      <td>1.0</td>\n",
       "      <td>Far Cry 3 (Classics) [Xbox 360, Russian version]</td>\n",
       "      <td>23</td>\n",
       "      <td>Games - Xbox 360</td>\n",
       "      <td>Moscow TRK \"Atrium\"</td>\n",
       "      <td>A</td>\n",
       "      <td>0</td>\n",
       "      <td>1</td>\n",
       "      <td>Moscow</td>\n",
       "      <td>Games</td>\n",
       "      <td>999.0</td>\n",
       "      <td>17982.0</td>\n",
       "      <td>2014</td>\n",
       "      <td>7</td>\n",
       "      <td>12</td>\n",
       "      <td>2014-07</td>\n",
       "    </tr>\n",
       "    <tr>\n",
       "      <th>2198566</th>\n",
       "      <td>2014-12-31</td>\n",
       "      <td>23</td>\n",
       "      <td>42</td>\n",
       "      <td>21619</td>\n",
       "      <td>499.0</td>\n",
       "      <td>1.0</td>\n",
       "      <td>THE MAN OF RAIN (BD)</td>\n",
       "      <td>37</td>\n",
       "      <td>Cinema - Blu -Ray</td>\n",
       "      <td>SPb TK \"Nevsky Center\"</td>\n",
       "      <td>A</td>\n",
       "      <td>0</td>\n",
       "      <td>0</td>\n",
       "      <td>SanktPetersburg</td>\n",
       "      <td>Cinema</td>\n",
       "      <td>499.0</td>\n",
       "      <td>8982.0</td>\n",
       "      <td>2014</td>\n",
       "      <td>12</td>\n",
       "      <td>31</td>\n",
       "      <td>2014-12</td>\n",
       "    </tr>\n",
       "  </tbody>\n",
       "</table>\n",
       "</div>"
      ],
      "text/plain": [
       "              date  date_block_num  shop_id  item_id  item_price  \\\n",
       "76962   2013-01-05               0       54    20130       149.0   \n",
       "1435367 2014-02-23              13       50     3423       999.0   \n",
       "1496766 2014-03-23              14       21     3423       999.0   \n",
       "1671873 2014-05-01              16       50     3423       999.0   \n",
       "1866340 2014-07-12              18       25     3423       999.0   \n",
       "2198566 2014-12-31              23       42    21619       499.0   \n",
       "\n",
       "         item_cnt_day                              item_name_translated  \\\n",
       "76962             1.0                      SCIENTIFIC CHARODEA (region)   \n",
       "1435367           1.0  Far Cry 3 (Classics) [Xbox 360, Russian version]   \n",
       "1496766           1.0  Far Cry 3 (Classics) [Xbox 360, Russian version]   \n",
       "1671873           1.0  Far Cry 3 (Classics) [Xbox 360, Russian version]   \n",
       "1866340           1.0  Far Cry 3 (Classics) [Xbox 360, Russian version]   \n",
       "2198566           1.0                              THE MAN OF RAIN (BD)   \n",
       "\n",
       "         item_category_id item_category_name                      shop_name  \\\n",
       "76962                  40       Cinema - DVD  Khimki shopping center \"mega\"   \n",
       "1435367                23   Games - Xbox 360           Tyumen TEC \"Goodwin\"   \n",
       "1496766                23   Games - Xbox 360       Moscow MTRC \"Afers Mall\"   \n",
       "1671873                23   Games - Xbox 360           Tyumen TEC \"Goodwin\"   \n",
       "1866340                23   Games - Xbox 360            Moscow TRK \"Atrium\"   \n",
       "2198566                37  Cinema - Blu -Ray         SPb TK \"Nevsky Center\"   \n",
       "\n",
       "        shop_grade  holiday  weekend             city sub_category  \\\n",
       "76962            A        0        1           Khimki       Cinema   \n",
       "1435367          C        1        1           Tyumen        Games   \n",
       "1496766          A        0        1           Moscow        Games   \n",
       "1671873          C        1        0           Tyumen        Games   \n",
       "1866340          A        0        1           Moscow        Games   \n",
       "2198566          A        0        0  SanktPetersburg       Cinema   \n",
       "\n",
       "         rub_amount  krw_amount  year  month  day year_month  \n",
       "76962         149.0      2682.0  2013      1    5    2013-01  \n",
       "1435367       999.0     17982.0  2014      2   23    2014-02  \n",
       "1496766       999.0     17982.0  2014      3   23    2014-03  \n",
       "1671873       999.0     17982.0  2014      5    1    2014-05  \n",
       "1866340       999.0     17982.0  2014      7   12    2014-07  \n",
       "2198566       499.0      8982.0  2014     12   31    2014-12  "
      ]
     },
     "execution_count": 164,
     "metadata": {},
     "output_type": "execute_result"
    }
   ],
   "source": [
    "df_train[df_train.duplicated() == True]"
   ]
  },
  {
   "cell_type": "code",
   "execution_count": 165,
   "id": "a72b5ebe-34f8-41db-a006-b8b0b72e1e18",
   "metadata": {},
   "outputs": [],
   "source": [
    "# 중복 제거 # 6개 건\n",
    "df_train.drop_duplicates(inplace=True)"
   ]
  },
  {
   "cell_type": "code",
   "execution_count": 166,
   "id": "d1423fdd-3397-4ed3-83f4-13e433c0bb9a",
   "metadata": {},
   "outputs": [],
   "source": [
    "# df_train"
   ]
  },
  {
   "cell_type": "code",
   "execution_count": 167,
   "id": "260fa869-b681-49d7-9e6f-31ef22819baa",
   "metadata": {},
   "outputs": [
    {
     "data": {
      "text/html": [
       "<div>\n",
       "<style scoped>\n",
       "    .dataframe tbody tr th:only-of-type {\n",
       "        vertical-align: middle;\n",
       "    }\n",
       "\n",
       "    .dataframe tbody tr th {\n",
       "        vertical-align: top;\n",
       "    }\n",
       "\n",
       "    .dataframe thead th {\n",
       "        text-align: right;\n",
       "    }\n",
       "</style>\n",
       "<table border=\"1\" class=\"dataframe\">\n",
       "  <thead>\n",
       "    <tr style=\"text-align: right;\">\n",
       "      <th></th>\n",
       "      <th>ID</th>\n",
       "      <th>shop_id</th>\n",
       "      <th>item_id</th>\n",
       "    </tr>\n",
       "  </thead>\n",
       "  <tbody>\n",
       "    <tr>\n",
       "      <th>0</th>\n",
       "      <td>0</td>\n",
       "      <td>5</td>\n",
       "      <td>5037</td>\n",
       "    </tr>\n",
       "    <tr>\n",
       "      <th>1</th>\n",
       "      <td>1</td>\n",
       "      <td>5</td>\n",
       "      <td>5320</td>\n",
       "    </tr>\n",
       "    <tr>\n",
       "      <th>2</th>\n",
       "      <td>2</td>\n",
       "      <td>5</td>\n",
       "      <td>5233</td>\n",
       "    </tr>\n",
       "    <tr>\n",
       "      <th>3</th>\n",
       "      <td>3</td>\n",
       "      <td>5</td>\n",
       "      <td>5232</td>\n",
       "    </tr>\n",
       "    <tr>\n",
       "      <th>4</th>\n",
       "      <td>4</td>\n",
       "      <td>5</td>\n",
       "      <td>5268</td>\n",
       "    </tr>\n",
       "  </tbody>\n",
       "</table>\n",
       "</div>"
      ],
      "text/plain": [
       "   ID  shop_id  item_id\n",
       "0   0        5     5037\n",
       "1   1        5     5320\n",
       "2   2        5     5233\n",
       "3   3        5     5232\n",
       "4   4        5     5268"
      ]
     },
     "execution_count": 167,
     "metadata": {},
     "output_type": "execute_result"
    }
   ],
   "source": [
    "test = pd.read_csv('./test.csv')\n",
    "test.head()"
   ]
  },
  {
   "cell_type": "code",
   "execution_count": 168,
   "id": "cfb9317c-a85b-43c1-b78b-e286f945719b",
   "metadata": {},
   "outputs": [],
   "source": [
    "data = df_train.copy()"
   ]
  },
  {
   "cell_type": "code",
   "execution_count": 169,
   "id": "f18a20a7-bd1c-48f4-98b4-6945e27d197d",
   "metadata": {},
   "outputs": [],
   "source": [
    "# data"
   ]
  },
  {
   "cell_type": "code",
   "execution_count": 170,
   "id": "0e5b3f6b-3b3a-40fe-baf9-79a92a20a87e",
   "metadata": {},
   "outputs": [],
   "source": [
    "data = data.drop(['shop_name', 'item_name_translated', 'item_category_name'], axis=1)\n",
    "# 해당 컬럼들은 각 id컬럼과 1대1 매칭이므로 둘 중 하나는 제거"
   ]
  },
  {
   "cell_type": "code",
   "execution_count": 171,
   "id": "e14fbdf4-5241-4c7b-b1d4-fabe8b079da7",
   "metadata": {},
   "outputs": [
    {
     "data": {
      "image/png": "[encoded data removed]",
      "text/plain": [
       "<Figure size 640x480 with 1 Axes>"
      ]
     },
     "metadata": {},
     "output_type": "display_data"
    }
   ],
   "source": [
    "import seaborn as sns\n",
    "import matplotlib as mpl\n",
    "import matplotlib.pyplot as plt\n",
    "%matplotlib inline\n",
    "\n",
    "sns.boxplot(y='item_cnt_day', data=data);\n",
    "plt.show()"
   ]
  },
  {
   "cell_type": "code",
   "execution_count": 172,
   "id": "a10734be-91e7-4d2c-b682-269f2d425ad3",
   "metadata": {},
   "outputs": [
    {
     "data": {
      "image/png": "[encoded data removed]",
      "text/plain": [
       "<Figure size 640x480 with 1 Axes>"
      ]
     },
     "metadata": {},
     "output_type": "display_data"
    }
   ],
   "source": [
    "sns.boxplot(y='item_price', data=data);\n",
    "plt.show()"
   ]
  },
  {
   "cell_type": "markdown",
   "id": "8225a0ae-adba-4b71-9cd0-96cec9cfda47",
   "metadata": {},
   "source": [
    "### 이상치 제거"
   ]
  },
  {
   "cell_type": "code",
   "execution_count": 173,
   "id": "0df712de-94ed-4f05-a3af-c5942a6f8367",
   "metadata": {},
   "outputs": [
    {
     "name": "stdout",
     "output_type": "stream",
     "text": [
      "(2935840, 18)\n"
     ]
    }
   ],
   "source": [
    "# 이상치 조건에 해당하는 행들 인덱스 추출\n",
    "outlier_condition = (data['item_cnt_day'] >= 1000) | (data['item_price'] >= 100000)\n",
    "\n",
    "# 이상치가 아닌 데이터만 필터링\n",
    "data_cleaned = data[~outlier_condition].copy()\n",
    "\n",
    "# 결과 확인 (이상치 제거 후)\n",
    "print(data_cleaned.shape)"
   ]
  },
  {
   "cell_type": "code",
   "execution_count": 174,
   "id": "1e637e1b-79f6-4da2-8ec2-75505cb21727",
   "metadata": {
    "scrolled": true
   },
   "outputs": [
    {
     "data": {
      "text/plain": [
       "date                0\n",
       "date_block_num      0\n",
       "shop_id             0\n",
       "item_id             0\n",
       "item_price          0\n",
       "item_cnt_day        0\n",
       "item_category_id    0\n",
       "shop_grade          0\n",
       "holiday             0\n",
       "weekend             0\n",
       "city                0\n",
       "sub_category        0\n",
       "rub_amount          0\n",
       "krw_amount          0\n",
       "year                0\n",
       "month               0\n",
       "day                 0\n",
       "year_month          0\n",
       "dtype: int64"
      ]
     },
     "execution_count": 174,
     "metadata": {},
     "output_type": "execute_result"
    }
   ],
   "source": [
    "data_cleaned.isna().sum()"
   ]
  },
  {
   "cell_type": "code",
   "execution_count": 175,
   "id": "5ed3f825-4945-4f3c-bf82-65fa80845225",
   "metadata": {},
   "outputs": [
    {
     "data": {
      "text/html": [
       "<div>\n",
       "<style scoped>\n",
       "    .dataframe tbody tr th:only-of-type {\n",
       "        vertical-align: middle;\n",
       "    }\n",
       "\n",
       "    .dataframe tbody tr th {\n",
       "        vertical-align: top;\n",
       "    }\n",
       "\n",
       "    .dataframe thead th {\n",
       "        text-align: right;\n",
       "    }\n",
       "</style>\n",
       "<table border=\"1\" class=\"dataframe\">\n",
       "  <thead>\n",
       "    <tr style=\"text-align: right;\">\n",
       "      <th></th>\n",
       "      <th>date_block_num</th>\n",
       "      <th>item_cnt_day</th>\n",
       "    </tr>\n",
       "  </thead>\n",
       "  <tbody>\n",
       "    <tr>\n",
       "      <th>0</th>\n",
       "      <td>0</td>\n",
       "      <td>131478.0</td>\n",
       "    </tr>\n",
       "    <tr>\n",
       "      <th>1</th>\n",
       "      <td>1</td>\n",
       "      <td>128090.0</td>\n",
       "    </tr>\n",
       "    <tr>\n",
       "      <th>2</th>\n",
       "      <td>2</td>\n",
       "      <td>147142.0</td>\n",
       "    </tr>\n",
       "    <tr>\n",
       "      <th>3</th>\n",
       "      <td>3</td>\n",
       "      <td>107190.0</td>\n",
       "    </tr>\n",
       "    <tr>\n",
       "      <th>4</th>\n",
       "      <td>4</td>\n",
       "      <td>106970.0</td>\n",
       "    </tr>\n",
       "    <tr>\n",
       "      <th>5</th>\n",
       "      <td>5</td>\n",
       "      <td>125381.0</td>\n",
       "    </tr>\n",
       "    <tr>\n",
       "      <th>6</th>\n",
       "      <td>6</td>\n",
       "      <td>116966.0</td>\n",
       "    </tr>\n",
       "    <tr>\n",
       "      <th>7</th>\n",
       "      <td>7</td>\n",
       "      <td>125291.0</td>\n",
       "    </tr>\n",
       "    <tr>\n",
       "      <th>8</th>\n",
       "      <td>8</td>\n",
       "      <td>133332.0</td>\n",
       "    </tr>\n",
       "    <tr>\n",
       "      <th>9</th>\n",
       "      <td>9</td>\n",
       "      <td>127541.0</td>\n",
       "    </tr>\n",
       "    <tr>\n",
       "      <th>10</th>\n",
       "      <td>10</td>\n",
       "      <td>130009.0</td>\n",
       "    </tr>\n",
       "    <tr>\n",
       "      <th>11</th>\n",
       "      <td>11</td>\n",
       "      <td>183341.0</td>\n",
       "    </tr>\n",
       "    <tr>\n",
       "      <th>12</th>\n",
       "      <td>12</td>\n",
       "      <td>116899.0</td>\n",
       "    </tr>\n",
       "    <tr>\n",
       "      <th>13</th>\n",
       "      <td>13</td>\n",
       "      <td>109686.0</td>\n",
       "    </tr>\n",
       "    <tr>\n",
       "      <th>14</th>\n",
       "      <td>14</td>\n",
       "      <td>115296.0</td>\n",
       "    </tr>\n",
       "    <tr>\n",
       "      <th>15</th>\n",
       "      <td>15</td>\n",
       "      <td>96556.0</td>\n",
       "    </tr>\n",
       "    <tr>\n",
       "      <th>16</th>\n",
       "      <td>16</td>\n",
       "      <td>97789.0</td>\n",
       "    </tr>\n",
       "    <tr>\n",
       "      <th>17</th>\n",
       "      <td>17</td>\n",
       "      <td>97429.0</td>\n",
       "    </tr>\n",
       "    <tr>\n",
       "      <th>18</th>\n",
       "      <td>18</td>\n",
       "      <td>91279.0</td>\n",
       "    </tr>\n",
       "    <tr>\n",
       "      <th>19</th>\n",
       "      <td>19</td>\n",
       "      <td>102721.0</td>\n",
       "    </tr>\n",
       "    <tr>\n",
       "      <th>20</th>\n",
       "      <td>20</td>\n",
       "      <td>99208.0</td>\n",
       "    </tr>\n",
       "    <tr>\n",
       "      <th>21</th>\n",
       "      <td>21</td>\n",
       "      <td>107422.0</td>\n",
       "    </tr>\n",
       "    <tr>\n",
       "      <th>22</th>\n",
       "      <td>22</td>\n",
       "      <td>117845.0</td>\n",
       "    </tr>\n",
       "    <tr>\n",
       "      <th>23</th>\n",
       "      <td>23</td>\n",
       "      <td>168754.0</td>\n",
       "    </tr>\n",
       "    <tr>\n",
       "      <th>24</th>\n",
       "      <td>24</td>\n",
       "      <td>109971.0</td>\n",
       "    </tr>\n",
       "    <tr>\n",
       "      <th>25</th>\n",
       "      <td>25</td>\n",
       "      <td>84198.0</td>\n",
       "    </tr>\n",
       "    <tr>\n",
       "      <th>26</th>\n",
       "      <td>26</td>\n",
       "      <td>82014.0</td>\n",
       "    </tr>\n",
       "    <tr>\n",
       "      <th>27</th>\n",
       "      <td>27</td>\n",
       "      <td>77827.0</td>\n",
       "    </tr>\n",
       "    <tr>\n",
       "      <th>28</th>\n",
       "      <td>28</td>\n",
       "      <td>72295.0</td>\n",
       "    </tr>\n",
       "    <tr>\n",
       "      <th>29</th>\n",
       "      <td>29</td>\n",
       "      <td>64114.0</td>\n",
       "    </tr>\n",
       "    <tr>\n",
       "      <th>30</th>\n",
       "      <td>30</td>\n",
       "      <td>63187.0</td>\n",
       "    </tr>\n",
       "    <tr>\n",
       "      <th>31</th>\n",
       "      <td>31</td>\n",
       "      <td>66079.0</td>\n",
       "    </tr>\n",
       "    <tr>\n",
       "      <th>32</th>\n",
       "      <td>32</td>\n",
       "      <td>72843.0</td>\n",
       "    </tr>\n",
       "    <tr>\n",
       "      <th>33</th>\n",
       "      <td>33</td>\n",
       "      <td>68887.0</td>\n",
       "    </tr>\n",
       "  </tbody>\n",
       "</table>\n",
       "</div>"
      ],
      "text/plain": [
       "    date_block_num  item_cnt_day\n",
       "0                0      131478.0\n",
       "1                1      128090.0\n",
       "2                2      147142.0\n",
       "3                3      107190.0\n",
       "4                4      106970.0\n",
       "5                5      125381.0\n",
       "6                6      116966.0\n",
       "7                7      125291.0\n",
       "8                8      133332.0\n",
       "9                9      127541.0\n",
       "10              10      130009.0\n",
       "11              11      183341.0\n",
       "12              12      116899.0\n",
       "13              13      109686.0\n",
       "14              14      115296.0\n",
       "15              15       96556.0\n",
       "16              16       97789.0\n",
       "17              17       97429.0\n",
       "18              18       91279.0\n",
       "19              19      102721.0\n",
       "20              20       99208.0\n",
       "21              21      107422.0\n",
       "22              22      117845.0\n",
       "23              23      168754.0\n",
       "24              24      109971.0\n",
       "25              25       84198.0\n",
       "26              26       82014.0\n",
       "27              27       77827.0\n",
       "28              28       72295.0\n",
       "29              29       64114.0\n",
       "30              30       63187.0\n",
       "31              31       66079.0\n",
       "32              32       72843.0\n",
       "33              33       68887.0"
      ]
     },
     "execution_count": 175,
     "metadata": {},
     "output_type": "execute_result"
    }
   ],
   "source": [
    "# 그룹화하여 월별 월간 판매량\n",
    "group = data_cleaned.groupby('date_block_num').agg({'item_cnt_day': 'sum'})\n",
    "group.reset_index() # 인덱스 재설정"
   ]
  },
  {
   "cell_type": "code",
   "execution_count": 176,
   "id": "06ce9199-a732-46e9-a864-28ed4f68a469",
   "metadata": {},
   "outputs": [
    {
     "data": {
      "text/html": [
       "<div>\n",
       "<style scoped>\n",
       "    .dataframe tbody tr th:only-of-type {\n",
       "        vertical-align: middle;\n",
       "    }\n",
       "\n",
       "    .dataframe tbody tr th {\n",
       "        vertical-align: top;\n",
       "    }\n",
       "\n",
       "    .dataframe thead th {\n",
       "        text-align: right;\n",
       "    }\n",
       "</style>\n",
       "<table border=\"1\" class=\"dataframe\">\n",
       "  <thead>\n",
       "    <tr style=\"text-align: right;\">\n",
       "      <th></th>\n",
       "      <th>date_block_num</th>\n",
       "      <th>shop_id</th>\n",
       "      <th>item_id</th>\n",
       "    </tr>\n",
       "  </thead>\n",
       "  <tbody>\n",
       "    <tr>\n",
       "      <th>0</th>\n",
       "      <td>0</td>\n",
       "      <td>59</td>\n",
       "      <td>22154</td>\n",
       "    </tr>\n",
       "    <tr>\n",
       "      <th>1</th>\n",
       "      <td>0</td>\n",
       "      <td>59</td>\n",
       "      <td>2552</td>\n",
       "    </tr>\n",
       "    <tr>\n",
       "      <th>2</th>\n",
       "      <td>0</td>\n",
       "      <td>59</td>\n",
       "      <td>2554</td>\n",
       "    </tr>\n",
       "    <tr>\n",
       "      <th>3</th>\n",
       "      <td>0</td>\n",
       "      <td>59</td>\n",
       "      <td>2555</td>\n",
       "    </tr>\n",
       "    <tr>\n",
       "      <th>4</th>\n",
       "      <td>0</td>\n",
       "      <td>59</td>\n",
       "      <td>2564</td>\n",
       "    </tr>\n",
       "    <tr>\n",
       "      <th>...</th>\n",
       "      <td>...</td>\n",
       "      <td>...</td>\n",
       "      <td>...</td>\n",
       "    </tr>\n",
       "    <tr>\n",
       "      <th>10913799</th>\n",
       "      <td>33</td>\n",
       "      <td>21</td>\n",
       "      <td>7635</td>\n",
       "    </tr>\n",
       "    <tr>\n",
       "      <th>10913800</th>\n",
       "      <td>33</td>\n",
       "      <td>21</td>\n",
       "      <td>7638</td>\n",
       "    </tr>\n",
       "    <tr>\n",
       "      <th>10913801</th>\n",
       "      <td>33</td>\n",
       "      <td>21</td>\n",
       "      <td>7640</td>\n",
       "    </tr>\n",
       "    <tr>\n",
       "      <th>10913802</th>\n",
       "      <td>33</td>\n",
       "      <td>21</td>\n",
       "      <td>7632</td>\n",
       "    </tr>\n",
       "    <tr>\n",
       "      <th>10913803</th>\n",
       "      <td>33</td>\n",
       "      <td>21</td>\n",
       "      <td>7440</td>\n",
       "    </tr>\n",
       "  </tbody>\n",
       "</table>\n",
       "<p>10913804 rows × 3 columns</p>\n",
       "</div>"
      ],
      "text/plain": [
       "          date_block_num  shop_id  item_id\n",
       "0                      0       59    22154\n",
       "1                      0       59     2552\n",
       "2                      0       59     2554\n",
       "3                      0       59     2555\n",
       "4                      0       59     2564\n",
       "...                  ...      ...      ...\n",
       "10913799              33       21     7635\n",
       "10913800              33       21     7638\n",
       "10913801              33       21     7640\n",
       "10913802              33       21     7632\n",
       "10913803              33       21     7440\n",
       "\n",
       "[10913804 rows x 3 columns]"
      ]
     },
     "execution_count": 176,
     "metadata": {},
     "output_type": "execute_result"
    }
   ],
   "source": [
    "from itertools import product\n",
    "\n",
    "train = []\n",
    "# 월ID, 상점ID, 상품ID 조합 생성 \n",
    "for i in data_cleaned['date_block_num'].unique():\n",
    "    all_shop = data_cleaned.loc[data_cleaned['date_block_num']==i, 'shop_id'].unique()\n",
    "    all_item = data_cleaned.loc[data_cleaned['date_block_num']==i, 'item_id'].unique()\n",
    "    train.append(np.array(list(product([i], all_shop, all_item))))\n",
    "\n",
    "idx_features = ['date_block_num', 'shop_id', 'item_id'] # 기준 피처\n",
    "# 리스트 타입인 train을 DataFrame 타입으로 변환 \n",
    "train = pd.DataFrame(np.vstack(train), columns=idx_features)\n",
    "\n",
    "train"
   ]
  },
  {
   "cell_type": "markdown",
   "id": "c9591348-759b-40e9-9727-a40d742fe8df",
   "metadata": {},
   "source": [
    "### Feature Engineering 타깃값 추가 (월간 판매량)"
   ]
  },
  {
   "cell_type": "code",
   "execution_count": 177,
   "id": "926eeab3-93c0-46ef-b171-aa5d05ca4682",
   "metadata": {},
   "outputs": [
    {
     "data": {
      "text/html": [
       "<div>\n",
       "<style scoped>\n",
       "    .dataframe tbody tr th:only-of-type {\n",
       "        vertical-align: middle;\n",
       "    }\n",
       "\n",
       "    .dataframe tbody tr th {\n",
       "        vertical-align: top;\n",
       "    }\n",
       "\n",
       "    .dataframe thead th {\n",
       "        text-align: right;\n",
       "    }\n",
       "</style>\n",
       "<table border=\"1\" class=\"dataframe\">\n",
       "  <thead>\n",
       "    <tr style=\"text-align: right;\">\n",
       "      <th></th>\n",
       "      <th>date_block_num</th>\n",
       "      <th>shop_id</th>\n",
       "      <th>item_id</th>\n",
       "      <th>item_cnt_monthly</th>\n",
       "    </tr>\n",
       "  </thead>\n",
       "  <tbody>\n",
       "    <tr>\n",
       "      <th>0</th>\n",
       "      <td>0</td>\n",
       "      <td>0</td>\n",
       "      <td>32</td>\n",
       "      <td>6.0</td>\n",
       "    </tr>\n",
       "    <tr>\n",
       "      <th>1</th>\n",
       "      <td>0</td>\n",
       "      <td>0</td>\n",
       "      <td>33</td>\n",
       "      <td>3.0</td>\n",
       "    </tr>\n",
       "    <tr>\n",
       "      <th>2</th>\n",
       "      <td>0</td>\n",
       "      <td>0</td>\n",
       "      <td>35</td>\n",
       "      <td>1.0</td>\n",
       "    </tr>\n",
       "    <tr>\n",
       "      <th>3</th>\n",
       "      <td>0</td>\n",
       "      <td>0</td>\n",
       "      <td>43</td>\n",
       "      <td>1.0</td>\n",
       "    </tr>\n",
       "    <tr>\n",
       "      <th>4</th>\n",
       "      <td>0</td>\n",
       "      <td>0</td>\n",
       "      <td>51</td>\n",
       "      <td>2.0</td>\n",
       "    </tr>\n",
       "    <tr>\n",
       "      <th>...</th>\n",
       "      <td>...</td>\n",
       "      <td>...</td>\n",
       "      <td>...</td>\n",
       "      <td>...</td>\n",
       "    </tr>\n",
       "    <tr>\n",
       "      <th>1609117</th>\n",
       "      <td>33</td>\n",
       "      <td>59</td>\n",
       "      <td>22087</td>\n",
       "      <td>6.0</td>\n",
       "    </tr>\n",
       "    <tr>\n",
       "      <th>1609118</th>\n",
       "      <td>33</td>\n",
       "      <td>59</td>\n",
       "      <td>22088</td>\n",
       "      <td>2.0</td>\n",
       "    </tr>\n",
       "    <tr>\n",
       "      <th>1609119</th>\n",
       "      <td>33</td>\n",
       "      <td>59</td>\n",
       "      <td>22091</td>\n",
       "      <td>1.0</td>\n",
       "    </tr>\n",
       "    <tr>\n",
       "      <th>1609120</th>\n",
       "      <td>33</td>\n",
       "      <td>59</td>\n",
       "      <td>22100</td>\n",
       "      <td>1.0</td>\n",
       "    </tr>\n",
       "    <tr>\n",
       "      <th>1609121</th>\n",
       "      <td>33</td>\n",
       "      <td>59</td>\n",
       "      <td>22102</td>\n",
       "      <td>1.0</td>\n",
       "    </tr>\n",
       "  </tbody>\n",
       "</table>\n",
       "<p>1609122 rows × 4 columns</p>\n",
       "</div>"
      ],
      "text/plain": [
       "         date_block_num  shop_id  item_id  item_cnt_monthly\n",
       "0                     0        0       32               6.0\n",
       "1                     0        0       33               3.0\n",
       "2                     0        0       35               1.0\n",
       "3                     0        0       43               1.0\n",
       "4                     0        0       51               2.0\n",
       "...                 ...      ...      ...               ...\n",
       "1609117              33       59    22087               6.0\n",
       "1609118              33       59    22088               2.0\n",
       "1609119              33       59    22091               1.0\n",
       "1609120              33       59    22100               1.0\n",
       "1609121              33       59    22102               1.0\n",
       "\n",
       "[1609122 rows x 4 columns]"
      ]
     },
     "execution_count": 177,
     "metadata": {},
     "output_type": "execute_result"
    }
   ],
   "source": [
    "# idx_features를 기준으로 그룹화해 판매량 합 구하기 \n",
    "group = data_cleaned.groupby(idx_features).agg({'item_cnt_day': 'sum'})\n",
    "# 인덱스 재설정\n",
    "group = group.reset_index()\n",
    "# 피처명을 '판매량'에서 '월간 판매량'으로 변경\n",
    "group = group.rename(columns={'item_cnt_day': 'item_cnt_monthly'})\n",
    "\n",
    "group"
   ]
  },
  {
   "cell_type": "code",
   "execution_count": 178,
   "id": "d37a2146-9858-4c4e-b58e-02977d86183c",
   "metadata": {},
   "outputs": [
    {
     "data": {
      "text/html": [
       "<div>\n",
       "<style scoped>\n",
       "    .dataframe tbody tr th:only-of-type {\n",
       "        vertical-align: middle;\n",
       "    }\n",
       "\n",
       "    .dataframe tbody tr th {\n",
       "        vertical-align: top;\n",
       "    }\n",
       "\n",
       "    .dataframe thead th {\n",
       "        text-align: right;\n",
       "    }\n",
       "</style>\n",
       "<table border=\"1\" class=\"dataframe\">\n",
       "  <thead>\n",
       "    <tr style=\"text-align: right;\">\n",
       "      <th></th>\n",
       "      <th>date_block_num</th>\n",
       "      <th>shop_id</th>\n",
       "      <th>item_id</th>\n",
       "      <th>item_cnt_monthly</th>\n",
       "    </tr>\n",
       "  </thead>\n",
       "  <tbody>\n",
       "    <tr>\n",
       "      <th>0</th>\n",
       "      <td>0</td>\n",
       "      <td>59</td>\n",
       "      <td>22154</td>\n",
       "      <td>1.0</td>\n",
       "    </tr>\n",
       "    <tr>\n",
       "      <th>1</th>\n",
       "      <td>0</td>\n",
       "      <td>59</td>\n",
       "      <td>2552</td>\n",
       "      <td>NaN</td>\n",
       "    </tr>\n",
       "    <tr>\n",
       "      <th>2</th>\n",
       "      <td>0</td>\n",
       "      <td>59</td>\n",
       "      <td>2554</td>\n",
       "      <td>NaN</td>\n",
       "    </tr>\n",
       "    <tr>\n",
       "      <th>3</th>\n",
       "      <td>0</td>\n",
       "      <td>59</td>\n",
       "      <td>2555</td>\n",
       "      <td>NaN</td>\n",
       "    </tr>\n",
       "    <tr>\n",
       "      <th>4</th>\n",
       "      <td>0</td>\n",
       "      <td>59</td>\n",
       "      <td>2564</td>\n",
       "      <td>NaN</td>\n",
       "    </tr>\n",
       "    <tr>\n",
       "      <th>...</th>\n",
       "      <td>...</td>\n",
       "      <td>...</td>\n",
       "      <td>...</td>\n",
       "      <td>...</td>\n",
       "    </tr>\n",
       "    <tr>\n",
       "      <th>10913799</th>\n",
       "      <td>33</td>\n",
       "      <td>21</td>\n",
       "      <td>7635</td>\n",
       "      <td>NaN</td>\n",
       "    </tr>\n",
       "    <tr>\n",
       "      <th>10913800</th>\n",
       "      <td>33</td>\n",
       "      <td>21</td>\n",
       "      <td>7638</td>\n",
       "      <td>NaN</td>\n",
       "    </tr>\n",
       "    <tr>\n",
       "      <th>10913801</th>\n",
       "      <td>33</td>\n",
       "      <td>21</td>\n",
       "      <td>7640</td>\n",
       "      <td>NaN</td>\n",
       "    </tr>\n",
       "    <tr>\n",
       "      <th>10913802</th>\n",
       "      <td>33</td>\n",
       "      <td>21</td>\n",
       "      <td>7632</td>\n",
       "      <td>NaN</td>\n",
       "    </tr>\n",
       "    <tr>\n",
       "      <th>10913803</th>\n",
       "      <td>33</td>\n",
       "      <td>21</td>\n",
       "      <td>7440</td>\n",
       "      <td>NaN</td>\n",
       "    </tr>\n",
       "  </tbody>\n",
       "</table>\n",
       "<p>10913804 rows × 4 columns</p>\n",
       "</div>"
      ],
      "text/plain": [
       "          date_block_num  shop_id  item_id  item_cnt_monthly\n",
       "0                      0       59    22154               1.0\n",
       "1                      0       59     2552               NaN\n",
       "2                      0       59     2554               NaN\n",
       "3                      0       59     2555               NaN\n",
       "4                      0       59     2564               NaN\n",
       "...                  ...      ...      ...               ...\n",
       "10913799              33       21     7635               NaN\n",
       "10913800              33       21     7638               NaN\n",
       "10913801              33       21     7640               NaN\n",
       "10913802              33       21     7632               NaN\n",
       "10913803              33       21     7440               NaN\n",
       "\n",
       "[10913804 rows x 4 columns]"
      ]
     },
     "execution_count": 178,
     "metadata": {},
     "output_type": "execute_result"
    }
   ],
   "source": [
    "# train과 group 병합하기\n",
    "train = train.merge(group, on=idx_features, how='left')\n",
    "\n",
    "train"
   ]
  },
  {
   "cell_type": "code",
   "execution_count": 179,
   "id": "447bebfe-4ca8-4eea-a7a0-4491b1ad3c7a",
   "metadata": {},
   "outputs": [],
   "source": [
    "import gc # 가비지 컬렉터 불러오기\n",
    "\n",
    "del group # 더는 사용하지 않는 변수 지정\n",
    "gc.collect(); # 가비지 컬렉션 수행"
   ]
  },
  {
   "cell_type": "markdown",
   "id": "0f1e512e-103a-4865-a6a3-d0a1e78f2478",
   "metadata": {},
   "source": [
    "### Feature Engineering test data 이어붙이기\n",
    "train data의 월ID는 0~33으로 마지막이 2015년 10월인데, test data는 2015년 11월이므로 월ID feature를 34로 설정한다.  \n",
    "test data에서 식별자 역할을 하는 ID를 제외하고 test data를 train data와 merge"
   ]
  },
  {
   "cell_type": "code",
   "execution_count": 180,
   "id": "ff88ba87-977a-4b0b-a5b5-17ced86a8148",
   "metadata": {},
   "outputs": [
    {
     "data": {
      "text/html": [
       "<div>\n",
       "<style scoped>\n",
       "    .dataframe tbody tr th:only-of-type {\n",
       "        vertical-align: middle;\n",
       "    }\n",
       "\n",
       "    .dataframe tbody tr th {\n",
       "        vertical-align: top;\n",
       "    }\n",
       "\n",
       "    .dataframe thead th {\n",
       "        text-align: right;\n",
       "    }\n",
       "</style>\n",
       "<table border=\"1\" class=\"dataframe\">\n",
       "  <thead>\n",
       "    <tr style=\"text-align: right;\">\n",
       "      <th></th>\n",
       "      <th>date_block_num</th>\n",
       "      <th>shop_id</th>\n",
       "      <th>item_id</th>\n",
       "      <th>item_cnt_monthly</th>\n",
       "    </tr>\n",
       "  </thead>\n",
       "  <tbody>\n",
       "    <tr>\n",
       "      <th>0</th>\n",
       "      <td>0</td>\n",
       "      <td>59</td>\n",
       "      <td>22154</td>\n",
       "      <td>1.0</td>\n",
       "    </tr>\n",
       "    <tr>\n",
       "      <th>1</th>\n",
       "      <td>0</td>\n",
       "      <td>59</td>\n",
       "      <td>2552</td>\n",
       "      <td>0.0</td>\n",
       "    </tr>\n",
       "    <tr>\n",
       "      <th>2</th>\n",
       "      <td>0</td>\n",
       "      <td>59</td>\n",
       "      <td>2554</td>\n",
       "      <td>0.0</td>\n",
       "    </tr>\n",
       "    <tr>\n",
       "      <th>3</th>\n",
       "      <td>0</td>\n",
       "      <td>59</td>\n",
       "      <td>2555</td>\n",
       "      <td>0.0</td>\n",
       "    </tr>\n",
       "    <tr>\n",
       "      <th>4</th>\n",
       "      <td>0</td>\n",
       "      <td>59</td>\n",
       "      <td>2564</td>\n",
       "      <td>0.0</td>\n",
       "    </tr>\n",
       "  </tbody>\n",
       "</table>\n",
       "</div>"
      ],
      "text/plain": [
       "   date_block_num  shop_id  item_id  item_cnt_monthly\n",
       "0               0       59    22154               1.0\n",
       "1               0       59     2552               0.0\n",
       "2               0       59     2554               0.0\n",
       "3               0       59     2555               0.0\n",
       "4               0       59     2564               0.0"
      ]
     },
     "execution_count": 180,
     "metadata": {},
     "output_type": "execute_result"
    }
   ],
   "source": [
    "test['date_block_num'] = 34  # 2015년 11월 예측 대상 월 번호\n",
    "\n",
    "all_data = pd.concat([train, test.drop('ID', axis=1)],\n",
    "                     ignore_index=True, \n",
    "                     keys=idx_features) # 이어붙이는 기준이 되는 피처\n",
    "\n",
    "# 결측값 0으로 채우기\n",
    "all_data = all_data.fillna(0)\n",
    "\n",
    "all_data.head()"
   ]
  },
  {
   "cell_type": "markdown",
   "id": "f55f553e-0a60-44e4-996b-dff50500f3af",
   "metadata": {},
   "source": [
    "### Feature Engineering 나머지 데이터 병합 (최종 데이터 생성)"
   ]
  },
  {
   "cell_type": "code",
   "execution_count": 181,
   "id": "6ee4c65e-5b84-4b04-9422-d4f30ed52646",
   "metadata": {},
   "outputs": [
    {
     "data": {
      "text/html": [
       "<div>\n",
       "<style scoped>\n",
       "    .dataframe tbody tr th:only-of-type {\n",
       "        vertical-align: middle;\n",
       "    }\n",
       "\n",
       "    .dataframe tbody tr th {\n",
       "        vertical-align: top;\n",
       "    }\n",
       "\n",
       "    .dataframe thead th {\n",
       "        text-align: right;\n",
       "    }\n",
       "</style>\n",
       "<table border=\"1\" class=\"dataframe\">\n",
       "  <thead>\n",
       "    <tr style=\"text-align: right;\">\n",
       "      <th></th>\n",
       "      <th>date_block_num</th>\n",
       "      <th>shop_id</th>\n",
       "      <th>item_id</th>\n",
       "      <th>item_cnt_monthly</th>\n",
       "    </tr>\n",
       "  </thead>\n",
       "  <tbody>\n",
       "    <tr>\n",
       "      <th>0</th>\n",
       "      <td>0</td>\n",
       "      <td>59</td>\n",
       "      <td>22154</td>\n",
       "      <td>1.0</td>\n",
       "    </tr>\n",
       "    <tr>\n",
       "      <th>1</th>\n",
       "      <td>0</td>\n",
       "      <td>59</td>\n",
       "      <td>2552</td>\n",
       "      <td>0.0</td>\n",
       "    </tr>\n",
       "    <tr>\n",
       "      <th>2</th>\n",
       "      <td>0</td>\n",
       "      <td>59</td>\n",
       "      <td>2554</td>\n",
       "      <td>0.0</td>\n",
       "    </tr>\n",
       "    <tr>\n",
       "      <th>3</th>\n",
       "      <td>0</td>\n",
       "      <td>59</td>\n",
       "      <td>2555</td>\n",
       "      <td>0.0</td>\n",
       "    </tr>\n",
       "    <tr>\n",
       "      <th>4</th>\n",
       "      <td>0</td>\n",
       "      <td>59</td>\n",
       "      <td>2564</td>\n",
       "      <td>0.0</td>\n",
       "    </tr>\n",
       "    <tr>\n",
       "      <th>...</th>\n",
       "      <td>...</td>\n",
       "      <td>...</td>\n",
       "      <td>...</td>\n",
       "      <td>...</td>\n",
       "    </tr>\n",
       "    <tr>\n",
       "      <th>11127999</th>\n",
       "      <td>34</td>\n",
       "      <td>45</td>\n",
       "      <td>18454</td>\n",
       "      <td>0.0</td>\n",
       "    </tr>\n",
       "    <tr>\n",
       "      <th>11128000</th>\n",
       "      <td>34</td>\n",
       "      <td>45</td>\n",
       "      <td>16188</td>\n",
       "      <td>0.0</td>\n",
       "    </tr>\n",
       "    <tr>\n",
       "      <th>11128001</th>\n",
       "      <td>34</td>\n",
       "      <td>45</td>\n",
       "      <td>15757</td>\n",
       "      <td>0.0</td>\n",
       "    </tr>\n",
       "    <tr>\n",
       "      <th>11128002</th>\n",
       "      <td>34</td>\n",
       "      <td>45</td>\n",
       "      <td>19648</td>\n",
       "      <td>0.0</td>\n",
       "    </tr>\n",
       "    <tr>\n",
       "      <th>11128003</th>\n",
       "      <td>34</td>\n",
       "      <td>45</td>\n",
       "      <td>969</td>\n",
       "      <td>0.0</td>\n",
       "    </tr>\n",
       "  </tbody>\n",
       "</table>\n",
       "<p>11128004 rows × 4 columns</p>\n",
       "</div>"
      ],
      "text/plain": [
       "          date_block_num  shop_id  item_id  item_cnt_monthly\n",
       "0                      0       59    22154               1.0\n",
       "1                      0       59     2552               0.0\n",
       "2                      0       59     2554               0.0\n",
       "3                      0       59     2555               0.0\n",
       "4                      0       59     2564               0.0\n",
       "...                  ...      ...      ...               ...\n",
       "11127999              34       45    18454               0.0\n",
       "11128000              34       45    16188               0.0\n",
       "11128001              34       45    15757               0.0\n",
       "11128002              34       45    19648               0.0\n",
       "11128003              34       45      969               0.0\n",
       "\n",
       "[11128004 rows x 4 columns]"
      ]
     },
     "execution_count": 181,
     "metadata": {},
     "output_type": "execute_result"
    }
   ],
   "source": [
    "all_data"
   ]
  },
  {
   "cell_type": "code",
   "execution_count": 182,
   "id": "7a42f358-aa8f-4f8e-87c5-aa259467952f",
   "metadata": {},
   "outputs": [],
   "source": [
    "import numpy as np\n",
    "import pandas as pd\n",
    "\n",
    "def downcast(df, verbose=True):\n",
    "    start_mem = df.memory_usage().sum() / 1024**2\n",
    "    \n",
    "    for col in df.columns:\n",
    "        dtype = df[col].dtype\n",
    "\n",
    "        if pd.api.types.is_object_dtype(dtype):\n",
    "            # object는 건너뜀\n",
    "            continue\n",
    "        elif pd.api.types.is_bool_dtype(dtype):\n",
    "            df[col] = df[col].astype('int8')\n",
    "        elif pd.api.types.is_integer_dtype(dtype):\n",
    "            df[col] = pd.to_numeric(df[col], downcast='integer')\n",
    "        elif pd.api.types.is_float_dtype(dtype):\n",
    "            # 소수점이 없는 float는 int로 변환\n",
    "            col_non_na = df[col].dropna()\n",
    "            if (col_non_na == col_non_na.astype(int)).all():\n",
    "                df[col] = pd.to_numeric(df[col], downcast='integer')\n",
    "            else:\n",
    "                df[col] = pd.to_numeric(df[col], downcast='float')\n",
    "        else:\n",
    "            # 예: datetime, category 등은 건너뜀\n",
    "            continue\n",
    "\n",
    "    end_mem = df.memory_usage().sum() / 1024**2\n",
    "    if verbose:\n",
    "        print('{:.1f}% 압축됨'.format(100 * (start_mem - end_mem) / start_mem))\n",
    "\n",
    "    return df"
   ]
  },
  {
   "cell_type": "code",
   "execution_count": 183,
   "id": "d1414204-51f1-47eb-84d7-c751ca4422ab",
   "metadata": {},
   "outputs": [
    {
     "name": "stdout",
     "output_type": "stream",
     "text": [
      "38.1% 압축됨\n",
      "26.7% 압축됨\n",
      "54.2% 압축됨\n",
      "39.8% 압축됨\n",
      "75.0% 압축됨\n"
     ]
    }
   ],
   "source": [
    "all_df = [df_train, df_shops, df_items, df_categories, test]\n",
    "for df in all_df:\n",
    "    df = downcast(df)"
   ]
  },
  {
   "cell_type": "code",
   "execution_count": 184,
   "id": "52183c2c-6d8f-4f49-b0a4-ee4c45d06a3b",
   "metadata": {},
   "outputs": [
    {
     "name": "stdout",
     "output_type": "stream",
     "text": [
      "63.4% 압축됨\n"
     ]
    }
   ],
   "source": [
    "all_data = all_data.merge(df_shops, on='shop_id', how='left')\n",
    "all_data = all_data.merge(df_items, on='item_id', how='left')\n",
    "all_data = all_data.merge(df_categories, on='item_category_id', how='left')\n",
    "all_data = all_data.drop(['shop_name', 'item_name_translated', 'item_category_name'], axis=1)\n",
    "# 데이터 다운캐스팅\n",
    "all_data = downcast(all_data)\n",
    "\n",
    "# 가비지 컬렉션\n",
    "del df_shops, df_items, df_categories\n",
    "gc.collect();"
   ]
  },
  {
   "cell_type": "code",
   "execution_count": 185,
   "id": "3e7b5273-6acb-4b21-b61e-da99853f9aed",
   "metadata": {},
   "outputs": [],
   "source": [
    "# 훈련 데이터 (피처)\n",
    "X_train = all_data[all_data['date_block_num'] < 33]\n",
    "X_train = X_train.drop(['item_cnt_monthly'], axis=1)\n",
    "# 검증 데이터 (피처)\n",
    "X_valid = all_data[all_data['date_block_num'] == 33]\n",
    "X_valid = X_valid.drop(['item_cnt_monthly'], axis=1)\n",
    "# 테스트 데이터 (피처)\n",
    "X_test = all_data[all_data['date_block_num'] == 34]\n",
    "X_test = X_test.drop(['item_cnt_monthly'], axis=1)\n",
    "\n",
    "# 훈련 데이터 (타깃값)\n",
    "y_train = all_data[all_data['date_block_num'] < 33]['item_cnt_monthly']\n",
    "y_train = y_train.clip(0, 20) # 타깃값을 0 ~ 20로 제한\n",
    "# 검증 데이터 (타깃값)\n",
    "y_valid = all_data[all_data['date_block_num'] == 33]['item_cnt_monthly']\n",
    "y_valid = y_valid.clip(0, 20)"
   ]
  },
  {
   "cell_type": "markdown",
   "id": "8496e58c-1285-4ee5-889c-f3b7424175c1",
   "metadata": {},
   "source": [
    "학습 데이터 X_train, y_train : 33월 이전 데이터로 학습  \n",
    "검증 데이터 X_valid, y_valid : 33월 데이터로 모델 검증  \n",
    "테스트 데이터 X_test: 34월 데이터로 예측  "
   ]
  },
  {
   "cell_type": "code",
   "execution_count": 186,
   "id": "89353519-3742-4854-8bd3-a107cfa94d79",
   "metadata": {},
   "outputs": [
    {
     "data": {
      "text/plain": [
       "(10675632, 5)"
      ]
     },
     "execution_count": 186,
     "metadata": {},
     "output_type": "execute_result"
    }
   ],
   "source": [
    "X_train.shape"
   ]
  },
  {
   "cell_type": "code",
   "execution_count": 187,
   "id": "a588743b-b4d6-491e-8668-faadf6a4723d",
   "metadata": {},
   "outputs": [
    {
     "data": {
      "text/plain": [
       "(10675632,)"
      ]
     },
     "execution_count": 187,
     "metadata": {},
     "output_type": "execute_result"
    }
   ],
   "source": [
    "y_train.shape"
   ]
  },
  {
   "cell_type": "code",
   "execution_count": 188,
   "id": "157b2e9d-03ad-4048-af47-93c16a8f6a1c",
   "metadata": {},
   "outputs": [
    {
     "data": {
      "text/plain": [
       "(238172, 5)"
      ]
     },
     "execution_count": 188,
     "metadata": {},
     "output_type": "execute_result"
    }
   ],
   "source": [
    "X_valid.shape"
   ]
  },
  {
   "cell_type": "code",
   "execution_count": 189,
   "id": "572cad39-6beb-46f1-8b28-d57b271dbd5c",
   "metadata": {},
   "outputs": [
    {
     "data": {
      "text/plain": [
       "(238172,)"
      ]
     },
     "execution_count": 189,
     "metadata": {},
     "output_type": "execute_result"
    }
   ],
   "source": [
    "y_valid.shape"
   ]
  },
  {
   "cell_type": "code",
   "execution_count": 190,
   "id": "78f5ed40-863e-412d-9894-b78713cb747a",
   "metadata": {},
   "outputs": [],
   "source": [
    "X_train = X_train.drop('shop_grade', axis=1)\n",
    "X_valid = X_valid.drop('shop_grade', axis=1)\n",
    "X_test = X_test.drop('shop_grade', axis=1)"
   ]
  },
  {
   "cell_type": "code",
   "execution_count": 191,
   "id": "71df693e-f976-49dc-9a6c-1f21481e64e4",
   "metadata": {},
   "outputs": [
    {
     "name": "stdout",
     "output_type": "stream",
     "text": [
      "검증 RMSE: 1.1368\n"
     ]
    }
   ],
   "source": [
    "from sklearn.linear_model import LinearRegression\n",
    "from sklearn.metrics import mean_squared_error\n",
    "import numpy as np\n",
    "\n",
    "model = LinearRegression()\n",
    "model.fit(X_train, y_train)\n",
    "\n",
    "y_pred_valid = model.predict(X_valid)\n",
    "y_pred_valid = np.clip(y_pred_valid, 0, 20)\n",
    "mse = mean_squared_error(y_valid, y_pred_valid)\n",
    "rmse = np.sqrt(mse)\n",
    "print(f\"검증 RMSE: {rmse:.4f}\")\n",
    "# y_pred_test = model.predict(X_test)"
   ]
  },
  {
   "cell_type": "code",
   "execution_count": 192,
   "id": "ed76550b-e058-4534-a086-786158571f1e",
   "metadata": {},
   "outputs": [
    {
     "name": "stdout",
     "output_type": "stream",
     "text": [
      "[0.44613277 0.20819708 0.44453035 ... 0.19413805 0.26050265 0.4328497 ]\n"
     ]
    }
   ],
   "source": [
    "y_pred_test = model.predict(X_test)\n",
    "\n",
    "y_pred_test = model.predict(X_test)\n",
    "y_pred_test = np.clip(y_pred_test, 0, 20)\n",
    "\n",
    "print(y_pred_test)"
   ]
  },
  {
   "cell_type": "code",
   "execution_count": null,
   "id": "a29a23b8-3f2d-458e-82f8-0709f05477df",
   "metadata": {},
   "outputs": [],
   "source": []
  },
  {
   "cell_type": "markdown",
   "id": "b04a548c-6809-40a8-8134-0e737ffdd75c",
   "metadata": {},
   "source": [
    "## 성능 개선 개별 데이터 피처 엔지니어링"
   ]
  },
  {
   "cell_type": "markdown",
   "id": "0a8ae580-8a86-4f26-8646-3cd5bd62b022",
   "metadata": {},
   "source": [
    "### 이상치 제거 및 전처리"
   ]
  },
  {
   "cell_type": "code",
   "execution_count": 193,
   "id": "26d1599c-06fe-4bee-8b8f-b7c090717759",
   "metadata": {},
   "outputs": [
    {
     "data": {
      "text/html": [
       "<div>\n",
       "<style scoped>\n",
       "    .dataframe tbody tr th:only-of-type {\n",
       "        vertical-align: middle;\n",
       "    }\n",
       "\n",
       "    .dataframe tbody tr th {\n",
       "        vertical-align: top;\n",
       "    }\n",
       "\n",
       "    .dataframe thead th {\n",
       "        text-align: right;\n",
       "    }\n",
       "</style>\n",
       "<table border=\"1\" class=\"dataframe\">\n",
       "  <thead>\n",
       "    <tr style=\"text-align: right;\">\n",
       "      <th></th>\n",
       "      <th>date</th>\n",
       "      <th>date_block_num</th>\n",
       "      <th>shop_id</th>\n",
       "      <th>item_id</th>\n",
       "      <th>item_price</th>\n",
       "      <th>item_cnt_day</th>\n",
       "      <th>item_name_translated</th>\n",
       "      <th>item_category_id</th>\n",
       "      <th>item_category_name</th>\n",
       "      <th>shop_name</th>\n",
       "      <th>shop_grade</th>\n",
       "      <th>holiday</th>\n",
       "      <th>weekend</th>\n",
       "      <th>city</th>\n",
       "      <th>sub_category</th>\n",
       "      <th>rub_amount</th>\n",
       "      <th>krw_amount</th>\n",
       "      <th>year</th>\n",
       "      <th>month</th>\n",
       "      <th>day</th>\n",
       "      <th>year_month</th>\n",
       "    </tr>\n",
       "  </thead>\n",
       "  <tbody>\n",
       "    <tr>\n",
       "      <th>0</th>\n",
       "      <td>2013-01-02</td>\n",
       "      <td>0</td>\n",
       "      <td>59</td>\n",
       "      <td>22154</td>\n",
       "      <td>999.0</td>\n",
       "      <td>1</td>\n",
       "      <td>SCENE 2012 (BD)</td>\n",
       "      <td>37</td>\n",
       "      <td>Cinema - Blu -Ray</td>\n",
       "      <td>Yaroslavl shopping center \"Altair\"</td>\n",
       "      <td>C</td>\n",
       "      <td>1</td>\n",
       "      <td>0</td>\n",
       "      <td>Yaroslavl</td>\n",
       "      <td>Cinema</td>\n",
       "      <td>999.0</td>\n",
       "      <td>17982.0</td>\n",
       "      <td>2013</td>\n",
       "      <td>1</td>\n",
       "      <td>2</td>\n",
       "      <td>2013-01</td>\n",
       "    </tr>\n",
       "    <tr>\n",
       "      <th>1</th>\n",
       "      <td>2013-01-03</td>\n",
       "      <td>0</td>\n",
       "      <td>25</td>\n",
       "      <td>2552</td>\n",
       "      <td>899.0</td>\n",
       "      <td>1</td>\n",
       "      <td>DEEP PURPLE  The House Of Blue Light  LP</td>\n",
       "      <td>58</td>\n",
       "      <td>Music - vinyl</td>\n",
       "      <td>Moscow TRK \"Atrium\"</td>\n",
       "      <td>A</td>\n",
       "      <td>1</td>\n",
       "      <td>0</td>\n",
       "      <td>Moscow</td>\n",
       "      <td>Music</td>\n",
       "      <td>899.0</td>\n",
       "      <td>16182.0</td>\n",
       "      <td>2013</td>\n",
       "      <td>1</td>\n",
       "      <td>3</td>\n",
       "      <td>2013-01</td>\n",
       "    </tr>\n",
       "    <tr>\n",
       "      <th>2</th>\n",
       "      <td>2013-01-05</td>\n",
       "      <td>0</td>\n",
       "      <td>25</td>\n",
       "      <td>2552</td>\n",
       "      <td>899.0</td>\n",
       "      <td>-1</td>\n",
       "      <td>DEEP PURPLE  The House Of Blue Light  LP</td>\n",
       "      <td>58</td>\n",
       "      <td>Music - vinyl</td>\n",
       "      <td>Moscow TRK \"Atrium\"</td>\n",
       "      <td>A</td>\n",
       "      <td>0</td>\n",
       "      <td>1</td>\n",
       "      <td>Moscow</td>\n",
       "      <td>Music</td>\n",
       "      <td>-899.0</td>\n",
       "      <td>-16182.0</td>\n",
       "      <td>2013</td>\n",
       "      <td>1</td>\n",
       "      <td>5</td>\n",
       "      <td>2013-01</td>\n",
       "    </tr>\n",
       "  </tbody>\n",
       "</table>\n",
       "</div>"
      ],
      "text/plain": [
       "        date  date_block_num  shop_id  item_id  item_price  item_cnt_day  \\\n",
       "0 2013-01-02               0       59    22154       999.0             1   \n",
       "1 2013-01-03               0       25     2552       899.0             1   \n",
       "2 2013-01-05               0       25     2552       899.0            -1   \n",
       "\n",
       "                       item_name_translated  item_category_id  \\\n",
       "0                           SCENE 2012 (BD)                37   \n",
       "1  DEEP PURPLE  The House Of Blue Light  LP                58   \n",
       "2  DEEP PURPLE  The House Of Blue Light  LP                58   \n",
       "\n",
       "  item_category_name                           shop_name shop_grade  holiday  \\\n",
       "0  Cinema - Blu -Ray  Yaroslavl shopping center \"Altair\"          C        1   \n",
       "1      Music - vinyl                 Moscow TRK \"Atrium\"          A        1   \n",
       "2      Music - vinyl                 Moscow TRK \"Atrium\"          A        0   \n",
       "\n",
       "   weekend       city sub_category  rub_amount  krw_amount  year  month  day  \\\n",
       "0        0  Yaroslavl       Cinema       999.0     17982.0  2013      1    2   \n",
       "1        0     Moscow        Music       899.0     16182.0  2013      1    3   \n",
       "2        1     Moscow        Music      -899.0    -16182.0  2013      1    5   \n",
       "\n",
       "  year_month  \n",
       "0    2013-01  \n",
       "1    2013-01  \n",
       "2    2013-01  "
      ]
     },
     "execution_count": 193,
     "metadata": {},
     "output_type": "execute_result"
    }
   ],
   "source": [
    "df_train.head(3)"
   ]
  },
  {
   "cell_type": "code",
   "execution_count": 194,
   "id": "804eefe2-5e2b-49a0-8628-46e4df00d5d7",
   "metadata": {},
   "outputs": [],
   "source": [
    "# 판매가가 0보다 큰 데이터 추출\n",
    "df_train = df_train[df_train['item_price'] > 0]\n",
    "# 판매가가 50,000보다 작은 데이터 추출\n",
    "df_train = df_train[df_train['item_price'] < 50000]\n",
    "\n",
    "# 판매량이 0보다 큰 데이터 추출\n",
    "df_train = df_train[df_train['item_cnt_day'] > 0]\n",
    "# 판매량이 1,000보다 작은 데이터 추출\n",
    "df_train = df_train[df_train['item_cnt_day'] < 1000]"
   ]
  },
  {
   "cell_type": "markdown",
   "id": "8f7761fa-e9a7-4237-bb9d-c915dc8cfdfb",
   "metadata": {},
   "source": [
    "상점명을 조금 다르게 기입해서 같은 상점인데 다르게 기록되어 있는 상점이 4쌍 있기에 각 쌍의 상점ID를 수정해준다. 상점명은 어차피 제거할 것이기에 수정하지 않아도 된다. -> 수정하지않음"
   ]
  },
  {
   "cell_type": "markdown",
   "id": "495eb8bc-7584-4699-9454-1b8f6f96880e",
   "metadata": {},
   "source": [
    "### 도시명은 범주형 피처이므로 레이블 인코딩"
   ]
  },
  {
   "cell_type": "code",
   "execution_count": 195,
   "id": "0f3f7174-3de7-429a-968d-ed84d7c0832f",
   "metadata": {},
   "outputs": [],
   "source": [
    "# df_train에서 shop_id와 city 정보만 추출 후 중복 제거\n",
    "shop_city_map = df_train[['shop_id', 'city']].drop_duplicates()\n",
    "\n",
    "# df_shops가 안 불러와지니까 shop_id만 따로 생성한 뒤 병합\n",
    "shops = pd.DataFrame({'shop_id': df_train['shop_id'].unique()})\n",
    "shops = shops.merge(shop_city_map, on='shop_id', how='left')"
   ]
  },
  {
   "cell_type": "code",
   "execution_count": 196,
   "id": "0d4c0635-53c6-4e80-82ba-2d73ec044b81",
   "metadata": {},
   "outputs": [],
   "source": [
    "from sklearn.preprocessing import LabelEncoder\n",
    "\n",
    "# 레이블 인코더 생성\n",
    "label_encoder = LabelEncoder()\n",
    "# 도시 피처 레이블 인코딩\n",
    "shops['city'] = label_encoder.fit_transform(shops['city'])"
   ]
  },
  {
   "cell_type": "code",
   "execution_count": 197,
   "id": "f4c9f53d-7420-4199-9070-ae7e3e468818",
   "metadata": {},
   "outputs": [],
   "source": [
    "# # item_id별 첫 판매 월 추출\n",
    "# first_sales_month = df_train.groupby('item_id', as_index=False)['date_block_num'].min()\n",
    "# first_sales_month.rename(columns={'date_block_num': 'first_sales_month'}, inplace=True)\n",
    "\n",
    "# # 새로운 DataFrame 생성\n",
    "# items = first_sales_month.copy()"
   ]
  },
  {
   "cell_type": "code",
   "execution_count": 198,
   "id": "abec141e-d19d-422d-9ab2-da2066913d9a",
   "metadata": {},
   "outputs": [],
   "source": [
    "# item_id별 첫 판매 월 추출\n",
    "first_sales_month = df_train.groupby('item_id', as_index=False)['date_block_num'].min()\n",
    "first_sales_month.rename(columns={'date_block_num': 'first_sales_month'}, inplace=True)\n",
    "\n",
    "# item_id별 item_category_id 추출 (중복 제거)\n",
    "item_categories = df_train[['item_id', 'item_category_id']].drop_duplicates()\n",
    "items = first_sales_month.copy()"
   ]
  },
  {
   "cell_type": "code",
   "execution_count": 199,
   "id": "33f610d0-8c22-45d2-87a0-8bcf1f25c81f",
   "metadata": {},
   "outputs": [
    {
     "data": {
      "text/html": [
       "<div>\n",
       "<style scoped>\n",
       "    .dataframe tbody tr th:only-of-type {\n",
       "        vertical-align: middle;\n",
       "    }\n",
       "\n",
       "    .dataframe tbody tr th {\n",
       "        vertical-align: top;\n",
       "    }\n",
       "\n",
       "    .dataframe thead th {\n",
       "        text-align: right;\n",
       "    }\n",
       "</style>\n",
       "<table border=\"1\" class=\"dataframe\">\n",
       "  <thead>\n",
       "    <tr style=\"text-align: right;\">\n",
       "      <th></th>\n",
       "      <th>item_id</th>\n",
       "      <th>first_sales_month</th>\n",
       "    </tr>\n",
       "  </thead>\n",
       "  <tbody>\n",
       "    <tr>\n",
       "      <th>0</th>\n",
       "      <td>0</td>\n",
       "      <td>20</td>\n",
       "    </tr>\n",
       "    <tr>\n",
       "      <th>1</th>\n",
       "      <td>1</td>\n",
       "      <td>15</td>\n",
       "    </tr>\n",
       "    <tr>\n",
       "      <th>2</th>\n",
       "      <td>2</td>\n",
       "      <td>19</td>\n",
       "    </tr>\n",
       "  </tbody>\n",
       "</table>\n",
       "</div>"
      ],
      "text/plain": [
       "   item_id  first_sales_month\n",
       "0        0                 20\n",
       "1        1                 15\n",
       "2        2                 19"
      ]
     },
     "execution_count": 199,
     "metadata": {},
     "output_type": "execute_result"
    }
   ],
   "source": [
    "items.head(3)"
   ]
  },
  {
   "cell_type": "code",
   "execution_count": 200,
   "id": "b97616bc-1c76-49d4-9973-7a54ac9708ae",
   "metadata": {},
   "outputs": [
    {
     "data": {
      "text/plain": [
       "0"
      ]
     },
     "execution_count": 200,
     "metadata": {},
     "output_type": "execute_result"
    }
   ],
   "source": [
    "items['first_sales_month'].isna().sum()"
   ]
  },
  {
   "cell_type": "code",
   "execution_count": 201,
   "id": "d4609758-8ba7-42e9-9552-5e080d489f11",
   "metadata": {},
   "outputs": [],
   "source": [
    "# df_train['sub_category'].unique() # 5개로 줄이는 게 좋지만 일단 실행하기로 함"
   ]
  },
  {
   "cell_type": "code",
   "execution_count": 202,
   "id": "655739aa-b9f6-47dc-9da2-b645124d1eab",
   "metadata": {},
   "outputs": [],
   "source": [
    "# item_category_id와 sub_category 정보를 df_train에서 추출 후 중복 제거\n",
    "item_categories = df_train[['item_category_id', 'sub_category']].drop_duplicates().reset_index(drop=True)"
   ]
  },
  {
   "cell_type": "code",
   "execution_count": 203,
   "id": "e9248472-2a86-478b-8256-9ac4153e54bb",
   "metadata": {},
   "outputs": [],
   "source": [
    "# 레이블 인코더 생성\n",
    "label_encoder = LabelEncoder()\n",
    "\n",
    "# 대분류 피처 레이블 인코딩\n",
    "item_categories['sub_category'] = label_encoder.fit_transform(item_categories['sub_category'])"
   ]
  },
  {
   "cell_type": "markdown",
   "id": "f8f15db5-6773-4f91-8351-08b2d6083faf",
   "metadata": {},
   "source": [
    "### 파생 변수 생성\n",
    "- 월, 상점, 상품별 월간 판매량과 평균 판매가 변수를 만들고, 기준 feature별 상품 판매건수 feature를 만들어 준다."
   ]
  },
  {
   "cell_type": "code",
   "execution_count": 204,
   "id": "c515b45b-148d-4aec-83b2-199941684cf6",
   "metadata": {},
   "outputs": [
    {
     "data": {
      "text/html": [
       "<div>\n",
       "<style scoped>\n",
       "    .dataframe tbody tr th:only-of-type {\n",
       "        vertical-align: middle;\n",
       "    }\n",
       "\n",
       "    .dataframe tbody tr th {\n",
       "        vertical-align: top;\n",
       "    }\n",
       "\n",
       "    .dataframe thead th {\n",
       "        text-align: right;\n",
       "    }\n",
       "</style>\n",
       "<table border=\"1\" class=\"dataframe\">\n",
       "  <thead>\n",
       "    <tr style=\"text-align: right;\">\n",
       "      <th></th>\n",
       "      <th>date_block_num</th>\n",
       "      <th>shop_id</th>\n",
       "      <th>item_id</th>\n",
       "      <th>item_cnt_monthly</th>\n",
       "      <th>mean_item_price</th>\n",
       "    </tr>\n",
       "  </thead>\n",
       "  <tbody>\n",
       "    <tr>\n",
       "      <th>0</th>\n",
       "      <td>0</td>\n",
       "      <td>59</td>\n",
       "      <td>22154</td>\n",
       "      <td>1.0</td>\n",
       "      <td>999.0</td>\n",
       "    </tr>\n",
       "    <tr>\n",
       "      <th>1</th>\n",
       "      <td>0</td>\n",
       "      <td>59</td>\n",
       "      <td>2552</td>\n",
       "      <td>NaN</td>\n",
       "      <td>NaN</td>\n",
       "    </tr>\n",
       "    <tr>\n",
       "      <th>2</th>\n",
       "      <td>0</td>\n",
       "      <td>59</td>\n",
       "      <td>2554</td>\n",
       "      <td>NaN</td>\n",
       "      <td>NaN</td>\n",
       "    </tr>\n",
       "    <tr>\n",
       "      <th>3</th>\n",
       "      <td>0</td>\n",
       "      <td>59</td>\n",
       "      <td>2555</td>\n",
       "      <td>NaN</td>\n",
       "      <td>NaN</td>\n",
       "    </tr>\n",
       "    <tr>\n",
       "      <th>4</th>\n",
       "      <td>0</td>\n",
       "      <td>59</td>\n",
       "      <td>2564</td>\n",
       "      <td>NaN</td>\n",
       "      <td>NaN</td>\n",
       "    </tr>\n",
       "  </tbody>\n",
       "</table>\n",
       "</div>"
      ],
      "text/plain": [
       "   date_block_num  shop_id  item_id  item_cnt_monthly  mean_item_price\n",
       "0               0       59    22154               1.0            999.0\n",
       "1               0       59     2552               NaN              NaN\n",
       "2               0       59     2554               NaN              NaN\n",
       "3               0       59     2555               NaN              NaN\n",
       "4               0       59     2564               NaN              NaN"
      ]
     },
     "execution_count": 204,
     "metadata": {},
     "output_type": "execute_result"
    }
   ],
   "source": [
    "# 충돌 방지를 위해 기존 컬럼 삭제\n",
    "train = train.drop(columns=['item_cnt_monthly'], errors='ignore')\n",
    "\n",
    "group = df_train.groupby(idx_features).agg({'item_cnt_day': 'sum',\n",
    "                                               'item_price': 'mean'})\n",
    "group = group.reset_index()\n",
    "group = group.rename(columns={'item_cnt_day': 'item_cnt_monthly', 'item_price': 'mean_item_price'})\n",
    "\n",
    "train = train.merge(group, on=idx_features, how='left')\n",
    "\n",
    "train.head()"
   ]
  },
  {
   "cell_type": "code",
   "execution_count": 205,
   "id": "d3e19af9-e785-44e2-b63d-609817a190c7",
   "metadata": {},
   "outputs": [],
   "source": [
    "# concat 전에 test에 item_cnt_monthly가 있으면 제거"
   ]
  },
  {
   "cell_type": "markdown",
   "id": "fd4f02a6-75d3-4109-8f90-7613afb53213",
   "metadata": {},
   "source": [
    "### test data를 train에 합치기"
   ]
  },
  {
   "cell_type": "code",
   "execution_count": 206,
   "id": "43e12600-489e-4d6c-8968-987471c37d9c",
   "metadata": {
    "scrolled": true
   },
   "outputs": [
    {
     "data": {
      "text/html": [
       "<div>\n",
       "<style scoped>\n",
       "    .dataframe tbody tr th:only-of-type {\n",
       "        vertical-align: middle;\n",
       "    }\n",
       "\n",
       "    .dataframe tbody tr th {\n",
       "        vertical-align: top;\n",
       "    }\n",
       "\n",
       "    .dataframe thead th {\n",
       "        text-align: right;\n",
       "    }\n",
       "</style>\n",
       "<table border=\"1\" class=\"dataframe\">\n",
       "  <thead>\n",
       "    <tr style=\"text-align: right;\">\n",
       "      <th></th>\n",
       "      <th>date_block_num</th>\n",
       "      <th>shop_id</th>\n",
       "      <th>item_id</th>\n",
       "      <th>item_cnt_monthly</th>\n",
       "      <th>mean_item_price</th>\n",
       "    </tr>\n",
       "  </thead>\n",
       "  <tbody>\n",
       "    <tr>\n",
       "      <th>0</th>\n",
       "      <td>0</td>\n",
       "      <td>59</td>\n",
       "      <td>22154</td>\n",
       "      <td>1.0</td>\n",
       "      <td>999.0</td>\n",
       "    </tr>\n",
       "    <tr>\n",
       "      <th>1</th>\n",
       "      <td>0</td>\n",
       "      <td>59</td>\n",
       "      <td>2552</td>\n",
       "      <td>0.0</td>\n",
       "      <td>0.0</td>\n",
       "    </tr>\n",
       "    <tr>\n",
       "      <th>2</th>\n",
       "      <td>0</td>\n",
       "      <td>59</td>\n",
       "      <td>2554</td>\n",
       "      <td>0.0</td>\n",
       "      <td>0.0</td>\n",
       "    </tr>\n",
       "    <tr>\n",
       "      <th>3</th>\n",
       "      <td>0</td>\n",
       "      <td>59</td>\n",
       "      <td>2555</td>\n",
       "      <td>0.0</td>\n",
       "      <td>0.0</td>\n",
       "    </tr>\n",
       "    <tr>\n",
       "      <th>4</th>\n",
       "      <td>0</td>\n",
       "      <td>59</td>\n",
       "      <td>2564</td>\n",
       "      <td>0.0</td>\n",
       "      <td>0.0</td>\n",
       "    </tr>\n",
       "  </tbody>\n",
       "</table>\n",
       "</div>"
      ],
      "text/plain": [
       "   date_block_num  shop_id  item_id  item_cnt_monthly  mean_item_price\n",
       "0               0       59    22154               1.0            999.0\n",
       "1               0       59     2552               0.0              0.0\n",
       "2               0       59     2554               0.0              0.0\n",
       "3               0       59     2555               0.0              0.0\n",
       "4               0       59     2564               0.0              0.0"
      ]
     },
     "execution_count": 206,
     "metadata": {},
     "output_type": "execute_result"
    }
   ],
   "source": [
    "# 테스트 데이터 월ID를 34로 설정\n",
    "test['date_block_num'] = 34\n",
    "\n",
    "# train과 test 이어붙이기\n",
    "all_data = pd.concat([train, test.drop('ID', axis=1)],\n",
    "                     ignore_index=True,\n",
    "                     keys=idx_features)\n",
    "# 결측값을 0으로 대체\n",
    "all_data = all_data.fillna(0)\n",
    "\n",
    "all_data.head()"
   ]
  },
  {
   "cell_type": "markdown",
   "id": "98c53a82-64c2-4453-8e75-b81c0b1853c6",
   "metadata": {},
   "source": [
    "item_cnt_monthly컬럼이 하나가 되어야 함"
   ]
  },
  {
   "cell_type": "code",
   "execution_count": 207,
   "id": "5d43b613-94e7-49ff-9d7c-b2164c404d05",
   "metadata": {
    "scrolled": true
   },
   "outputs": [
    {
     "data": {
      "text/html": [
       "<div>\n",
       "<style scoped>\n",
       "    .dataframe tbody tr th:only-of-type {\n",
       "        vertical-align: middle;\n",
       "    }\n",
       "\n",
       "    .dataframe tbody tr th {\n",
       "        vertical-align: top;\n",
       "    }\n",
       "\n",
       "    .dataframe thead th {\n",
       "        text-align: right;\n",
       "    }\n",
       "</style>\n",
       "<table border=\"1\" class=\"dataframe\">\n",
       "  <thead>\n",
       "    <tr style=\"text-align: right;\">\n",
       "      <th></th>\n",
       "      <th>date_block_num</th>\n",
       "      <th>shop_id</th>\n",
       "      <th>item_id</th>\n",
       "      <th>item_cnt_monthly</th>\n",
       "      <th>mean_item_price</th>\n",
       "    </tr>\n",
       "  </thead>\n",
       "  <tbody>\n",
       "    <tr>\n",
       "      <th>0</th>\n",
       "      <td>0</td>\n",
       "      <td>59</td>\n",
       "      <td>22154</td>\n",
       "      <td>1.0</td>\n",
       "      <td>999.0</td>\n",
       "    </tr>\n",
       "    <tr>\n",
       "      <th>1</th>\n",
       "      <td>0</td>\n",
       "      <td>59</td>\n",
       "      <td>2552</td>\n",
       "      <td>0.0</td>\n",
       "      <td>0.0</td>\n",
       "    </tr>\n",
       "    <tr>\n",
       "      <th>2</th>\n",
       "      <td>0</td>\n",
       "      <td>59</td>\n",
       "      <td>2554</td>\n",
       "      <td>0.0</td>\n",
       "      <td>0.0</td>\n",
       "    </tr>\n",
       "    <tr>\n",
       "      <th>3</th>\n",
       "      <td>0</td>\n",
       "      <td>59</td>\n",
       "      <td>2555</td>\n",
       "      <td>0.0</td>\n",
       "      <td>0.0</td>\n",
       "    </tr>\n",
       "    <tr>\n",
       "      <th>4</th>\n",
       "      <td>0</td>\n",
       "      <td>59</td>\n",
       "      <td>2564</td>\n",
       "      <td>0.0</td>\n",
       "      <td>0.0</td>\n",
       "    </tr>\n",
       "  </tbody>\n",
       "</table>\n",
       "</div>"
      ],
      "text/plain": [
       "   date_block_num  shop_id  item_id  item_cnt_monthly  mean_item_price\n",
       "0               0       59    22154               1.0            999.0\n",
       "1               0       59     2552               0.0              0.0\n",
       "2               0       59     2554               0.0              0.0\n",
       "3               0       59     2555               0.0              0.0\n",
       "4               0       59     2564               0.0              0.0"
      ]
     },
     "execution_count": 207,
     "metadata": {},
     "output_type": "execute_result"
    }
   ],
   "source": [
    "# 테스트 데이터 월ID를 34로 설정\n",
    "test['date_block_num'] = 34\n",
    "\n",
    "# train과 test 이어붙이기\n",
    "all_data = pd.concat([train, test.drop('ID', axis=1)],\n",
    "                     ignore_index=True,\n",
    "                     keys=idx_features)\n",
    "# 결측값을 0으로 대체\n",
    "all_data = all_data.fillna(0)\n",
    "\n",
    "all_data.head()"
   ]
  },
  {
   "cell_type": "markdown",
   "id": "c16824b2-c902-428c-9138-cb5f577f1ecd",
   "metadata": {},
   "source": [
    "판매건수가 붙지 않는 문제 발생 -> 일단 진행"
   ]
  },
  {
   "cell_type": "markdown",
   "id": "bf1c031e-8026-4f28-bd4c-7e42e977ea2b",
   "metadata": {},
   "source": [
    "all_data에 item_category_id가 없어서 merge가 안 됨"
   ]
  },
  {
   "cell_type": "code",
   "execution_count": 208,
   "id": "e4b0a01a-44d3-469e-89bc-56b0265ac086",
   "metadata": {},
   "outputs": [
    {
     "name": "stdout",
     "output_type": "stream",
     "text": [
      "65.0% 압축됨\n"
     ]
    }
   ],
   "source": [
    "all_data = downcast(all_data)"
   ]
  },
  {
   "cell_type": "code",
   "execution_count": 209,
   "id": "e2e90ebc-6095-42f8-852d-ec9c1e0778c7",
   "metadata": {},
   "outputs": [],
   "source": [
    "del shops, items, item_categories\n",
    "gc.collect();"
   ]
  },
  {
   "cell_type": "markdown",
   "id": "ff3a70f0-c2e6-4bbf-b829-d57c63d01409",
   "metadata": {},
   "source": [
    "### 시차(time lag) feature 생성\n",
    "타깃값과 관련된 \"기준 feauture별 월간 평균 판매량\" feature를 만들고 이를 활용해 시차 feature를 만들도록한다."
   ]
  },
  {
   "cell_type": "code",
   "execution_count": 210,
   "id": "ba6f41cb-c003-4bba-af2f-ba237a9562d7",
   "metadata": {},
   "outputs": [],
   "source": [
    "def add_mean_features(df, mean_features, idx_features):\n",
    "    # 기준 피처 확인 \n",
    "    assert (idx_features[0] == 'date_block_num') and \\\n",
    "           len(idx_features) in [2, 3]\n",
    "\n",
    "    # 파생 피처명 설정 \n",
    "    if len(idx_features) == 2:\n",
    "        feature_name = idx_features[1] + '별 평균 판매량'\n",
    "    else:\n",
    "        feature_name = idx_features[1] + ' ' + idx_features[2] + '별 평균 판매량'\n",
    "\n",
    "    # 기준 피처를 토대로 그룹화해 월간 평균 판매량 구하기 \n",
    "    group = df.groupby(idx_features).agg({'item_cnt_monthly': 'mean'})\n",
    "    group = group.reset_index()\n",
    "    group = group.rename(columns={'item_cnt_monthly': feature_name})\n",
    "\n",
    "    # df와 group 병합 \n",
    "    df = df.merge(group, on=idx_features, how='left')\n",
    "    # 데이터 다운캐스팅 \n",
    "    df = downcast(df, verbose=False)\n",
    "    # 새로 만든 feature_name 피처명을 mean_features 리스트에 추가 \n",
    "    mean_features.append(feature_name)\n",
    "\n",
    "    # 가비지 컬렉션\n",
    "    del group\n",
    "    gc.collect()\n",
    "\n",
    "    return df, mean_features"
   ]
  },
  {
   "cell_type": "code",
   "execution_count": null,
   "id": "80609435-d212-4b4f-9406-9edc65fd469c",
   "metadata": {},
   "outputs": [],
   "source": []
  },
  {
   "cell_type": "code",
   "execution_count": 211,
   "id": "d33b7740-091a-4cc9-b672-67a4a2d8d633",
   "metadata": {},
   "outputs": [
    {
     "data": {
      "text/html": [
       "<div>\n",
       "<style scoped>\n",
       "    .dataframe tbody tr th:only-of-type {\n",
       "        vertical-align: middle;\n",
       "    }\n",
       "\n",
       "    .dataframe tbody tr th {\n",
       "        vertical-align: top;\n",
       "    }\n",
       "\n",
       "    .dataframe thead th {\n",
       "        text-align: right;\n",
       "    }\n",
       "</style>\n",
       "<table border=\"1\" class=\"dataframe\">\n",
       "  <thead>\n",
       "    <tr style=\"text-align: right;\">\n",
       "      <th></th>\n",
       "      <th>date_block_num</th>\n",
       "      <th>shop_id</th>\n",
       "      <th>item_id</th>\n",
       "      <th>item_cnt_monthly</th>\n",
       "      <th>mean_item_price</th>\n",
       "    </tr>\n",
       "  </thead>\n",
       "  <tbody>\n",
       "    <tr>\n",
       "      <th>0</th>\n",
       "      <td>0</td>\n",
       "      <td>59</td>\n",
       "      <td>22154</td>\n",
       "      <td>1.0</td>\n",
       "      <td>999.0</td>\n",
       "    </tr>\n",
       "    <tr>\n",
       "      <th>1</th>\n",
       "      <td>0</td>\n",
       "      <td>59</td>\n",
       "      <td>2552</td>\n",
       "      <td>0.0</td>\n",
       "      <td>0.0</td>\n",
       "    </tr>\n",
       "    <tr>\n",
       "      <th>2</th>\n",
       "      <td>0</td>\n",
       "      <td>59</td>\n",
       "      <td>2554</td>\n",
       "      <td>0.0</td>\n",
       "      <td>0.0</td>\n",
       "    </tr>\n",
       "    <tr>\n",
       "      <th>3</th>\n",
       "      <td>0</td>\n",
       "      <td>59</td>\n",
       "      <td>2555</td>\n",
       "      <td>0.0</td>\n",
       "      <td>0.0</td>\n",
       "    </tr>\n",
       "    <tr>\n",
       "      <th>4</th>\n",
       "      <td>0</td>\n",
       "      <td>59</td>\n",
       "      <td>2564</td>\n",
       "      <td>0.0</td>\n",
       "      <td>0.0</td>\n",
       "    </tr>\n",
       "  </tbody>\n",
       "</table>\n",
       "</div>"
      ],
      "text/plain": [
       "   date_block_num  shop_id  item_id  item_cnt_monthly  mean_item_price\n",
       "0               0       59    22154               1.0            999.0\n",
       "1               0       59     2552               0.0              0.0\n",
       "2               0       59     2554               0.0              0.0\n",
       "3               0       59     2555               0.0              0.0\n",
       "4               0       59     2564               0.0              0.0"
      ]
     },
     "execution_count": 211,
     "metadata": {},
     "output_type": "execute_result"
    }
   ],
   "source": [
    "# 테스트 데이터 월ID를 34로 설정\n",
    "test['date_block_num'] = 34\n",
    "\n",
    "# train과 test 이어붙이기\n",
    "all_data = pd.concat([train, test.drop('ID', axis=1)],\n",
    "                     ignore_index=True,\n",
    "                     keys=idx_features)\n",
    "# 결측값을 0으로 대체\n",
    "all_data = all_data.fillna(0)\n",
    "\n",
    "all_data.head()"
   ]
  },
  {
   "cell_type": "code",
   "execution_count": 212,
   "id": "0523649e-5245-4d65-97bb-028a9356ee89",
   "metadata": {},
   "outputs": [],
   "source": [
    "# all_data와 df_train에 모두 존재하는 키를 기준으로 병합 (예: shop_id)\n",
    "# df_train에서 중복 제거 후 city 컬럼만 추출\n",
    "shop_city = df_train[['shop_id', 'city']].drop_duplicates()\n",
    "\n",
    "# all_data에 병합 (중복 컬럼 방지)\n",
    "all_data = all_data.merge(shop_city, on='shop_id', how='left')"
   ]
  },
  {
   "cell_type": "markdown",
   "id": "09fee616-fdcb-422d-a409-51a05f4d26ab",
   "metadata": {},
   "source": [
    "all_data에 city컬럼을 merge 하였으므로 아래 행이 실행되어야 함"
   ]
  },
  {
   "cell_type": "code",
   "execution_count": 213,
   "id": "0689bba1-a05a-4d3a-a39e-7240bac98a38",
   "metadata": {
    "scrolled": true
   },
   "outputs": [
    {
     "data": {
      "text/plain": [
       "['item_id별 평균 판매량', 'item_id city별 평균 판매량']"
      ]
     },
     "execution_count": 213,
     "metadata": {},
     "output_type": "execute_result"
    }
   ],
   "source": [
    "# 그룹화 기준 피처 중 '상품ID'가 포함된 파생 피처명을 담을 리스트\n",
    "item_mean_features = []\n",
    "\n",
    "# ['월ID', '상품ID']로 그룹화한 월간 평균 판매량 파생 피처 생성\n",
    "all_data, item_mean_features = add_mean_features(df=all_data,\n",
    "                                                 mean_features=item_mean_features,\n",
    "                                                 idx_features=['date_block_num', 'item_id'])\n",
    "\n",
    "# ['월ID', '상품ID', '도시']로 그룹화한 월간 평균 판매량 파생 피처 생성\n",
    "all_data, item_mean_features = add_mean_features(df=all_data,\n",
    "                                                 mean_features=item_mean_features,\n",
    "                                                 idx_features=['date_block_num', 'item_id', 'city'])\n",
    "\n",
    "item_mean_features"
   ]
  },
  {
   "cell_type": "code",
   "execution_count": 214,
   "id": "c8aeae0e-1b1b-4576-8640-8b63a8569829",
   "metadata": {},
   "outputs": [],
   "source": [
    "# item_id 기준으로 item_category_id 병합\n",
    "item_category = df_train[['item_id', 'item_category_id']].drop_duplicates()\n",
    "all_data = all_data.merge(item_category, on='item_id', how='left')"
   ]
  },
  {
   "cell_type": "code",
   "execution_count": 215,
   "id": "1ac52217-3a47-4fff-9707-6f3a07a91d38",
   "metadata": {},
   "outputs": [
    {
     "data": {
      "text/plain": [
       "['shop_id item_category_id별 평균 판매량']"
      ]
     },
     "execution_count": 215,
     "metadata": {},
     "output_type": "execute_result"
    }
   ],
   "source": [
    "# 그룹화 기준 피처 중 '상점ID'가 포함된 파생 피처명을 담을 리스트\n",
    "shop_mean_features = []\n",
    "\n",
    "# ['월ID', '상점ID', '상품분류ID']로 그룹화한 월간 평균 판매량 파생 피처 생성\n",
    "all_data, shop_mean_features = add_mean_features(df=all_data, \n",
    "                                                 mean_features=shop_mean_features,\n",
    "                                                 idx_features=['date_block_num', 'shop_id', 'item_category_id'])\n",
    "\n",
    "shop_mean_features"
   ]
  },
  {
   "cell_type": "code",
   "execution_count": 216,
   "id": "75991eb4-270e-4ae1-8718-303a70550da8",
   "metadata": {},
   "outputs": [],
   "source": [
    "# def add_lag_features(df, lag_features_to_clip, idx_features, \n",
    "#                      lag_feature, nlags=3, clip=False):\n",
    "#     # 시차 피처 생성에 필요한 DataFrame 부분만 복사 \n",
    "#     df_temp = df[idx_features + [lag_feature]].copy() \n",
    "\n",
    "#     # 시차 피처 생성 \n",
    "#     for i in range(1, nlags+1):\n",
    "#         # 시차 피처명 \n",
    "#         lag_feature_name = lag_feature +'_시차' + str(i)\n",
    "#         # df_temp 열 이름 설정 \n",
    "#         df_temp.columns = idx_features + [lag_feature_name]\n",
    "#         # df_temp의 date_block_num 피처에 1 더하기 \n",
    "#         df_temp['date_block_num'] += 1\n",
    "#         # idx_feature를 기준으로 df와 df_temp 병합하기 \n",
    "#         df = df.merge(df_temp.drop_duplicates(), \n",
    "#                       on=idx_features, \n",
    "#                       how='left')\n",
    "#         # 결측값 0으로 대체 \n",
    "#         df[lag_feature_name] = df[lag_feature_name].fillna(0)\n",
    "#         # 0 ~ 20 사이로 제한할 시차 피처명을 lag_features_to_clip에 추가 \n",
    "#         if clip: \n",
    "#             lag_features_to_clip.append(lag_feature_name)\n",
    "\n",
    "#     # 데이터 다운캐스팅\n",
    "#     df = downcast(df, False)\n",
    "#     # 가비지 컬렉션\n",
    "#     del df_temp\n",
    "#     gc.collect()\n",
    "\n",
    "#     return df, lag_features_to_clip"
   ]
  },
  {
   "cell_type": "code",
   "execution_count": 217,
   "id": "f10a4876-ffbf-4a2d-871b-112b9a1b6ad6",
   "metadata": {},
   "outputs": [],
   "source": [
    "# def add_lag_features(df, lag_features_to_clip, idx_features, \n",
    "#                      lag_feature, nlags=3, clip=False):\n",
    "#     df_temp = df[idx_features + [lag_feature]].copy()\n",
    "\n",
    "#     for i in range(1, nlags + 1):\n",
    "#         lag_feature_name = lag_feature + '_시차' + str(i)\n",
    "        \n",
    "#         # 복사 후 컬럼명 변경은 루프 안에서 이뤄져야 하되, 컬럼 수가 정확해야 함\n",
    "#         df_shift = df_temp.copy()\n",
    "#         df_shift['date_block_num'] += i\n",
    "#         df_shift.rename(columns={lag_feature: lag_feature_name}, inplace=True)\n",
    "\n",
    "#         df = df.merge(df_shift, on=idx_features, how='left')\n",
    "#         df[lag_feature_name] = df[lag_feature_name].fillna(0)\n",
    "\n",
    "#         if clip:\n",
    "#             lag_features_to_clip.append(lag_feature_name)\n",
    "\n",
    "#     df = downcast(df, False)\n",
    "#     gc.collect()\n",
    "#     return df, lag_features_to_clip\n"
   ]
  },
  {
   "cell_type": "code",
   "execution_count": 218,
   "id": "79452034-7d56-4e22-8332-ed2cfb410e81",
   "metadata": {},
   "outputs": [],
   "source": [
    "def add_lag_features(df, lag_features_to_clip, idx_features, \n",
    "                     lag_feature, nlags=3, clip=False):\n",
    "    df_temp = df[idx_features + [lag_feature]].copy()\n",
    "\n",
    "    for i in range(1, nlags + 1):\n",
    "        lag_feature_name = f'{lag_feature}_시차{i}'\n",
    "\n",
    "        df_shift = df_temp.copy()\n",
    "        df_shift['date_block_num'] += i\n",
    "        df_shift.rename(columns={lag_feature: lag_feature_name}, inplace=True)\n",
    "\n",
    "        # 병합\n",
    "        df = df.merge(df_shift, on=idx_features, how='left')\n",
    "\n",
    "        # fillna 안전하게 적용\n",
    "        if lag_feature_name in df.columns:\n",
    "            df.loc[:, lag_feature_name] = df[lag_feature_name].fillna(0)\n",
    "        else:\n",
    "            print(f\"[경고] 병합 후 {lag_feature_name} 컬럼이 존재하지 않습니다.\")\n",
    "\n",
    "        # 클리핑 대상 피처 추가\n",
    "        if clip:\n",
    "            lag_features_to_clip.append(lag_feature_name)\n",
    "\n",
    "    df = downcast(df, False)\n",
    "    gc.collect()\n",
    "    return df, lag_features_to_clip\n"
   ]
  },
  {
   "cell_type": "code",
   "execution_count": null,
   "id": "e8e87eb9-5a69-44a5-9b12-7f17f352f526",
   "metadata": {},
   "outputs": [],
   "source": [
    "lag_features_to_clip = [] # 0 ~ 20 사이로 제한할 시차 피처명을 담을 리스트\n",
    "idx_features = ['date_block_num', 'shop_id', 'item_id'] # 기준 피처\n",
    "\n",
    "# idx_features를 기준으로 월간 판매량의 세 달치 시차 피처 생성\n",
    "all_data, lag_features_to_clip = add_lag_features(df=all_data, \n",
    "                                                  lag_features_to_clip=lag_features_to_clip,\n",
    "                                                  idx_features=idx_features,\n",
    "                                                  lag_feature='item_cnt_monthly', \n",
    "                                                  nlags=3,\n",
    "                                                  clip=True) # 값을 0 ~ 20 사이로 제한"
   ]
  },
  {
   "cell_type": "code",
   "execution_count": null,
   "id": "b1f821b0-7c47-46b1-a852-fe277301bc5f",
   "metadata": {},
   "outputs": [],
   "source": [
    "# idx_features를 기준으로 판매건수 피처의 세 달치 시차 피처 생성\n",
    "all_data, lag_features_to_clip = add_lag_features(df=all_data, \n",
    "                                                  lag_features_to_clip=lag_features_to_clip,\n",
    "                                                  idx_features=idx_features,\n",
    "                                                  lag_feature='item_cnt_monthly', \n",
    "                                                  nlags=3)\n",
    "\n",
    "# idx_features를 기준으로 평균 판매가 피처의 세 달치 시차 피처 생성\n",
    "all_data, lag_features_to_clip = add_lag_features(df=all_data, \n",
    "                                                  lag_features_to_clip=lag_features_to_clip,\n",
    "                                                  idx_features=idx_features,\n",
    "                                                  lag_feature='mean_item_price', \n",
    "                                                  nlags=3)"
   ]
  },
  {
   "cell_type": "code",
   "execution_count": null,
   "id": "2e0ead40-89d2-4ee9-a959-395cdd83f3c6",
   "metadata": {},
   "outputs": [],
   "source": [
    "all_data"
   ]
  },
  {
   "cell_type": "code",
   "execution_count": null,
   "id": "b99fbcb9-cd01-4585-9dd0-39a9705d3887",
   "metadata": {},
   "outputs": [],
   "source": [
    "print(all_data.columns.tolist())"
   ]
  },
  {
   "cell_type": "code",
   "execution_count": null,
   "id": "5ee4dbcd-0b42-42f9-997c-5ec2828b9d7b",
   "metadata": {},
   "outputs": [],
   "source": [
    "# idx_features를 기준으로 item_mean_features 요소별 시차 피처 생성\n",
    "for item_mean_feature in item_mean_features:\n",
    "    all_data, lag_features_to_clip = add_lag_features(df=all_data, \n",
    "                                                      lag_features_to_clip=lag_features_to_clip, \n",
    "                                                      idx_features=idx_features, \n",
    "                                                      lag_feature=item_mean_feature, \n",
    "                                                      nlags=3,\n",
    "                                                      clip=True)\n",
    "# item_mean_features 피처 제거\n",
    "all_data = all_data.drop(item_mean_features, axis=1)"
   ]
  },
  {
   "cell_type": "code",
   "execution_count": null,
   "id": "25e1c770-376a-4880-9a7b-35a305f5c44f",
   "metadata": {},
   "outputs": [],
   "source": [
    "# ['월ID', '상점ID', '상품분류ID']를 기준으로 shop_mean_features 요소별 시차 피처 생성\n",
    "for shop_mean_feature in shop_mean_features:\n",
    "    all_data, lag_features_to_clip = add_lag_features(df=all_data,\n",
    "                                                      lag_features_to_clip=lag_features_to_clip, \n",
    "                                                      idx_features=['date_block_num', 'shop_id', 'item_id'], \n",
    "                                                      lag_feature=shop_mean_feature, \n",
    "                                                      nlags=3,\n",
    "                                                      clip=True)\n",
    "# shop_mean_features 피처 제거\n",
    "all_data = all_data.drop(shop_mean_features, axis=1)"
   ]
  },
  {
   "cell_type": "code",
   "execution_count": null,
   "id": "894d4cfb-d397-4f17-ade0-3c6182324ec1",
   "metadata": {},
   "outputs": [],
   "source": [
    "# 월ID 3미만인 데이터 제거\n",
    "all_data = all_data.drop(all_data[all_data['date_block_num'] < 3].index)"
   ]
  },
  {
   "cell_type": "code",
   "execution_count": null,
   "id": "8eb3324a-d3d9-41cc-9683-80fdf98d2991",
   "metadata": {},
   "outputs": [],
   "source": [
    "# all_data"
   ]
  },
  {
   "cell_type": "markdown",
   "id": "2294d3b1-a064-431b-b16a-d63e9edfab47",
   "metadata": {},
   "source": [
    "### 기타 feature engineering"
   ]
  },
  {
   "cell_type": "code",
   "execution_count": null,
   "id": "9fe4bd71-4818-4e7f-a0fa-855b9548c675",
   "metadata": {},
   "outputs": [],
   "source": [
    "pd.set_option('display.max_columns', None)\n",
    "all_data"
   ]
  },
  {
   "cell_type": "code",
   "execution_count": null,
   "id": "bc7d1365-0b6a-44fc-b05b-caa4fb47f8ea",
   "metadata": {},
   "outputs": [],
   "source": [
    "all_data['월간 판매량 시차평균'] = all_data[['item_cnt_monthly_시차1',\n",
    "                                          'item_cnt_monthly_시차2', \n",
    "                                          'item_cnt_monthly_시차3']].mean(axis=1)"
   ]
  },
  {
   "cell_type": "code",
   "execution_count": null,
   "id": "57ee4e87-6959-489e-99af-d12c91ff7e00",
   "metadata": {},
   "outputs": [],
   "source": [
    "# 0 ~ 20 사이로 값 제한\n",
    "all_data[lag_features_to_clip + ['item_cnt_monthly', '월간 판매량 시차평균']] = all_data[lag_features_to_clip + ['월간 판매량', '월간 판매량 시차평균']].clip(0, 20)"
   ]
  },
  {
   "cell_type": "markdown",
   "id": "c8c0329d-3114-43fb-8810-eaf166dbcfd2",
   "metadata": {},
   "source": [
    "월간판매량 -> item_cnt_monthly 로 바꿔야 할 것 같은데 오류 날까봐 일단 둠"
   ]
  },
  {
   "cell_type": "code",
   "execution_count": null,
   "id": "47e2cedc-5c54-465f-add7-3caaa0f52b3a",
   "metadata": {},
   "outputs": [],
   "source": [
    "all_data['시차변화량1'] = all_data['item_cnt_monthly_시차1']/all_data['item_cnt_monthly_시차2']\n",
    "all_data['시차변화량1'] = all_data['시차변화량1'].replace([np.inf, -np.inf], \n",
    "                                                        np.nan).fillna(0)\n",
    "\n",
    "all_data['시차변화량2'] = all_data['item_cnt_monthly_시차2']/all_data['item_cnt_monthly_시차3']\n",
    "all_data['시차변화량2'] = all_data['시차변화량2'].replace([np.inf, -np.inf], \n",
    "                                                        np.nan).fillna(0)"
   ]
  },
  {
   "cell_type": "code",
   "execution_count": null,
   "id": "c112c499-8d17-47b2-bbd0-f61b2a6d781a",
   "metadata": {},
   "outputs": [],
   "source": [
    "all_data['신상여부'] = all_data['first_sales_month'] == all_data['date_block_num']"
   ]
  },
  {
   "cell_type": "code",
   "execution_count": null,
   "id": "7b39ed7e-d90b-47c7-8a47-a7a4d577375c",
   "metadata": {},
   "outputs": [],
   "source": [
    "all_data['월'] = all_data['date_block_num'] % 12"
   ]
  },
  {
   "cell_type": "code",
   "execution_count": null,
   "id": "338d164a-7e50-4deb-acd9-3f5213c51983",
   "metadata": {},
   "outputs": [],
   "source": [
    "# 첫 판매월, 평균 판매가, 판매건수 피처 제거\n",
    "all_data = all_data.drop(['first_sales_month', 'mean_item_price', 'item_cnt_monthly'], axis=1)\n",
    "all_data = downcast(all_data, False) # 데이터 다운캐스팅"
   ]
  },
  {
   "cell_type": "code",
   "execution_count": null,
   "id": "d78b81e6-2ad2-4d0b-a8ea-5fa1ef504cae",
   "metadata": {},
   "outputs": [],
   "source": [
    "all_data.info()"
   ]
  },
  {
   "cell_type": "code",
   "execution_count": null,
   "id": "70fb5fee-b58e-4031-8700-16d1063c504f",
   "metadata": {},
   "outputs": [],
   "source": [
    "# 훈련 데이터 (피처)\n",
    "X_train = all_data[all_data['date_block_num'] < 33]\n",
    "X_train = X_train.drop(['item_cnt_monthly'], axis=1)\n",
    "# 검증 데이터 (피처)\n",
    "X_valid = all_data[all_data['date_block_num'] == 33]\n",
    "X_valid = X_valid.drop(['item_cnt_monthly'], axis=1)\n",
    "# 테스트 데이터 (피처)\n",
    "X_test = all_data[all_data['date_block_num'] == 34]\n",
    "X_test = X_test.drop(['item_cnt_monthly'], axis=1)\n",
    "\n",
    "# 훈련 데이터 (타깃값)\n",
    "y_train = all_data[all_data['date_block_num'] < 33]['item_cnt_monthly']\n",
    "# 검증 데이터 (타깃값)\n",
    "y_valid = all_data[all_data['date_block_num'] == 33]['item_cnt_monthly']\n",
    "\n",
    "# 가비지 컬렉션\n",
    "del all_data\n",
    "gc.collect();"
   ]
  },
  {
   "cell_type": "code",
   "execution_count": null,
   "id": "feaef3b9-d707-440a-b6fa-d2ded05f203c",
   "metadata": {},
   "outputs": [],
   "source": []
  }
 ],
 "metadata": {
  "kernelspec": {
   "display_name": "Python 3 (ipykernel)",
   "language": "python",
   "name": "python3"
  },
  "language_info": {
   "codemirror_mode": {
    "name": "ipython",
    "version": 3
   },
   "file_extension": ".py",
   "mimetype": "text/x-python",
   "name": "python",
   "nbconvert_exporter": "python",
   "pygments_lexer": "ipython3",
   "version": "3.12.7"
  }
 },
 "nbformat": 4,
 "nbformat_minor": 5
}
